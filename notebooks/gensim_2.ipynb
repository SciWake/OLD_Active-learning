{
 "cells": [
  {
   "cell_type": "code",
   "execution_count": 4,
   "id": "0d22e2f9",
   "metadata": {},
   "outputs": [],
   "source": [
    "import copy\n",
    "import time\n",
    "import numpy as np\n",
    "import pandas as pd\n",
    "\n",
    "from gensim.models.fasttext import FastText, load_facebook_model\n",
    "from gensim.models.callbacks import CallbackAny2Vec\n",
    "from gensim.models import word2vec"
   ]
  },
  {
   "cell_type": "code",
   "execution_count": 5,
   "id": "59f0646d-b57e-47c2-ad7f-ae1bb9bdec5c",
   "metadata": {},
   "outputs": [],
   "source": [
    "# pip install --upgrade gensim==4.2.0"
   ]
  },
  {
   "cell_type": "code",
   "execution_count": 6,
   "id": "5b0055e0-d220-42f0-98c3-2311a44dd208",
   "metadata": {},
   "outputs": [
    {
     "name": "stdout",
     "output_type": "stream",
     "text": [
      "Name: gensim\n",
      "Version: 4.2.0\n",
      "Summary: Python framework for fast Vector Space Modelling\n",
      "Home-page: http://radimrehurek.com/gensim\n",
      "Author: Radim Rehurek\n",
      "Author-email: me@radimrehurek.com\n",
      "License: LGPL-2.1-only\n",
      "Location: c:\\users\\bimas\\anaconda3\\lib\\site-packages\n",
      "Requires: scipy, numpy, Cython, smart-open\n",
      "Required-by: \n",
      "Note: you may need to restart the kernel to use updated packages.\n"
     ]
    }
   ],
   "source": [
    "pip show gensim"
   ]
  },
  {
   "cell_type": "markdown",
   "id": "970cc676",
   "metadata": {},
   "source": [
    "# Train model"
   ]
  },
  {
   "cell_type": "code",
   "execution_count": 6,
   "id": "d1dc89cf",
   "metadata": {},
   "outputs": [],
   "source": [
    "class callback(CallbackAny2Vec):\n",
    "    '''Callback for Word2vec with resetting loss on the end of each epoch.'''\n",
    "\n",
    "    def __init__(self):\n",
    "        self.epoch = 1\n",
    "\n",
    "        self.epoch = 1\n",
    "        self.losses = []\n",
    "        self.cumu_loss = 0.0\n",
    "        self.previous_epoch_time = time.time()\n",
    "\n",
    "        self.best_model = None\n",
    "        self.best_loss = 1e+30\n",
    "\n",
    "    def on_epoch_end(self, model):\n",
    "        loss = model.get_latest_training_loss()\n",
    "\n",
    "        norms = [np.linalg.norm(v) for v in model.wv.vectors]\n",
    "        now = time.time()\n",
    "        epoch_seconds = now - self.previous_epoch_time\n",
    "        self.previous_epoch_time = now\n",
    "        self.cumu_loss += float(loss)\n",
    "        print(f\"Loss after epoch {self.epoch}: {loss} (cumulative loss so far: {self.cumu_loss}) \"+\\\n",
    "              f\"-> epoch took {round(epoch_seconds, 2)} s - vector norms min/avg/max: \"+\\\n",
    "              f\"{round(float(min(norms)), 2)}, {round(float(sum(norms)/len(norms)), 2)}, {round(float(max(norms)), 2)}\")\n",
    "        self.epoch += 1\n",
    "\n",
    "        self.losses.append(float(loss))\n",
    "        \n",
    "        # reset loss inside model\n",
    "        model.running_training_loss = 0.0\n",
    "\n",
    "        if loss < self.best_loss:\n",
    "            self.best_model = copy.deepcopy(model)\n",
    "            self.best_loss = loss\n",
    "\n",
    "        if self.epoch % 5 == 0:\n",
    "            self.plot(path=\"w2v_training_loss.png\")\n",
    "\n",
    "    def plot(self, path):\n",
    "        fig, (ax1) = plt.subplots(ncols=1, figsize=(6, 6))\n",
    "        ax1.plot(self.losses, label=\"loss per epoch\")\n",
    "        plt.legend()\n",
    "        plt.savefig(path)\n",
    "        plt.close()\n",
    "        print(\"Plotted loss.\")"
   ]
  },
  {
   "cell_type": "code",
   "execution_count": 11,
   "id": "2e36dc4f",
   "metadata": {},
   "outputs": [],
   "source": [
    "class callback(CallbackAny2Vec):\n",
    "    \"\"\"\n",
    "    Callback to print loss after each epoch\n",
    "    \"\"\"\n",
    "    def __init__(self):\n",
    "        self.epoch = 0\n",
    "\n",
    "    def on_epoch_end(self, model):\n",
    "        loss = model.get_latest_training_loss()\n",
    "        if self.epoch == 0:\n",
    "            print('Loss after epoch {}: {}'.format(self.epoch, loss))\n",
    "        else:\n",
    "            print('Loss after epoch {}: {}'.format(self.epoch, loss - self.loss_previous_step))\n",
    "        self.epoch += 1\n",
    "        self.loss_previous_step = loss"
   ]
  },
  {
   "cell_type": "markdown",
   "id": "4578ee8d",
   "metadata": {},
   "source": [
    "### load model"
   ]
  },
  {
   "cell_type": "code",
   "execution_count": null,
   "id": "2aff8739",
   "metadata": {},
   "outputs": [],
   "source": [
    "# model = load_facebook_model('cc.ru.300.bin')\n",
    "model = FastText.load_fasttext_format('wiki.ru.bin')"
   ]
  },
  {
   "cell_type": "markdown",
   "id": "73bc8bba",
   "metadata": {},
   "source": [
    "### train model"
   ]
  },
  {
   "cell_type": "code",
   "execution_count": 12,
   "id": "58b4d9d3",
   "metadata": {},
   "outputs": [
    {
     "name": "stdout",
     "output_type": "stream",
     "text": [
      "building vocabulary...\n"
     ]
    }
   ],
   "source": [
    "print(\"building vocabulary...\")\n",
    "model.build_vocab(sentence_corpus[:500], update=True)"
   ]
  },
  {
   "cell_type": "code",
   "execution_count": 13,
   "id": "a3d7ae1c-e7cf-4189-8d23-a995420df866",
   "metadata": {
    "collapsed": true,
    "jupyter": {
     "outputs_hidden": true
    },
    "tags": []
   },
   "outputs": [
    {
     "name": "stdout",
     "output_type": "stream",
     "text": [
      "training Word2Vec...\n",
      "Loss after epoch 0: 0.0\n",
      "Loss after epoch 1: 0.0\n",
      "Loss after epoch 2: 0.0\n",
      "Loss after epoch 3: 0.0\n",
      "Loss after epoch 4: 0.0\n",
      "Loss after epoch 5: 0.0\n",
      "Loss after epoch 6: 0.0\n",
      "Loss after epoch 7: 0.0\n",
      "Loss after epoch 8: 0.0\n",
      "Loss after epoch 9: 0.0\n",
      "Loss after epoch 10: 0.0\n",
      "Loss after epoch 11: 0.0\n",
      "Loss after epoch 12: 0.0\n",
      "Loss after epoch 13: 0.0\n",
      "Loss after epoch 14: 0.0\n",
      "Loss after epoch 15: 0.0\n",
      "Loss after epoch 16: 0.0\n",
      "Loss after epoch 17: 0.0\n",
      "Loss after epoch 18: 0.0\n",
      "Loss after epoch 19: 0.0\n"
     ]
    },
    {
     "name": "stderr",
     "output_type": "stream",
     "text": [
      "ERROR:root:Internal Python error in the inspect module.\n",
      "Below is the traceback from this internal error.\n",
      "\n"
     ]
    },
    {
     "name": "stdout",
     "output_type": "stream",
     "text": [
      "Traceback (most recent call last):\n",
      "  File \"C:\\Users\\bimas\\anaconda3\\lib\\site-packages\\IPython\\core\\interactiveshell.py\", line 3444, in run_code\n",
      "    exec(code_obj, self.user_global_ns, self.user_ns)\n",
      "  File \"C:\\Users\\bimas\\AppData\\Local\\Temp/ipykernel_4996/1605362792.py\", line 3, in <module>\n",
      "    model.train(\n",
      "  File \"C:\\Users\\bimas\\anaconda3\\lib\\site-packages\\gensim\\models\\word2vec.py\", line 1083, in train\n",
      "    self._clear_post_train()\n",
      "  File \"C:\\Users\\bimas\\anaconda3\\lib\\site-packages\\gensim\\models\\fasttext.py\", line 460, in _clear_post_train\n",
      "    self.wv.adjust_vectors()  # ensure composite-word vecs reflect latest training\n",
      "  File \"C:\\Users\\bimas\\anaconda3\\lib\\site-packages\\gensim\\models\\fasttext.py\", line 1181, in adjust_vectors\n",
      "    self.vectors[i] += self.vectors_ngrams[nh]\n",
      "KeyboardInterrupt\n",
      "\n",
      "During handling of the above exception, another exception occurred:\n",
      "\n",
      "Traceback (most recent call last):\n",
      "  File \"C:\\Users\\bimas\\anaconda3\\lib\\site-packages\\IPython\\core\\interactiveshell.py\", line 2064, in showtraceback\n",
      "    stb = value._render_traceback_()\n",
      "AttributeError: 'KeyboardInterrupt' object has no attribute '_render_traceback_'\n",
      "\n",
      "During handling of the above exception, another exception occurred:\n",
      "\n",
      "Traceback (most recent call last):\n",
      "  File \"C:\\Users\\bimas\\anaconda3\\lib\\site-packages\\IPython\\core\\ultratb.py\", line 1101, in get_records\n",
      "    return _fixed_getinnerframes(etb, number_of_lines_of_context, tb_offset)\n",
      "  File \"C:\\Users\\bimas\\anaconda3\\lib\\site-packages\\IPython\\core\\ultratb.py\", line 248, in wrapped\n",
      "    return f(*args, **kwargs)\n",
      "  File \"C:\\Users\\bimas\\anaconda3\\lib\\site-packages\\IPython\\core\\ultratb.py\", line 281, in _fixed_getinnerframes\n",
      "    records = fix_frame_records_filenames(inspect.getinnerframes(etb, context))\n",
      "  File \"C:\\Users\\bimas\\anaconda3\\lib\\inspect.py\", line 1541, in getinnerframes\n",
      "    frameinfo = (tb.tb_frame,) + getframeinfo(tb, context)\n",
      "  File \"C:\\Users\\bimas\\anaconda3\\lib\\inspect.py\", line 1499, in getframeinfo\n",
      "    filename = getsourcefile(frame) or getfile(frame)\n",
      "  File \"C:\\Users\\bimas\\anaconda3\\lib\\inspect.py\", line 709, in getsourcefile\n",
      "    if getattr(getmodule(object, filename), '__loader__', None) is not None:\n",
      "  File \"C:\\Users\\bimas\\anaconda3\\lib\\inspect.py\", line 755, in getmodule\n",
      "    os.path.realpath(f)] = module.__name__\n",
      "  File \"C:\\Users\\bimas\\anaconda3\\lib\\ntpath.py\", line 664, in realpath\n",
      "    if _getfinalpathname(spath) == path:\n",
      "KeyboardInterrupt\n"
     ]
    },
    {
     "ename": "TypeError",
     "evalue": "object of type 'NoneType' has no len()",
     "output_type": "error",
     "traceback": [
      "\u001b[1;31m---------------------------------------------------------------------------\u001b[0m",
      "\u001b[1;31mKeyboardInterrupt\u001b[0m                         Traceback (most recent call last)",
      "    \u001b[1;31m[... skipping hidden 1 frame]\u001b[0m\n",
      "\u001b[1;32m~\\AppData\\Local\\Temp/ipykernel_4996/1605362792.py\u001b[0m in \u001b[0;36m<module>\u001b[1;34m\u001b[0m\n\u001b[0;32m      2\u001b[0m \u001b[0mcallbacker\u001b[0m \u001b[1;33m=\u001b[0m \u001b[0mcallback\u001b[0m\u001b[1;33m(\u001b[0m\u001b[1;33m)\u001b[0m\u001b[1;33m\u001b[0m\u001b[1;33m\u001b[0m\u001b[0m\n\u001b[1;32m----> 3\u001b[1;33m model.train(\n\u001b[0m\u001b[0;32m      4\u001b[0m         \u001b[0msentence_corpus\u001b[0m\u001b[1;33m[\u001b[0m\u001b[1;33m:\u001b[0m\u001b[1;36m500\u001b[0m\u001b[1;33m]\u001b[0m\u001b[1;33m,\u001b[0m\u001b[1;33m\u001b[0m\u001b[1;33m\u001b[0m\u001b[0m\n",
      "\u001b[1;32m~\\anaconda3\\lib\\site-packages\\gensim\\models\\word2vec.py\u001b[0m in \u001b[0;36mtrain\u001b[1;34m(self, corpus_iterable, corpus_file, total_examples, total_words, epochs, start_alpha, end_alpha, word_count, queue_factor, report_delay, compute_loss, callbacks, **kwargs)\u001b[0m\n\u001b[0;32m   1082\u001b[0m         \u001b[0mself\u001b[0m\u001b[1;33m.\u001b[0m\u001b[0mtrain_count\u001b[0m \u001b[1;33m+=\u001b[0m \u001b[1;36m1\u001b[0m  \u001b[1;31m# number of times train() has been called\u001b[0m\u001b[1;33m\u001b[0m\u001b[1;33m\u001b[0m\u001b[0m\n\u001b[1;32m-> 1083\u001b[1;33m         \u001b[0mself\u001b[0m\u001b[1;33m.\u001b[0m\u001b[0m_clear_post_train\u001b[0m\u001b[1;33m(\u001b[0m\u001b[1;33m)\u001b[0m\u001b[1;33m\u001b[0m\u001b[1;33m\u001b[0m\u001b[0m\n\u001b[0m\u001b[0;32m   1084\u001b[0m \u001b[1;33m\u001b[0m\u001b[0m\n",
      "\u001b[1;32m~\\anaconda3\\lib\\site-packages\\gensim\\models\\fasttext.py\u001b[0m in \u001b[0;36m_clear_post_train\u001b[1;34m(self)\u001b[0m\n\u001b[0;32m    459\u001b[0m         \u001b[0msuper\u001b[0m\u001b[1;33m(\u001b[0m\u001b[0mFastText\u001b[0m\u001b[1;33m,\u001b[0m \u001b[0mself\u001b[0m\u001b[1;33m)\u001b[0m\u001b[1;33m.\u001b[0m\u001b[0m_clear_post_train\u001b[0m\u001b[1;33m(\u001b[0m\u001b[1;33m)\u001b[0m\u001b[1;33m\u001b[0m\u001b[1;33m\u001b[0m\u001b[0m\n\u001b[1;32m--> 460\u001b[1;33m         \u001b[0mself\u001b[0m\u001b[1;33m.\u001b[0m\u001b[0mwv\u001b[0m\u001b[1;33m.\u001b[0m\u001b[0madjust_vectors\u001b[0m\u001b[1;33m(\u001b[0m\u001b[1;33m)\u001b[0m  \u001b[1;31m# ensure composite-word vecs reflect latest training\u001b[0m\u001b[1;33m\u001b[0m\u001b[1;33m\u001b[0m\u001b[0m\n\u001b[0m\u001b[0;32m    461\u001b[0m \u001b[1;33m\u001b[0m\u001b[0m\n",
      "\u001b[1;32m~\\anaconda3\\lib\\site-packages\\gensim\\models\\fasttext.py\u001b[0m in \u001b[0;36madjust_vectors\u001b[1;34m(self)\u001b[0m\n\u001b[0;32m   1180\u001b[0m             \u001b[1;32mfor\u001b[0m \u001b[0mnh\u001b[0m \u001b[1;32min\u001b[0m \u001b[0mngram_buckets\u001b[0m\u001b[1;33m:\u001b[0m\u001b[1;33m\u001b[0m\u001b[1;33m\u001b[0m\u001b[0m\n\u001b[1;32m-> 1181\u001b[1;33m                 \u001b[0mself\u001b[0m\u001b[1;33m.\u001b[0m\u001b[0mvectors\u001b[0m\u001b[1;33m[\u001b[0m\u001b[0mi\u001b[0m\u001b[1;33m]\u001b[0m \u001b[1;33m+=\u001b[0m \u001b[0mself\u001b[0m\u001b[1;33m.\u001b[0m\u001b[0mvectors_ngrams\u001b[0m\u001b[1;33m[\u001b[0m\u001b[0mnh\u001b[0m\u001b[1;33m]\u001b[0m\u001b[1;33m\u001b[0m\u001b[1;33m\u001b[0m\u001b[0m\n\u001b[0m\u001b[0;32m   1182\u001b[0m             \u001b[0mself\u001b[0m\u001b[1;33m.\u001b[0m\u001b[0mvectors\u001b[0m\u001b[1;33m[\u001b[0m\u001b[0mi\u001b[0m\u001b[1;33m]\u001b[0m \u001b[1;33m/=\u001b[0m \u001b[0mlen\u001b[0m\u001b[1;33m(\u001b[0m\u001b[0mngram_buckets\u001b[0m\u001b[1;33m)\u001b[0m \u001b[1;33m+\u001b[0m \u001b[1;36m1\u001b[0m\u001b[1;33m\u001b[0m\u001b[1;33m\u001b[0m\u001b[0m\n",
      "\u001b[1;31mKeyboardInterrupt\u001b[0m: ",
      "\nDuring handling of the above exception, another exception occurred:\n",
      "\u001b[1;31mAttributeError\u001b[0m                            Traceback (most recent call last)",
      "\u001b[1;32m~\\anaconda3\\lib\\site-packages\\IPython\\core\\interactiveshell.py\u001b[0m in \u001b[0;36mshowtraceback\u001b[1;34m(self, exc_tuple, filename, tb_offset, exception_only, running_compiled_code)\u001b[0m\n\u001b[0;32m   2063\u001b[0m                         \u001b[1;31m# in the engines. This should return a list of strings.\u001b[0m\u001b[1;33m\u001b[0m\u001b[1;33m\u001b[0m\u001b[0m\n\u001b[1;32m-> 2064\u001b[1;33m                         \u001b[0mstb\u001b[0m \u001b[1;33m=\u001b[0m \u001b[0mvalue\u001b[0m\u001b[1;33m.\u001b[0m\u001b[0m_render_traceback_\u001b[0m\u001b[1;33m(\u001b[0m\u001b[1;33m)\u001b[0m\u001b[1;33m\u001b[0m\u001b[1;33m\u001b[0m\u001b[0m\n\u001b[0m\u001b[0;32m   2065\u001b[0m                     \u001b[1;32mexcept\u001b[0m \u001b[0mException\u001b[0m\u001b[1;33m:\u001b[0m\u001b[1;33m\u001b[0m\u001b[1;33m\u001b[0m\u001b[0m\n",
      "\u001b[1;31mAttributeError\u001b[0m: 'KeyboardInterrupt' object has no attribute '_render_traceback_'",
      "\nDuring handling of the above exception, another exception occurred:\n",
      "\u001b[1;31mTypeError\u001b[0m                                 Traceback (most recent call last)",
      "    \u001b[1;31m[... skipping hidden 1 frame]\u001b[0m\n",
      "\u001b[1;32m~\\anaconda3\\lib\\site-packages\\IPython\\core\\interactiveshell.py\u001b[0m in \u001b[0;36mshowtraceback\u001b[1;34m(self, exc_tuple, filename, tb_offset, exception_only, running_compiled_code)\u001b[0m\n\u001b[0;32m   2064\u001b[0m                         \u001b[0mstb\u001b[0m \u001b[1;33m=\u001b[0m \u001b[0mvalue\u001b[0m\u001b[1;33m.\u001b[0m\u001b[0m_render_traceback_\u001b[0m\u001b[1;33m(\u001b[0m\u001b[1;33m)\u001b[0m\u001b[1;33m\u001b[0m\u001b[1;33m\u001b[0m\u001b[0m\n\u001b[0;32m   2065\u001b[0m                     \u001b[1;32mexcept\u001b[0m \u001b[0mException\u001b[0m\u001b[1;33m:\u001b[0m\u001b[1;33m\u001b[0m\u001b[1;33m\u001b[0m\u001b[0m\n\u001b[1;32m-> 2066\u001b[1;33m                         stb = self.InteractiveTB.structured_traceback(etype,\n\u001b[0m\u001b[0;32m   2067\u001b[0m                                             value, tb, tb_offset=tb_offset)\n\u001b[0;32m   2068\u001b[0m \u001b[1;33m\u001b[0m\u001b[0m\n",
      "\u001b[1;32m~\\anaconda3\\lib\\site-packages\\IPython\\core\\ultratb.py\u001b[0m in \u001b[0;36mstructured_traceback\u001b[1;34m(self, etype, value, tb, tb_offset, number_of_lines_of_context)\u001b[0m\n\u001b[0;32m   1365\u001b[0m         \u001b[1;32melse\u001b[0m\u001b[1;33m:\u001b[0m\u001b[1;33m\u001b[0m\u001b[1;33m\u001b[0m\u001b[0m\n\u001b[0;32m   1366\u001b[0m             \u001b[0mself\u001b[0m\u001b[1;33m.\u001b[0m\u001b[0mtb\u001b[0m \u001b[1;33m=\u001b[0m \u001b[0mtb\u001b[0m\u001b[1;33m\u001b[0m\u001b[1;33m\u001b[0m\u001b[0m\n\u001b[1;32m-> 1367\u001b[1;33m         return FormattedTB.structured_traceback(\n\u001b[0m\u001b[0;32m   1368\u001b[0m             self, etype, value, tb, tb_offset, number_of_lines_of_context)\n\u001b[0;32m   1369\u001b[0m \u001b[1;33m\u001b[0m\u001b[0m\n",
      "\u001b[1;32m~\\anaconda3\\lib\\site-packages\\IPython\\core\\ultratb.py\u001b[0m in \u001b[0;36mstructured_traceback\u001b[1;34m(self, etype, value, tb, tb_offset, number_of_lines_of_context)\u001b[0m\n\u001b[0;32m   1265\u001b[0m         \u001b[1;32mif\u001b[0m \u001b[0mmode\u001b[0m \u001b[1;32min\u001b[0m \u001b[0mself\u001b[0m\u001b[1;33m.\u001b[0m\u001b[0mverbose_modes\u001b[0m\u001b[1;33m:\u001b[0m\u001b[1;33m\u001b[0m\u001b[1;33m\u001b[0m\u001b[0m\n\u001b[0;32m   1266\u001b[0m             \u001b[1;31m# Verbose modes need a full traceback\u001b[0m\u001b[1;33m\u001b[0m\u001b[1;33m\u001b[0m\u001b[0m\n\u001b[1;32m-> 1267\u001b[1;33m             return VerboseTB.structured_traceback(\n\u001b[0m\u001b[0;32m   1268\u001b[0m                 \u001b[0mself\u001b[0m\u001b[1;33m,\u001b[0m \u001b[0metype\u001b[0m\u001b[1;33m,\u001b[0m \u001b[0mvalue\u001b[0m\u001b[1;33m,\u001b[0m \u001b[0mtb\u001b[0m\u001b[1;33m,\u001b[0m \u001b[0mtb_offset\u001b[0m\u001b[1;33m,\u001b[0m \u001b[0mnumber_of_lines_of_context\u001b[0m\u001b[1;33m\u001b[0m\u001b[1;33m\u001b[0m\u001b[0m\n\u001b[0;32m   1269\u001b[0m             )\n",
      "\u001b[1;32m~\\anaconda3\\lib\\site-packages\\IPython\\core\\ultratb.py\u001b[0m in \u001b[0;36mstructured_traceback\u001b[1;34m(self, etype, evalue, etb, tb_offset, number_of_lines_of_context)\u001b[0m\n\u001b[0;32m   1122\u001b[0m         \u001b[1;34m\"\"\"Return a nice text document describing the traceback.\"\"\"\u001b[0m\u001b[1;33m\u001b[0m\u001b[1;33m\u001b[0m\u001b[0m\n\u001b[0;32m   1123\u001b[0m \u001b[1;33m\u001b[0m\u001b[0m\n\u001b[1;32m-> 1124\u001b[1;33m         formatted_exception = self.format_exception_as_a_whole(etype, evalue, etb, number_of_lines_of_context,\n\u001b[0m\u001b[0;32m   1125\u001b[0m                                                                tb_offset)\n\u001b[0;32m   1126\u001b[0m \u001b[1;33m\u001b[0m\u001b[0m\n",
      "\u001b[1;32m~\\anaconda3\\lib\\site-packages\\IPython\\core\\ultratb.py\u001b[0m in \u001b[0;36mformat_exception_as_a_whole\u001b[1;34m(self, etype, evalue, etb, number_of_lines_of_context, tb_offset)\u001b[0m\n\u001b[0;32m   1080\u001b[0m \u001b[1;33m\u001b[0m\u001b[0m\n\u001b[0;32m   1081\u001b[0m \u001b[1;33m\u001b[0m\u001b[0m\n\u001b[1;32m-> 1082\u001b[1;33m         \u001b[0mlast_unique\u001b[0m\u001b[1;33m,\u001b[0m \u001b[0mrecursion_repeat\u001b[0m \u001b[1;33m=\u001b[0m \u001b[0mfind_recursion\u001b[0m\u001b[1;33m(\u001b[0m\u001b[0morig_etype\u001b[0m\u001b[1;33m,\u001b[0m \u001b[0mevalue\u001b[0m\u001b[1;33m,\u001b[0m \u001b[0mrecords\u001b[0m\u001b[1;33m)\u001b[0m\u001b[1;33m\u001b[0m\u001b[1;33m\u001b[0m\u001b[0m\n\u001b[0m\u001b[0;32m   1083\u001b[0m \u001b[1;33m\u001b[0m\u001b[0m\n\u001b[0;32m   1084\u001b[0m         \u001b[0mframes\u001b[0m \u001b[1;33m=\u001b[0m \u001b[0mself\u001b[0m\u001b[1;33m.\u001b[0m\u001b[0mformat_records\u001b[0m\u001b[1;33m(\u001b[0m\u001b[0mrecords\u001b[0m\u001b[1;33m,\u001b[0m \u001b[0mlast_unique\u001b[0m\u001b[1;33m,\u001b[0m \u001b[0mrecursion_repeat\u001b[0m\u001b[1;33m)\u001b[0m\u001b[1;33m\u001b[0m\u001b[1;33m\u001b[0m\u001b[0m\n",
      "\u001b[1;32m~\\anaconda3\\lib\\site-packages\\IPython\\core\\ultratb.py\u001b[0m in \u001b[0;36mfind_recursion\u001b[1;34m(etype, value, records)\u001b[0m\n\u001b[0;32m    380\u001b[0m     \u001b[1;31m# first frame (from in to out) that looks different.\u001b[0m\u001b[1;33m\u001b[0m\u001b[1;33m\u001b[0m\u001b[0m\n\u001b[0;32m    381\u001b[0m     \u001b[1;32mif\u001b[0m \u001b[1;32mnot\u001b[0m \u001b[0mis_recursion_error\u001b[0m\u001b[1;33m(\u001b[0m\u001b[0metype\u001b[0m\u001b[1;33m,\u001b[0m \u001b[0mvalue\u001b[0m\u001b[1;33m,\u001b[0m \u001b[0mrecords\u001b[0m\u001b[1;33m)\u001b[0m\u001b[1;33m:\u001b[0m\u001b[1;33m\u001b[0m\u001b[1;33m\u001b[0m\u001b[0m\n\u001b[1;32m--> 382\u001b[1;33m         \u001b[1;32mreturn\u001b[0m \u001b[0mlen\u001b[0m\u001b[1;33m(\u001b[0m\u001b[0mrecords\u001b[0m\u001b[1;33m)\u001b[0m\u001b[1;33m,\u001b[0m \u001b[1;36m0\u001b[0m\u001b[1;33m\u001b[0m\u001b[1;33m\u001b[0m\u001b[0m\n\u001b[0m\u001b[0;32m    383\u001b[0m \u001b[1;33m\u001b[0m\u001b[0m\n\u001b[0;32m    384\u001b[0m     \u001b[1;31m# Select filename, lineno, func_name to track frames with\u001b[0m\u001b[1;33m\u001b[0m\u001b[1;33m\u001b[0m\u001b[0m\n",
      "\u001b[1;31mTypeError\u001b[0m: object of type 'NoneType' has no len()"
     ]
    }
   ],
   "source": [
    "print(\"training Word2Vec...\")\n",
    "callbacker = callback()\n",
    "model.train(\n",
    "        sentence_corpus[:500],\n",
    "#         epochs=model.iter,\n",
    "        epochs=20,        \n",
    "    total_examples=model.corpus_count,\n",
    "        compute_loss=True,\n",
    "        callbacks=[callbacker]\n",
    "    )"
   ]
  },
  {
   "cell_type": "code",
   "execution_count": 16,
   "id": "1e277449",
   "metadata": {},
   "outputs": [
    {
     "data": {
      "text/plain": [
       "0.0"
      ]
     },
     "execution_count": 16,
     "metadata": {},
     "output_type": "execute_result"
    }
   ],
   "source": [
    "model.get_latest_training_loss()"
   ]
  },
  {
   "cell_type": "code",
   "execution_count": 74,
   "id": "ef3695fb",
   "metadata": {},
   "outputs": [
    {
     "data": {
      "text/html": [
       "<div>\n",
       "<style scoped>\n",
       "    .dataframe tbody tr th:only-of-type {\n",
       "        vertical-align: middle;\n",
       "    }\n",
       "\n",
       "    .dataframe tbody tr th {\n",
       "        vertical-align: top;\n",
       "    }\n",
       "\n",
       "    .dataframe thead th {\n",
       "        text-align: right;\n",
       "    }\n",
       "</style>\n",
       "<table border=\"1\" class=\"dataframe\">\n",
       "  <thead>\n",
       "    <tr style=\"text-align: right;\">\n",
       "      <th></th>\n",
       "      <th>text</th>\n",
       "      <th>label</th>\n",
       "      <th>lemmas</th>\n",
       "    </tr>\n",
       "  </thead>\n",
       "  <tbody>\n",
       "    <tr>\n",
       "      <th>0</th>\n",
       "      <td>@first_timee хоть я и школота, но поверь, у на...</td>\n",
       "      <td>positive</td>\n",
       "      <td>first_timee хоть я и школотый но поверь у мы т...</td>\n",
       "    </tr>\n",
       "    <tr>\n",
       "      <th>1</th>\n",
       "      <td>Да, все-таки он немного похож на него. Но мой ...</td>\n",
       "      <td>positive</td>\n",
       "      <td>да всё таки он немного похожий на он но мой ма...</td>\n",
       "    </tr>\n",
       "    <tr>\n",
       "      <th>2</th>\n",
       "      <td>RT @KatiaCheh: Ну ты идиотка) я испугалась за ...</td>\n",
       "      <td>positive</td>\n",
       "      <td>rt katiacheh: ну ты идиотка) я испугаться за т...</td>\n",
       "    </tr>\n",
       "    <tr>\n",
       "      <th>3</th>\n",
       "      <td>RT @digger2912: \"Кто то в углу сидит и погибае...</td>\n",
       "      <td>positive</td>\n",
       "      <td>rt digger : кто то в угол сидеть и погибать от...</td>\n",
       "    </tr>\n",
       "    <tr>\n",
       "      <th>4</th>\n",
       "      <td>@irina_dyshkant Вот что значит страшилка :D\\nН...</td>\n",
       "      <td>positive</td>\n",
       "      <td>irina_dyshkant вот что значит страшилка :d но ...</td>\n",
       "    </tr>\n",
       "  </tbody>\n",
       "</table>\n",
       "</div>"
      ],
      "text/plain": [
       "                                                text     label  \\\n",
       "0  @first_timee хоть я и школота, но поверь, у на...  positive   \n",
       "1  Да, все-таки он немного похож на него. Но мой ...  positive   \n",
       "2  RT @KatiaCheh: Ну ты идиотка) я испугалась за ...  positive   \n",
       "3  RT @digger2912: \"Кто то в углу сидит и погибае...  positive   \n",
       "4  @irina_dyshkant Вот что значит страшилка :D\\nН...  positive   \n",
       "\n",
       "                                              lemmas  \n",
       "0  first_timee хоть я и школотый но поверь у мы т...  \n",
       "1  да всё таки он немного похожий на он но мой ма...  \n",
       "2  rt katiacheh: ну ты идиотка) я испугаться за т...  \n",
       "3  rt digger : кто то в угол сидеть и погибать от...  \n",
       "4  irina_dyshkant вот что значит страшилка :d но ...  "
      ]
     },
     "execution_count": 74,
     "metadata": {},
     "output_type": "execute_result"
    }
   ],
   "source": [
    "data = pd.read_csv('twitter.zip')\n",
    "data.head()"
   ]
  },
  {
   "cell_type": "code",
   "execution_count": 75,
   "id": "703a4a2e-3f6b-498e-a46f-1963bf152748",
   "metadata": {},
   "outputs": [],
   "source": [
    "emb = [sg_model.get_sentence_vector(line) for line in data[\"lemmas\"]]"
   ]
  },
  {
   "cell_type": "code",
   "execution_count": 76,
   "id": "23d424dd-a462-4c15-922b-7cf126c74405",
   "metadata": {},
   "outputs": [],
   "source": [
    "labels = [1 if label == 'positive' else 0 for label in data['label']]"
   ]
  },
  {
   "cell_type": "code",
   "execution_count": 77,
   "id": "56681e6d",
   "metadata": {},
   "outputs": [
    {
     "data": {
      "text/plain": [
       "True"
      ]
     },
     "execution_count": 77,
     "metadata": {},
     "output_type": "execute_result"
    }
   ],
   "source": [
    "len(labels) == len(emb)"
   ]
  },
  {
   "cell_type": "code",
   "execution_count": 78,
   "id": "69078609-26f8-46ff-acbd-a7b3744ab26d",
   "metadata": {},
   "outputs": [],
   "source": [
    "from sklearn.model_selection import train_test_split\n",
    "from sklearn.linear_model import LogisticRegression"
   ]
  },
  {
   "cell_type": "code",
   "execution_count": 79,
   "id": "65538228",
   "metadata": {},
   "outputs": [],
   "source": [
    "train_data, test_data, train_labels, test_labels = train_test_split(emb, labels, test_size=0.3, shuffle=True, stratify=labels)"
   ]
  },
  {
   "cell_type": "code",
   "execution_count": 80,
   "id": "693b5647-3867-4c4f-b7fb-394ae8809401",
   "metadata": {},
   "outputs": [
    {
     "data": {
      "text/plain": [
       "LogisticRegression(n_jobs=-1)"
      ]
     },
     "execution_count": 80,
     "metadata": {},
     "output_type": "execute_result"
    }
   ],
   "source": [
    "lr = LogisticRegression(n_jobs=-1)\n",
    "lr.fit(train_data, train_labels)"
   ]
  },
  {
   "cell_type": "code",
   "execution_count": 81,
   "id": "ebf55906-52aa-4f6f-b524-3fb42f7f1a5b",
   "metadata": {},
   "outputs": [],
   "source": [
    "from sklearn.metrics import roc_auc_score"
   ]
  },
  {
   "cell_type": "code",
   "execution_count": 85,
   "id": "ca87c543-c70f-48be-85ca-cd6214801634",
   "metadata": {},
   "outputs": [
    {
     "name": "stdout",
     "output_type": "stream",
     "text": [
      "Logistic regression ROC-AUC: 0.84378918855271\n"
     ]
    }
   ],
   "source": [
    "lr_pred = lr.decision_function(test_data)\n",
    "print('Logistic regression ROC-AUC:', roc_auc_score(test_labels, lr_pred))"
   ]
  },
  {
   "cell_type": "markdown",
   "id": "c24d4f0e-142b-4fbb-ac5e-b281c647feab",
   "metadata": {},
   "source": [
    "# Дообучение "
   ]
  },
  {
   "cell_type": "code",
   "execution_count": 3,
   "id": "51b6237b-a162-448e-8ea5-19b2e8aee517",
   "metadata": {},
   "outputs": [],
   "source": [
    "import fasttext"
   ]
  },
  {
   "cell_type": "code",
   "execution_count": 1,
   "id": "35b20e1a-0914-4e2f-b879-09986767038a",
   "metadata": {},
   "outputs": [],
   "source": [
    "# sg_model = fasttext.train_unsupervised(input='perfumery.txt', dim=300, lr=0.6, word_ngrams=3, pretrainedVectors='cc.ru.300.vec')"
   ]
  },
  {
   "cell_type": "code",
   "execution_count": 57,
   "id": "4726f1ea-166a-41af-b0a9-1e4e9b63fa4f",
   "metadata": {},
   "outputs": [],
   "source": [
    "compression_opts = dict(method='zip', archive_name='perfumery.zip')  \n",
    "tables.to_csv('perfumery.zip', index=False, compression=compression_opts) "
   ]
  },
  {
   "cell_type": "code",
   "execution_count": 74,
   "id": "ffc071da-cbd3-4119-bebb-ea5e6f2c3ffd",
   "metadata": {},
   "outputs": [],
   "source": [
    "with open(\"data/processed/perfumery.txt\", \"w\", encoding='UTF-8') as file:\n",
    "    for line in tables.comment_text.values:\n",
    "        file.write(line + '\\n')"
   ]
  },
  {
   "cell_type": "code",
   "execution_count": null,
   "id": "71daa415-652b-4560-b64d-b67d13856e7c",
   "metadata": {},
   "outputs": [],
   "source": [
    "model = fasttext.train_unsupervised(input='perfumery.txt', dim=300, lr=0.07, word_ngrams=3, pretrainedVectors='cc.ru.300.vec', bucket=300000, lrUpdateRate=1)"
   ]
  },
  {
   "cell_type": "code",
   "execution_count": null,
   "id": "c8a0c026-f313-4988-a46b-814e9a3ef679",
   "metadata": {},
   "outputs": [],
   "source": []
  },
  {
   "cell_type": "code",
   "execution_count": null,
   "id": "5169b3c8-c6c8-4860-84a6-5cb18ac6c898",
   "metadata": {},
   "outputs": [],
   "source": []
  },
  {
   "cell_type": "code",
   "execution_count": null,
   "id": "19667161-9583-4b8c-9384-3a96fb292d20",
   "metadata": {},
   "outputs": [],
   "source": []
  },
  {
   "cell_type": "markdown",
   "id": "1651335b-dfca-48d9-8c6b-ca2538314dba",
   "metadata": {},
   "source": [
    "<h1 align='center'>Дообучение модели</h1>"
   ]
  },
  {
   "cell_type": "code",
   "execution_count": 2,
   "id": "6dfa3178-b949-49ee-861f-ac5e536792df",
   "metadata": {},
   "outputs": [
    {
     "name": "stderr",
     "output_type": "stream",
     "text": [
      "[nltk_data] Downloading package stopwords to\n",
      "[nltk_data]     C:\\Users\\bimas\\AppData\\Roaming\\nltk_data...\n",
      "[nltk_data]   Package stopwords is already up-to-date!\n"
     ]
    },
    {
     "data": {
      "text/plain": [
       "True"
      ]
     },
     "execution_count": 2,
     "metadata": {},
     "output_type": "execute_result"
    }
   ],
   "source": [
    "import copy\n",
    "import time\n",
    "import numpy as np\n",
    "import pandas as pd\n",
    "import re\n",
    "\n",
    "from gensim.models.fasttext import FastText, load_facebook_model\n",
    "from gensim.models.callbacks import CallbackAny2Vec\n",
    "from gensim.models import word2vec\n",
    "\n",
    "import nltk\n",
    "import pymorphy2\n",
    "from functools import lru_cache\n",
    "from nltk.corpus import stopwords\n",
    "nltk.download('stopwords')"
   ]
  },
  {
   "cell_type": "markdown",
   "id": "882b95e6-f7e9-40d8-9044-b112a7684a45",
   "metadata": {},
   "source": [
    "### Подготовка данных"
   ]
  },
  {
   "cell_type": "code",
   "execution_count": 11,
   "id": "e1a45d4a-a999-4fca-9e45-357335aec879",
   "metadata": {},
   "outputs": [],
   "source": [
    "stopw = stopwords.words('russian')\n",
    "\n",
    "class LemmaPredictText:\n",
    "    pymorphy = pymorphy2.MorphAnalyzer()\n",
    "\n",
    "    def __init__(self, regex: str = \"[А-ЯЁа-яё]+\"):\n",
    "        self.regex = re.compile(regex)\n",
    "\n",
    "    def words_only(self, text: str) -> list:\n",
    "        try:\n",
    "            return self.regex.findall(text.lower())\n",
    "        except AttributeError:\n",
    "            return []\n",
    "    \n",
    "    @staticmethod\n",
    "    def remove_stopwords(words, stopwords = stopw):\n",
    "        return [w for w in words if not w in stopwords and len(w) > 3]\n",
    "\n",
    "    @lru_cache(maxsize=128)\n",
    "    def lemma(self, text: list) -> str:\n",
    "        try:\n",
    "            return \" \".join([self.pymorphy.parse(w)[0].normal_form for w in text])\n",
    "        except AttributeError:\n",
    "            return \" \"\n",
    "\n",
    "    def clean_text(self, text, lemma=True):\n",
    "        remove = self.remove_stopwords(self.words_only(text))\n",
    "        if lemma:\n",
    "            return self.lemma(remove)\n",
    "        return \" \".join(remove)"
   ]
  },
  {
   "cell_type": "code",
   "execution_count": 4,
   "id": "24a8f872-1b97-43fa-8e68-47b561332a60",
   "metadata": {},
   "outputs": [
    {
     "data": {
      "text/html": [
       "<div>\n",
       "<style scoped>\n",
       "    .dataframe tbody tr th:only-of-type {\n",
       "        vertical-align: middle;\n",
       "    }\n",
       "\n",
       "    .dataframe tbody tr th {\n",
       "        vertical-align: top;\n",
       "    }\n",
       "\n",
       "    .dataframe thead th {\n",
       "        text-align: right;\n",
       "    }\n",
       "</style>\n",
       "<table border=\"1\" class=\"dataframe\">\n",
       "  <thead>\n",
       "    <tr style=\"text-align: right;\">\n",
       "      <th></th>\n",
       "      <th>comment_text</th>\n",
       "    </tr>\n",
       "  </thead>\n",
       "  <tbody>\n",
       "    <tr>\n",
       "      <th>0</th>\n",
       "      <td>Достоинства: очень красивый оттенок, носится д...</td>\n",
       "    </tr>\n",
       "    <tr>\n",
       "      <th>1</th>\n",
       "      <td>Достоинства: красивый,хорошо ложится\\nНедостат...</td>\n",
       "    </tr>\n",
       "    <tr>\n",
       "      <th>2</th>\n",
       "      <td>Достоинства: Богатая палитра цветов\\nБыстро со...</td>\n",
       "    </tr>\n",
       "    <tr>\n",
       "      <th>3</th>\n",
       "      <td>Достоинства: цена-качество\\nНедостатки: нет\\nК...</td>\n",
       "    </tr>\n",
       "    <tr>\n",
       "      <th>4</th>\n",
       "      <td>Достоинства: цена-качество, цвет соответствует...</td>\n",
       "    </tr>\n",
       "  </tbody>\n",
       "</table>\n",
       "</div>"
      ],
      "text/plain": [
       "                                        comment_text\n",
       "0  Достоинства: очень красивый оттенок, носится д...\n",
       "1  Достоинства: красивый,хорошо ложится\\nНедостат...\n",
       "2  Достоинства: Богатая палитра цветов\\nБыстро со...\n",
       "3  Достоинства: цена-качество\\nНедостатки: нет\\nК...\n",
       "4  Достоинства: цена-качество, цвет соответствует..."
      ]
     },
     "execution_count": 4,
     "metadata": {},
     "output_type": "execute_result"
    }
   ],
   "source": [
    "data = pd.read_csv('../data/raw/decorative/decorative.zip')\n",
    "data.head()"
   ]
  },
  {
   "cell_type": "code",
   "execution_count": 13,
   "id": "04e5048c-f929-4907-bce2-d49e35d68f02",
   "metadata": {},
   "outputs": [
    {
     "data": {
      "text/plain": [
       "'достоинства очень красивый оттенок носится долго течет нанесении меру густой недостатки комментарии беру лаки фирмы разу разочаровалась'"
      ]
     },
     "execution_count": 13,
     "metadata": {},
     "output_type": "execute_result"
    }
   ],
   "source": [
    "clear = LemmaPredictText()\n",
    "clear.clean_text(data['comment_text'][0])"
   ]
  },
  {
   "cell_type": "code",
   "execution_count": 14,
   "id": "7d193366-5e3d-4360-baec-d4c5f8fda1ef",
   "metadata": {},
   "outputs": [],
   "source": [
    "with open(\"../data/raw/decorative/decorative.txt\", \"w\", encoding='UTF-8') as file:\n",
    "    for line in data['comment_text']:\n",
    "        file.write(clear.clean_text(line, lemma=False) + '\\n')"
   ]
  },
  {
   "cell_type": "code",
   "execution_count": 17,
   "id": "5e11c2fe-a9b8-4827-825d-14114cece401",
   "metadata": {},
   "outputs": [],
   "source": [
    "import fasttext"
   ]
  },
  {
   "cell_type": "code",
   "execution_count": 18,
   "id": "684f47d7-2dee-4f68-9f05-b2dcb5d7be3e",
   "metadata": {},
   "outputs": [],
   "source": [
    "from fasttext import load_model\n",
    "\n",
    "# original BIN model loading\n",
    "model = fasttext.load_model('../models/adaptation/bucket.bin')\n",
    "lines=[]\n",
    "\n",
    "# get all words from model\n",
    "words = model.get_words()\n",
    "\n",
    "with open('../models/adaptation/buckett.vec','w') as file_out:\n",
    "    \n",
    "    # the first line must contain number of total words and vector dimension\n",
    "    file_out.write(str(len(words)) + \" \" + str(model.get_dimension()) + \"\\n\")\n",
    "\n",
    "    # line by line, you append vectors to VEC file\n",
    "    for w in words:\n",
    "        v = model.get_word_vector(w)\n",
    "        vstr = \"\"\n",
    "        for vi in v:\n",
    "            vstr += \" \" + \"{:.4f}\".format(vi)\n",
    "        try:\n",
    "            file_out.write(w + vstr+'\\n')\n",
    "        except:\n",
    "            pass"
   ]
  },
  {
   "cell_type": "code",
   "execution_count": 8,
   "id": "24d2e7c9-02c4-48b4-a536-c27ccc04975f",
   "metadata": {},
   "outputs": [],
   "source": [
    "file1 = open(\"../models/pretrained/cc.ru.300.vec\", \"r\")"
   ]
  },
  {
   "cell_type": "code",
   "execution_count": 14,
   "id": "53182acd-fb0a-4620-8994-217ed2bf54e7",
   "metadata": {},
   "outputs": [
    {
     "data": {
      "text/plain": [
       "'Рё -0.0312 -0.0627 0.0326 -0.1011 -0.1116 0.0026 -0.0074 0.0816 0.0059 -0.0264 -0.0007 0.3464 -0.0191 -0.0940 0.0732 0.0214 0.0121 -0.0765 0.1064 -0.0412 -0.0244 0.0385 -0.0555 0.0093 0.0683 0.0651 -0.0693 0.0011 -0.0293 -0.1269 0.0157 0.0154 0.0212 -0.0252 0.0794 0.0282 0.2452 -1.3073 -0.1538 -0.0466 0.0382 0.0841 0.0143 -0.1967 -0.1118 -0.0312 -0.1095 0.1742 -0.1011 -0.1492 -0.0043 0.0817 0.0548 -0.0625 -0.0001 -0.1362 0.0278 -0.2779 -0.0431 0.0420 -0.1609 0.0281 -0.0111 0.2021 -0.0444 0.1342 0.0740 0.0817 0.0065 -0.0037 0.1301 -0.1072 0.0289 0.0712 0.0586 -0.0189 -0.0563 0.0127 0.0523 -0.0480 0.0107 -0.0425 -0.2275 -0.0747 0.0998 -0.1358 0.1949 -0.0602 -0.1434 0.0277 0.0299 -0.0882 -0.1580 0.1560 0.1595 0.0469 0.0494 0.0318 -0.1870 0.0452 -0.0510 0.1230 0.0519 -0.0313 0.0520 -0.0466 0.1202 0.0730 0.0274 -0.0139 -0.0955 0.0872 -0.1418 -0.0567 0.0062 -0.0100 -0.1130 0.0364 -0.0202 0.1224 0.1075 -0.0022 0.0363 -0.0096 -0.0446 -0.0053 0.0951 0.0393 -0.1012 -0.1209 0.0646 0.0286 0.0196 -0.0835 -0.0361 -0.0563 0.0434 -0.0514 0.0967 0.0631 -0.0972 -0.0050 -0.1212 0.1060 0.0744 0.1190 0.3668 0.1058 -0.1240 -0.0058 -0.2316 0.1042 0.1937 0.0958 -0.0088 -0.0173 -0.0508 0.1476 -0.0638 -0.0635 0.0178 -0.1187 0.0258 0.0897 -0.0749 0.1428 0.0486 -0.0649 -0.0503 0.0293 0.0302 0.0338 0.0135 -0.0422 -0.0464 -0.0265 -0.0607 -0.0579 0.1152 -0.0413 -0.0540 -0.3885 -0.0080 0.0156 0.0573 0.1157 -0.0090 0.0052 -0.0713 -0.0664 0.0292 0.0135 -0.0118 -0.1085 -0.0074 0.0119 0.0795 -0.0057 0.0464 -0.0027 -0.0397 -0.1157 -0.0995 -0.0391 0.1119 -0.0445 0.0050 0.1388 -0.0471 0.0061 -0.0638 -0.0163 0.0686 0.0169 -0.0818 -0.0590 -0.0275 0.1410 0.0203 -0.1316 -0.1875 -0.0066 0.0102 -0.0300 -0.1029 0.1179 0.0283 -0.0055 0.0708 -0.0304 0.1109 0.1217 0.0600 -0.2107 0.1734 -0.0882 -0.0038 -0.0412 0.0222 -0.0830 0.0290 -0.0258 0.0038 0.0295 0.3608 -0.0562 -0.0493 -0.0832 -0.0236 -0.0415 0.4260 -0.0032 0.1015 -0.0728 -0.2007 0.0433 -0.0117 0.0925 -0.0040 -0.1238 0.0009 0.0608 0.0349 -0.0606 0.1328 0.1421 -0.0633 0.0182 0.1299 -0.1282 0.0372 0.0103 0.3241 0.0395 -0.1535 0.0724 0.0107 0.0025 -0.0619 -0.0141 -0.1246 0.0321 0.0241 0.0708 0.0621 -0.0554 -0.0186 0.0499 -0.0964 -0.1137 -0.0318 -0.0421 0.1938 -0.0291 -0.1300 -0.0910 -0.0139 0.0398 -0.2425 -0.2647\\n'"
      ]
     },
     "execution_count": 14,
     "metadata": {},
     "output_type": "execute_result"
    }
   ],
   "source": [
    "file1.readline()"
   ]
  },
  {
   "cell_type": "code",
   "execution_count": 6,
   "id": "8f6788b9-063d-4b2f-972b-4dc4c2aa7565",
   "metadata": {},
   "outputs": [],
   "source": [
    "file2 = open(\"../models/adaptation/bucket.vec\", \"r\")"
   ]
  },
  {
   "cell_type": "code",
   "execution_count": 15,
   "id": "341484ac-623e-436c-b281-6ad0485b22dd",
   "metadata": {},
   "outputs": [
    {
     "data": {
      "text/plain": [
       "'очень 0.057243332 -0.041591402 -0.029698173 0.20779037 0.31795493 0.10469255 -0.02198215 0.39753902 -0.2511466 -0.120150805 0.44121423 -0.05319007 0.03998371 0.036950655 0.22613673 0.0220737 0.15559599 0.022530865 -0.40132263 0.16269058 0.069770955 -0.32042128 0.002913421 0.30122238 0.1874357 -0.09486624 0.046340175 0.22481516 0.09074068 -0.15768519 0.18606809 0.07459086 0.008050992 -0.1956231 0.29897147 0.046348628 0.16241856 -1.8299694 0.09547446 -0.3842301 -0.15018857 -0.12526573 0.22802591 0.12941991 -0.3866573 0.36443287 -0.15409169 0.12031847 0.032276977 0.084201716 0.07854099 -0.13187969 0.048573542 0.09875352 0.112345025 0.19885144 -0.099535264 0.11232433 -0.14791022 -0.05252933 -0.6164112 -0.09680831 0.28795528 0.09956528 0.16039339 -0.027371159 -0.07719712 0.21041238 -0.28004315 0.22448777 0.10556228 0.15292981 0.17341287 -0.20523794 0.07958002 -0.2905627 -0.04519381 0.1781899 -0.074466534 -0.059174057 0.054030128 0.31795263 -0.14784396 -0.4242936 -0.12564878 0.22406606 -0.20017828 -0.047928452 -0.033565216 0.08568367 0.07257638 0.12416214 -0.007975036 0.37732816 -0.09729016 0.078635186 -0.07029823 0.03662902 0.086903736 0.05757668 -0.24064577 0.09470775 0.23758963 0.004617255 0.16513182 -0.13747148 0.0076498864 -0.056629963 -0.75277597 0.14223996 -0.23459405 0.030887377 0.24074358 -0.16383334 -0.16106625 0.014037184 0.06635481 0.17487884 0.028634809 0.1412242 0.0026645553 0.0017401685 -0.081777155 -0.09454424 0.13928309 -0.012020943 -0.07671753 -0.29322368 0.11300987 0.20672111 0.062385064 -0.028700765 -0.028761266 0.4430501 -0.16294344 -0.038922347 0.28570926 0.18604903 -0.2224389 0.1343832 0.0850003 0.07716913 0.64604354 -0.26119214 -0.75722325 0.07093059 0.16245396 0.24712603 -0.021912798 -0.0018597435 0.19647521 0.3394308 -0.40945524 0.20639141 -0.22685266 0.08515544 -0.107700124 0.16168748 0.47083405 -0.24482177 0.025530642 0.32439995 -0.5481844 -0.22130021 -0.1920362 0.06817591 -0.16872877 0.15787165 0.014517297 -0.054298937 0.0036160215 0.07505683 0.39130598 -0.17478818 -0.1124685 -0.04622503 -0.05814443 0.20523661 0.19396251 -0.06292375 0.100313656 -0.1392998 -0.038984306 0.23412852 -0.35992125 0.22095785 0.15819114 -0.24073474 0.122243874 0.04067524 -0.47650754 -0.01703541 -0.104836054 0.32352558 0.05740505 0.18299349 0.46595597 0.3289217 -0.22301872 0.04325797 -0.2751016 0.37037206 0.25583798 -0.033808805 0.076581486 -0.18964614 0.028494982 0.06125017 -0.07059693 0.0027386546 0.45646238 -0.2299433 -0.24362838 0.22598213 0.25491968 0.094339035 -0.23142469 -0.16746171 -0.4410404 0.13321397 -0.102142446 -0.045108613 0.13415955 0.25550663 0.32179132 0.15749286 0.015298026 0.100172065 0.17788553 -0.35907018 -0.070179395 0.22958401 0.5673996 0.12150186 -0.11604399 -0.20377454 -0.14113918 -0.13945746 -0.17548451 -0.13414998 0.109187245 -0.29794362 0.24809445 0.023210874 0.21165851 0.043753125 -0.17556997 0.12446265 0.07196302 -0.15315998 0.8353975 -0.37629917 0.0027130193 0.0974677 0.362247 -0.1366867 -0.4962706 0.06197403 -0.1508185 -0.3298826 -0.07500969 -0.19197191 -0.44796044 -0.2550351 0.16604027 0.15478787 -0.13100031 -0.1281741 0.19703169 0.13771318 0.20095505 -0.065169744 1.361324 -0.10609991 0.28036484 0.052670848 0.06244256 -0.04795186 -0.08073077 -0.0060518845 -0.33270317 0.12140181 -0.26634338 0.062347174 -0.025824998 0.1430696 -0.19499998 0.27191496 -0.23370227 -0.003897342 -0.13143182 -0.22176431 -0.0027914399 -0.20143013 -0.6239859 0.2570453 -0.12532818 -0.042731356 -0.077683024 -0.46379516\\n'"
      ]
     },
     "execution_count": 15,
     "metadata": {},
     "output_type": "execute_result"
    }
   ],
   "source": [
    "file2.readline()"
   ]
  },
  {
   "cell_type": "code",
   "execution_count": null,
   "id": "dd45aa94-8e1c-4743-a30b-ca28f3b322a4",
   "metadata": {},
   "outputs": [],
   "source": []
  }
 ],
 "metadata": {
  "kernelspec": {
   "display_name": "Python 3 (ipykernel)",
   "language": "python",
   "name": "python3"
  },
  "language_info": {
   "codemirror_mode": {
    "name": "ipython",
    "version": 3
   },
   "file_extension": ".py",
   "mimetype": "text/x-python",
   "name": "python",
   "nbconvert_exporter": "python",
   "pygments_lexer": "ipython3",
   "version": "3.9.7"
  },
  "varInspector": {
   "cols": {
    "lenName": 16,
    "lenType": 16,
    "lenVar": 40
   },
   "kernels_config": {
    "python": {
     "delete_cmd_postfix": "",
     "delete_cmd_prefix": "del ",
     "library": "var_list.py",
     "varRefreshCmd": "print(var_dic_list())"
    },
    "r": {
     "delete_cmd_postfix": ") ",
     "delete_cmd_prefix": "rm(",
     "library": "var_list.r",
     "varRefreshCmd": "cat(var_dic_list()) "
    }
   },
   "types_to_exclude": [
    "module",
    "function",
    "builtin_function_or_method",
    "instance",
    "_Feature"
   ],
   "window_display": false
  }
 },
 "nbformat": 4,
 "nbformat_minor": 5
}
