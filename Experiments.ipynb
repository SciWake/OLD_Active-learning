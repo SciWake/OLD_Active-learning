{
 "cells": [
  {
   "cell_type": "code",
   "execution_count": 1,
   "id": "44eb6bdb-f959-47bc-838a-df36d49ff0df",
   "metadata": {},
   "outputs": [],
   "source": [
    "import pandas as pd\n",
    "import numpy as np"
   ]
  },
  {
   "cell_type": "markdown",
   "id": "e1463e1f-b8a8-48a8-8ef7-6fa44cd868d0",
   "metadata": {},
   "source": [
    "# Опыт с MultiLabelBinarizer"
   ]
  },
  {
   "cell_type": "markdown",
   "id": "b3331197-e46d-4940-aa43-822285c5b854",
   "metadata": {},
   "source": [
    "**Создадим набор данных**"
   ]
  },
  {
   "cell_type": "code",
   "execution_count": 312,
   "id": "b3e68a8d-456c-479b-bff4-f3f232a99d98",
   "metadata": {},
   "outputs": [
    {
     "data": {
      "text/html": [
       "<div>\n",
       "<style scoped>\n",
       "    .dataframe tbody tr th:only-of-type {\n",
       "        vertical-align: middle;\n",
       "    }\n",
       "\n",
       "    .dataframe tbody tr th {\n",
       "        vertical-align: top;\n",
       "    }\n",
       "\n",
       "    .dataframe thead th {\n",
       "        text-align: right;\n",
       "    }\n",
       "</style>\n",
       "<table border=\"1\" class=\"dataframe\">\n",
       "  <thead>\n",
       "    <tr style=\"text-align: right;\">\n",
       "      <th></th>\n",
       "      <th>text</th>\n",
       "      <th>t</th>\n",
       "      <th>p</th>\n",
       "    </tr>\n",
       "  </thead>\n",
       "  <tbody>\n",
       "    <tr>\n",
       "      <th>0</th>\n",
       "      <td>Сладкий чай</td>\n",
       "      <td>Чай</td>\n",
       "      <td>Чай</td>\n",
       "    </tr>\n",
       "    <tr>\n",
       "      <th>1</th>\n",
       "      <td>Милое лицо</td>\n",
       "      <td>Лицо</td>\n",
       "      <td>Лицо</td>\n",
       "    </tr>\n",
       "    <tr>\n",
       "      <th>2</th>\n",
       "      <td>Сладкий чай</td>\n",
       "      <td>Чай</td>\n",
       "      <td>Ягода</td>\n",
       "    </tr>\n",
       "  </tbody>\n",
       "</table>\n",
       "</div>"
      ],
      "text/plain": [
       "          text     t      p\n",
       "0  Сладкий чай   Чай    Чай\n",
       "1   Милое лицо  Лицо   Лицо\n",
       "2  Сладкий чай   Чай  Ягода"
      ]
     },
     "execution_count": 312,
     "metadata": {},
     "output_type": "execute_result"
    }
   ],
   "source": [
    "d = pd.DataFrame({'text': ['Сладкий чай', 'Милое лицо', 'Сладкий чай'], \n",
    "              't': ['Чай', 'Лицо', 'Чай'], \n",
    "              'p': ['Чай', 'Лицо', 'Ягода']})\n",
    "d.head()"
   ]
  },
  {
   "cell_type": "code",
   "execution_count": 292,
   "id": "c522857a-1179-488b-a3e9-c1fb20195014",
   "metadata": {},
   "outputs": [
    {
     "data": {
      "text/html": [
       "<div>\n",
       "<style scoped>\n",
       "    .dataframe tbody tr th:only-of-type {\n",
       "        vertical-align: middle;\n",
       "    }\n",
       "\n",
       "    .dataframe tbody tr th {\n",
       "        vertical-align: top;\n",
       "    }\n",
       "\n",
       "    .dataframe thead th {\n",
       "        text-align: right;\n",
       "    }\n",
       "</style>\n",
       "<table border=\"1\" class=\"dataframe\">\n",
       "  <thead>\n",
       "    <tr style=\"text-align: right;\">\n",
       "      <th></th>\n",
       "      <th>t</th>\n",
       "      <th>p</th>\n",
       "    </tr>\n",
       "    <tr>\n",
       "      <th>text</th>\n",
       "      <th></th>\n",
       "      <th></th>\n",
       "    </tr>\n",
       "  </thead>\n",
       "  <tbody>\n",
       "    <tr>\n",
       "      <th>Милое лицо</th>\n",
       "      <td>[Лицо]</td>\n",
       "      <td>[Лицо]</td>\n",
       "    </tr>\n",
       "    <tr>\n",
       "      <th>Сладкий чай</th>\n",
       "      <td>[Чай]</td>\n",
       "      <td>[Чай, Ягода]</td>\n",
       "    </tr>\n",
       "  </tbody>\n",
       "</table>\n",
       "</div>"
      ],
      "text/plain": [
       "                  t             p\n",
       "text                             \n",
       "Милое лицо   [Лицо]        [Лицо]\n",
       "Сладкий чай   [Чай]  [Чай, Ягода]"
      ]
     },
     "execution_count": 292,
     "metadata": {},
     "output_type": "execute_result"
    }
   ],
   "source": [
    "agr = d.groupby(by='text', group_keys=False).agg(t=('t','unique'), p=('p','unique'))\n",
    "agr.head()"
   ]
  },
  {
   "cell_type": "code",
   "execution_count": 284,
   "id": "1e7ae25b-efe0-4a31-8891-a6e027731fe5",
   "metadata": {},
   "outputs": [
    {
     "data": {
      "text/html": [
       "<div>\n",
       "<style scoped>\n",
       "    .dataframe tbody tr th:only-of-type {\n",
       "        vertical-align: middle;\n",
       "    }\n",
       "\n",
       "    .dataframe tbody tr th {\n",
       "        vertical-align: top;\n",
       "    }\n",
       "\n",
       "    .dataframe thead th {\n",
       "        text-align: right;\n",
       "    }\n",
       "</style>\n",
       "<table border=\"1\" class=\"dataframe\">\n",
       "  <thead>\n",
       "    <tr style=\"text-align: right;\">\n",
       "      <th></th>\n",
       "      <th>t</th>\n",
       "      <th>p</th>\n",
       "    </tr>\n",
       "    <tr>\n",
       "      <th>text</th>\n",
       "      <th></th>\n",
       "      <th></th>\n",
       "    </tr>\n",
       "  </thead>\n",
       "  <tbody>\n",
       "    <tr>\n",
       "      <th>Милое лицо</th>\n",
       "      <td>[Лицо]</td>\n",
       "      <td>[Лицо]</td>\n",
       "    </tr>\n",
       "    <tr>\n",
       "      <th>Сладкий чай</th>\n",
       "      <td>[Чай]</td>\n",
       "      <td>[Чай, Ягода]</td>\n",
       "    </tr>\n",
       "  </tbody>\n",
       "</table>\n",
       "</div>"
      ],
      "text/plain": [
       "                  t             p\n",
       "text                             \n",
       "Милое лицо   [Лицо]        [Лицо]\n",
       "Сладкий чай   [Чай]  [Чай, Ягода]"
      ]
     },
     "execution_count": 284,
     "metadata": {},
     "output_type": "execute_result"
    }
   ],
   "source": [
    "agr = d.groupby(by='text').agg(['unique'])\n",
    "agr.columns = agr.columns.droplevel(1)\n",
    "agr.head()"
   ]
  },
  {
   "cell_type": "code",
   "execution_count": 285,
   "id": "6bf78097-a08b-4455-ba5e-3a91b4bed792",
   "metadata": {},
   "outputs": [
    {
     "data": {
      "text/plain": [
       "array(['Лицо', 'Чай', 'Ягода'], dtype=object)"
      ]
     },
     "execution_count": 285,
     "metadata": {},
     "output_type": "execute_result"
    }
   ],
   "source": [
    "d[['t', 'p']].agg('unique')"
   ]
  },
  {
   "cell_type": "code",
   "execution_count": 286,
   "id": "dfba4ebb-1026-4598-aa76-f7b5710a0917",
   "metadata": {},
   "outputs": [
    {
     "data": {
      "text/plain": [
       "1.0"
      ]
     },
     "execution_count": 286,
     "metadata": {},
     "output_type": "execute_result"
    }
   ],
   "source": [
    "from sklearn.preprocessing import MultiLabelBinarizer\n",
    "from sklearn.metrics import precision_score, recall_score\n",
    "\n",
    "mlb = MultiLabelBinarizer(classes=d[['t', 'p']].agg('unique'))\n",
    "\n",
    "gold_labels = mlb.fit_transform(agr['t'])\n",
    "pred_labels = mlb.transform(agr['p'])\n",
    "\n",
    "recall_score(gold_labels, pred_labels, average='samples')"
   ]
  },
  {
   "cell_type": "code",
   "execution_count": 69,
   "id": "35072d93-47c6-4992-8fd1-9de028ab73c3",
   "metadata": {},
   "outputs": [
    {
     "data": {
      "text/html": [
       "<div>\n",
       "<style scoped>\n",
       "    .dataframe tbody tr th:only-of-type {\n",
       "        vertical-align: middle;\n",
       "    }\n",
       "\n",
       "    .dataframe tbody tr th {\n",
       "        vertical-align: top;\n",
       "    }\n",
       "\n",
       "    .dataframe thead th {\n",
       "        text-align: right;\n",
       "    }\n",
       "</style>\n",
       "<table border=\"1\" class=\"dataframe\">\n",
       "  <thead>\n",
       "    <tr style=\"text-align: right;\">\n",
       "      <th></th>\n",
       "      <th>phrase</th>\n",
       "      <th>subtopic</th>\n",
       "      <th>frequency</th>\n",
       "      <th>lemmas</th>\n",
       "    </tr>\n",
       "  </thead>\n",
       "  <tbody>\n",
       "    <tr>\n",
       "      <th>0</th>\n",
       "      <td>флакон</td>\n",
       "      <td>Флакон</td>\n",
       "      <td>88474</td>\n",
       "      <td>флакон</td>\n",
       "    </tr>\n",
       "    <tr>\n",
       "      <th>1</th>\n",
       "      <td>шлейф</td>\n",
       "      <td>След аромата</td>\n",
       "      <td>51317</td>\n",
       "      <td>шлейф</td>\n",
       "    </tr>\n",
       "    <tr>\n",
       "      <th>2</th>\n",
       "      <td>роза</td>\n",
       "      <td>Цветочные</td>\n",
       "      <td>35609</td>\n",
       "      <td>роза</td>\n",
       "    </tr>\n",
       "    <tr>\n",
       "      <th>3</th>\n",
       "      <td>раскрывается</td>\n",
       "      <td>Время раскрытия</td>\n",
       "      <td>33018</td>\n",
       "      <td>раскрываться</td>\n",
       "    </tr>\n",
       "    <tr>\n",
       "      <th>4</th>\n",
       "      <td>нота</td>\n",
       "      <td>Нота</td>\n",
       "      <td>31010</td>\n",
       "      <td>нота</td>\n",
       "    </tr>\n",
       "  </tbody>\n",
       "</table>\n",
       "</div>"
      ],
      "text/plain": [
       "         phrase         subtopic  frequency        lemmas\n",
       "0        флакон           Флакон      88474        флакон\n",
       "1         шлейф     След аромата      51317         шлейф\n",
       "2          роза        Цветочные      35609          роза\n",
       "3  раскрывается  Время раскрытия      33018  раскрываться\n",
       "4          нота             Нота      31010          нота"
      ]
     },
     "execution_count": 73,
     "metadata": {},
     "output_type": "execute_result"
    }
   ],
   "source": [
    "train = pd.read_csv('data/processed/perfumery_train.csv').sort_values('frequency', ascending=False)[['phrase', 'subtopic']]\n",
    "train.head()"
   ]
  },
  {
   "cell_type": "code",
   "execution_count": 261,
   "id": "12ee6851-ca94-4289-bbd5-020178793dbb",
   "metadata": {},
   "outputs": [
    {
     "data": {
      "text/html": [
       "<div>\n",
       "<style scoped>\n",
       "    .dataframe tbody tr th:only-of-type {\n",
       "        vertical-align: middle;\n",
       "    }\n",
       "\n",
       "    .dataframe tbody tr th {\n",
       "        vertical-align: top;\n",
       "    }\n",
       "\n",
       "    .dataframe thead th {\n",
       "        text-align: right;\n",
       "    }\n",
       "</style>\n",
       "<table border=\"1\" class=\"dataframe\">\n",
       "  <thead>\n",
       "    <tr style=\"text-align: right;\">\n",
       "      <th></th>\n",
       "      <th>f1</th>\n",
       "      <th>precision</th>\n",
       "      <th>recall</th>\n",
       "      <th>validation_size</th>\n",
       "      <th>model_from_val</th>\n",
       "      <th>model_from_all</th>\n",
       "      <th>people_from_val</th>\n",
       "    </tr>\n",
       "  </thead>\n",
       "  <tbody>\n",
       "    <tr>\n",
       "      <th>38</th>\n",
       "      <td>0.926896</td>\n",
       "      <td>0.905446</td>\n",
       "      <td>0.986315</td>\n",
       "      <td>19657</td>\n",
       "      <td>19235</td>\n",
       "      <td>0</td>\n",
       "      <td>19500</td>\n",
       "    </tr>\n",
       "    <tr>\n",
       "      <th>39</th>\n",
       "      <td>0.925339</td>\n",
       "      <td>0.903805</td>\n",
       "      <td>0.985811</td>\n",
       "      <td>20157</td>\n",
       "      <td>19778</td>\n",
       "      <td>0</td>\n",
       "      <td>20000</td>\n",
       "    </tr>\n",
       "    <tr>\n",
       "      <th>40</th>\n",
       "      <td>0.925578</td>\n",
       "      <td>0.903919</td>\n",
       "      <td>0.985380</td>\n",
       "      <td>20657</td>\n",
       "      <td>20275</td>\n",
       "      <td>0</td>\n",
       "      <td>20500</td>\n",
       "    </tr>\n",
       "    <tr>\n",
       "      <th>41</th>\n",
       "      <td>0.924749</td>\n",
       "      <td>0.902891</td>\n",
       "      <td>0.984970</td>\n",
       "      <td>21157</td>\n",
       "      <td>20727</td>\n",
       "      <td>0</td>\n",
       "      <td>21000</td>\n",
       "    </tr>\n",
       "    <tr>\n",
       "      <th>42</th>\n",
       "      <td>0.927303</td>\n",
       "      <td>0.905535</td>\n",
       "      <td>0.988445</td>\n",
       "      <td>21550</td>\n",
       "      <td>21226</td>\n",
       "      <td>0</td>\n",
       "      <td>21393</td>\n",
       "    </tr>\n",
       "  </tbody>\n",
       "</table>\n",
       "</div>"
      ],
      "text/plain": [
       "          f1  precision    recall  validation_size  model_from_val  \\\n",
       "38  0.926896   0.905446  0.986315            19657           19235   \n",
       "39  0.925339   0.903805  0.985811            20157           19778   \n",
       "40  0.925578   0.903919  0.985380            20657           20275   \n",
       "41  0.924749   0.902891  0.984970            21157           20727   \n",
       "42  0.927303   0.905535  0.988445            21550           21226   \n",
       "\n",
       "    model_from_all  people_from_val  \n",
       "38               0            19500  \n",
       "39               0            20000  \n",
       "40               0            20500  \n",
       "41               0            21000  \n",
       "42               0            21393  "
      ]
     },
     "execution_count": 261,
     "metadata": {},
     "output_type": "execute_result"
    }
   ],
   "source": [
    "all_metrics = pd.read_csv('data/model/0.85_500_all_metrics.csv')\n",
    "all_metrics.tail()"
   ]
  },
  {
   "cell_type": "code",
   "execution_count": 262,
   "id": "7e294b91-a4b8-4c0a-8f42-f8803906750e",
   "metadata": {},
   "outputs": [
    {
     "data": {
      "text/plain": [
       "f1           0.925877\n",
       "precision    0.904115\n",
       "recall       0.986265\n",
       "dtype: float64"
      ]
     },
     "execution_count": 262,
     "metadata": {},
     "output_type": "execute_result"
    }
   ],
   "source": [
    "m = all_metrics[-3:][['f1', 'precision', 'recall']].agg('mean')\n",
    "m"
   ]
  },
  {
   "cell_type": "code",
   "execution_count": 263,
   "id": "6c985635-8df3-4697-9b44-df4f06d02776",
   "metadata": {},
   "outputs": [
    {
     "data": {
      "text/html": [
       "<div>\n",
       "<style scoped>\n",
       "    .dataframe tbody tr th:only-of-type {\n",
       "        vertical-align: middle;\n",
       "    }\n",
       "\n",
       "    .dataframe tbody tr th {\n",
       "        vertical-align: top;\n",
       "    }\n",
       "\n",
       "    .dataframe thead th {\n",
       "        text-align: right;\n",
       "    }\n",
       "</style>\n",
       "<table border=\"1\" class=\"dataframe\">\n",
       "  <thead>\n",
       "    <tr style=\"text-align: right;\">\n",
       "      <th></th>\n",
       "      <th>f1</th>\n",
       "      <th>precision</th>\n",
       "      <th>recall</th>\n",
       "    </tr>\n",
       "  </thead>\n",
       "  <tbody>\n",
       "    <tr>\n",
       "      <th>42</th>\n",
       "      <td>0.927303</td>\n",
       "      <td>0.905535</td>\n",
       "      <td>0.988445</td>\n",
       "    </tr>\n",
       "  </tbody>\n",
       "</table>\n",
       "</div>"
      ],
      "text/plain": [
       "          f1  precision    recall\n",
       "42  0.927303   0.905535  0.988445"
      ]
     },
     "execution_count": 263,
     "metadata": {},
     "output_type": "execute_result"
    }
   ],
   "source": [
    "all_metrics.iloc[-1:, :3]"
   ]
  },
  {
   "cell_type": "code",
   "execution_count": 272,
   "id": "58efce43-1248-4ea8-9c51-45c723088ea6",
   "metadata": {},
   "outputs": [],
   "source": [
    "all_metrics.iloc[-1:, :3] = all_metrics.iloc[-3:, :3].agg('mean')"
   ]
  },
  {
   "cell_type": "code",
   "execution_count": 267,
   "id": "7066225e-09e1-4dae-b66f-3202a112f146",
   "metadata": {},
   "outputs": [
    {
     "data": {
      "text/plain": [
       "f1           0.925402\n",
       "precision    0.903642\n",
       "recall       0.985538\n",
       "dtype: float64"
      ]
     },
     "execution_count": 267,
     "metadata": {},
     "output_type": "execute_result"
    }
   ],
   "source": [
    "all_metrics[-3:][['f1', 'precision', 'recall']].agg('mean')"
   ]
  },
  {
   "cell_type": "code",
   "execution_count": 293,
   "id": "15f21d6e-3fac-4ad7-9bf3-47b16c7a5b8d",
   "metadata": {},
   "outputs": [],
   "source": [
    "x = [[1], [2], [1, 2]]"
   ]
  },
  {
   "cell_type": "code",
   "execution_count": 298,
   "id": "0eb32fa4-55b4-49cd-896d-9db663d56239",
   "metadata": {},
   "outputs": [
    {
     "data": {
      "text/plain": [
       "array([list([2]), list([1, 2])], dtype=object)"
      ]
     },
     "execution_count": 298,
     "metadata": {},
     "output_type": "execute_result"
    }
   ],
   "source": [
    "np.array(x, dtype='object')[[1, 2]]"
   ]
  },
  {
   "cell_type": "markdown",
   "id": "74c8f614-7ac7-4f17-8171-e09b76f59c9e",
   "metadata": {},
   "source": [
    "### Проверка двойного explode "
   ]
  },
  {
   "cell_type": "code",
   "execution_count": 313,
   "id": "44ab0fde-8c58-4d6c-a667-d3286ade5dd1",
   "metadata": {},
   "outputs": [
    {
     "data": {
      "text/html": [
       "<div>\n",
       "<style scoped>\n",
       "    .dataframe tbody tr th:only-of-type {\n",
       "        vertical-align: middle;\n",
       "    }\n",
       "\n",
       "    .dataframe tbody tr th {\n",
       "        vertical-align: top;\n",
       "    }\n",
       "\n",
       "    .dataframe thead th {\n",
       "        text-align: right;\n",
       "    }\n",
       "</style>\n",
       "<table border=\"1\" class=\"dataframe\">\n",
       "  <thead>\n",
       "    <tr style=\"text-align: right;\">\n",
       "      <th></th>\n",
       "      <th>text</th>\n",
       "      <th>t</th>\n",
       "      <th>p</th>\n",
       "    </tr>\n",
       "  </thead>\n",
       "  <tbody>\n",
       "    <tr>\n",
       "      <th>0</th>\n",
       "      <td>11</td>\n",
       "      <td>Громкость</td>\n",
       "      <td>Цвет</td>\n",
       "    </tr>\n",
       "    <tr>\n",
       "      <th>0</th>\n",
       "      <td>11</td>\n",
       "      <td>Громкость</td>\n",
       "      <td>Гром</td>\n",
       "    </tr>\n",
       "    <tr>\n",
       "      <th>0</th>\n",
       "      <td>11</td>\n",
       "      <td>Цветочные</td>\n",
       "      <td>Цвет</td>\n",
       "    </tr>\n",
       "    <tr>\n",
       "      <th>0</th>\n",
       "      <td>11</td>\n",
       "      <td>Цветочные</td>\n",
       "      <td>Гром</td>\n",
       "    </tr>\n",
       "    <tr>\n",
       "      <th>0</th>\n",
       "      <td>11</td>\n",
       "      <td>Горький</td>\n",
       "      <td>Цвет</td>\n",
       "    </tr>\n",
       "    <tr>\n",
       "      <th>0</th>\n",
       "      <td>11</td>\n",
       "      <td>Горький</td>\n",
       "      <td>Гром</td>\n",
       "    </tr>\n",
       "  </tbody>\n",
       "</table>\n",
       "</div>"
      ],
      "text/plain": [
       "  text          t     p\n",
       "0   11  Громкость  Цвет\n",
       "0   11  Громкость  Гром\n",
       "0   11  Цветочные  Цвет\n",
       "0   11  Цветочные  Гром\n",
       "0   11    Горький  Цвет\n",
       "0   11    Горький  Гром"
      ]
     },
     "execution_count": 313,
     "metadata": {},
     "output_type": "execute_result"
    }
   ],
   "source": [
    "d = pd.DataFrame({'text': ['11'], \n",
    "              't': [['Громкость', 'Цветочные', 'Горький']], \n",
    "              'p': [['Цвет', 'Гром']]})\n",
    "d.head()\n",
    "g = d.explode('t').explode('p')\n",
    "g"
   ]
  },
  {
   "cell_type": "code",
   "execution_count": 315,
   "id": "64f6e6fd-ffcb-481b-94b6-67c43ca10832",
   "metadata": {},
   "outputs": [
    {
     "data": {
      "text/html": [
       "<div>\n",
       "<style scoped>\n",
       "    .dataframe tbody tr th:only-of-type {\n",
       "        vertical-align: middle;\n",
       "    }\n",
       "\n",
       "    .dataframe tbody tr th {\n",
       "        vertical-align: top;\n",
       "    }\n",
       "\n",
       "    .dataframe thead th {\n",
       "        text-align: right;\n",
       "    }\n",
       "</style>\n",
       "<table border=\"1\" class=\"dataframe\">\n",
       "  <thead>\n",
       "    <tr style=\"text-align: right;\">\n",
       "      <th></th>\n",
       "      <th>t</th>\n",
       "      <th>p</th>\n",
       "    </tr>\n",
       "    <tr>\n",
       "      <th>text</th>\n",
       "      <th></th>\n",
       "      <th></th>\n",
       "    </tr>\n",
       "  </thead>\n",
       "  <tbody>\n",
       "    <tr>\n",
       "      <th>11</th>\n",
       "      <td>[Громкость, Цветочные, Горький]</td>\n",
       "      <td>[Цвет, Гром]</td>\n",
       "    </tr>\n",
       "  </tbody>\n",
       "</table>\n",
       "</div>"
      ],
      "text/plain": [
       "                                    t             p\n",
       "text                                               \n",
       "11    [Громкость, Цветочные, Горький]  [Цвет, Гром]"
      ]
     },
     "execution_count": 315,
     "metadata": {},
     "output_type": "execute_result"
    }
   ],
   "source": [
    "g.groupby(by='text').agg(t=('t', 'unique'), p=('p', 'unique'))"
   ]
  },
  {
   "cell_type": "markdown",
   "id": "58964d78-7eec-472b-a216-5891428a73dc",
   "metadata": {},
   "source": [
    "## Отладка ошибки по Explode"
   ]
  },
  {
   "cell_type": "code",
   "execution_count": 128,
   "id": "e99f6a17-de5f-48f8-8386-aa5c92ddb3bf",
   "metadata": {},
   "outputs": [
    {
     "data": {
      "text/html": [
       "<div>\n",
       "<style scoped>\n",
       "    .dataframe tbody tr th:only-of-type {\n",
       "        vertical-align: middle;\n",
       "    }\n",
       "\n",
       "    .dataframe tbody tr th {\n",
       "        vertical-align: top;\n",
       "    }\n",
       "\n",
       "    .dataframe thead th {\n",
       "        text-align: right;\n",
       "    }\n",
       "</style>\n",
       "<table border=\"1\" class=\"dataframe\">\n",
       "  <thead>\n",
       "    <tr style=\"text-align: right;\">\n",
       "      <th></th>\n",
       "      <th>phrase</th>\n",
       "      <th>subtopic</th>\n",
       "      <th>true</th>\n",
       "    </tr>\n",
       "  </thead>\n",
       "  <tbody>\n",
       "    <tr>\n",
       "      <th>0</th>\n",
       "      <td>аромат альдегидов</td>\n",
       "      <td>Альдегида</td>\n",
       "      <td>Альдегида</td>\n",
       "    </tr>\n",
       "    <tr>\n",
       "      <th>1</th>\n",
       "      <td>аромат альдегидов</td>\n",
       "      <td>Аромат листьев</td>\n",
       "      <td>Альдегида</td>\n",
       "    </tr>\n",
       "    <tr>\n",
       "      <th>2</th>\n",
       "      <td>аромат альдегидов</td>\n",
       "      <td>Аромат смолы</td>\n",
       "      <td>Альдегида</td>\n",
       "    </tr>\n",
       "    <tr>\n",
       "      <th>3</th>\n",
       "      <td>аромат альдегидов</td>\n",
       "      <td>Аромат табака</td>\n",
       "      <td>Альдегида</td>\n",
       "    </tr>\n",
       "    <tr>\n",
       "      <th>4</th>\n",
       "      <td>аромат альдегидов</td>\n",
       "      <td>Аромат дыма</td>\n",
       "      <td>Альдегида</td>\n",
       "    </tr>\n",
       "  </tbody>\n",
       "</table>\n",
       "</div>"
      ],
      "text/plain": [
       "              phrase        subtopic       true\n",
       "0  аромат альдегидов       Альдегида  Альдегида\n",
       "1  аромат альдегидов  Аромат листьев  Альдегида\n",
       "2  аромат альдегидов    Аромат смолы  Альдегида\n",
       "3  аромат альдегидов   Аромат табака  Альдегида\n",
       "4  аромат альдегидов     Аромат дыма  Альдегида"
      ]
     },
     "execution_count": 128,
     "metadata": {},
     "output_type": "execute_result"
    }
   ],
   "source": [
    "test = pd.read_csv('test.csv')\n",
    "test.head()"
   ]
  },
  {
   "cell_type": "markdown",
   "id": "3ff90962-8df7-4645-b380-e7b67af4bfed",
   "metadata": {},
   "source": [
    "**Загрузка данных**"
   ]
  },
  {
   "cell_type": "code",
   "execution_count": 129,
   "id": "15783ad9-36dc-47bd-9150-d52cf1e2df57",
   "metadata": {},
   "outputs": [
    {
     "data": {
      "text/html": [
       "<div>\n",
       "<style scoped>\n",
       "    .dataframe tbody tr th:only-of-type {\n",
       "        vertical-align: middle;\n",
       "    }\n",
       "\n",
       "    .dataframe tbody tr th {\n",
       "        vertical-align: top;\n",
       "    }\n",
       "\n",
       "    .dataframe thead th {\n",
       "        text-align: right;\n",
       "    }\n",
       "</style>\n",
       "<table border=\"1\" class=\"dataframe\">\n",
       "  <thead>\n",
       "    <tr style=\"text-align: right;\">\n",
       "      <th></th>\n",
       "      <th>subtopic</th>\n",
       "      <th>true</th>\n",
       "    </tr>\n",
       "    <tr>\n",
       "      <th>phrase</th>\n",
       "      <th></th>\n",
       "      <th></th>\n",
       "    </tr>\n",
       "  </thead>\n",
       "  <tbody>\n",
       "    <tr>\n",
       "      <th>аромат альдегидов</th>\n",
       "      <td>[Альдегида, Аромат листьев, Аромат смолы, Аром...</td>\n",
       "      <td>[Альдегида]</td>\n",
       "    </tr>\n",
       "    <tr>\n",
       "      <th>аромат ананаса</th>\n",
       "      <td>[Тропический аромат, Алкоголя/спирта, Аромат л...</td>\n",
       "      <td>[Тропический аромат]</td>\n",
       "    </tr>\n",
       "    <tr>\n",
       "      <th>аромат ангелов</th>\n",
       "      <td>[Название бренда/автора, Алкоголя/спирта, Альд...</td>\n",
       "      <td>[Название аромата]</td>\n",
       "    </tr>\n",
       "    <tr>\n",
       "      <th>аромат апельсина</th>\n",
       "      <td>[Цитрусовые, Тропический аромат, Аромат листье...</td>\n",
       "      <td>[Цитрусовые]</td>\n",
       "    </tr>\n",
       "    <tr>\n",
       "      <th>аромат апельсинового цвета</th>\n",
       "      <td>[Цветочные, Цитрусовые, Шампанского, Аромат ли...</td>\n",
       "      <td>[Цвет]</td>\n",
       "    </tr>\n",
       "  </tbody>\n",
       "</table>\n",
       "</div>"
      ],
      "text/plain": [
       "                                                                     subtopic  \\\n",
       "phrase                                                                          \n",
       "аромат альдегидов           [Альдегида, Аромат листьев, Аромат смолы, Аром...   \n",
       "аромат ананаса              [Тропический аромат, Алкоголя/спирта, Аромат л...   \n",
       "аромат ангелов              [Название бренда/автора, Алкоголя/спирта, Альд...   \n",
       "аромат апельсина            [Цитрусовые, Тропический аромат, Аромат листье...   \n",
       "аромат апельсинового цвета  [Цветочные, Цитрусовые, Шампанского, Аромат ли...   \n",
       "\n",
       "                                            true  \n",
       "phrase                                            \n",
       "аромат альдегидов                    [Альдегида]  \n",
       "аромат ананаса              [Тропический аромат]  \n",
       "аромат ангелов                [Название аромата]  \n",
       "аромат апельсина                    [Цитрусовые]  \n",
       "аромат апельсинового цвета                [Цвет]  "
      ]
     },
     "execution_count": 129,
     "metadata": {},
     "output_type": "execute_result"
    }
   ],
   "source": [
    "t = test.groupby(by='phrase').agg(subtopic=('subtopic', 'unique'), true=('true', 'unique'))[:5]\n",
    "t"
   ]
  },
  {
   "cell_type": "code",
   "execution_count": 130,
   "id": "e01fdab3-a6a7-4981-b383-eb2e63ee4b39",
   "metadata": {},
   "outputs": [],
   "source": [
    "labels = np.array([], dtype='object')\n",
    "for i in range(len(t)):\n",
    "    labels = np.append(labels, [*t['subtopic'][i], *t['true'][i]])\n",
    "labels = np.unique(labels)"
   ]
  },
  {
   "cell_type": "code",
   "execution_count": 122,
   "id": "e6336442-0d6d-4cce-b1b0-d3f9c94c37b2",
   "metadata": {},
   "outputs": [
    {
     "data": {
      "text/plain": [
       "phrase\n",
       "аромат альдегидов             [Альдегида, Аромат листьев, Аромат смолы, Аром...\n",
       "аромат ананаса                [Тропический аромат, Алкоголя/спирта, Аромат л...\n",
       "аромат ангелов                [Название бренда/автора, Алкоголя/спирта, Альд...\n",
       "аромат апельсина              [Цитрусовые, Тропический аромат, Аромат листье...\n",
       "аромат апельсинового цвета    [Цветочные, Цитрусовые, Шампанского, Аромат ли...\n",
       "Name: subtopic, dtype: object"
      ]
     },
     "execution_count": 122,
     "metadata": {},
     "output_type": "execute_result"
    }
   ],
   "source": [
    "t['subtopic']"
   ]
  },
  {
   "cell_type": "code",
   "execution_count": 123,
   "id": "048b157a-9c5f-496e-ba75-c0bede2dafcf",
   "metadata": {},
   "outputs": [
    {
     "data": {
      "text/plain": [
       "['Альдегида', 'Аромат листьев', 'Аромат смолы', 'Аромат табака', 'Аромат дыма']"
      ]
     },
     "execution_count": 123,
     "metadata": {},
     "output_type": "execute_result"
    }
   ],
   "source": [
    "list(t['subtopic'][0])"
   ]
  },
  {
   "cell_type": "code",
   "execution_count": 139,
   "id": "d1a127ee-fa6a-47f3-b127-421338b9c288",
   "metadata": {},
   "outputs": [
    {
     "data": {
      "text/html": [
       "<div>\n",
       "<style scoped>\n",
       "    .dataframe tbody tr th:only-of-type {\n",
       "        vertical-align: middle;\n",
       "    }\n",
       "\n",
       "    .dataframe tbody tr th {\n",
       "        vertical-align: top;\n",
       "    }\n",
       "\n",
       "    .dataframe thead th {\n",
       "        text-align: right;\n",
       "    }\n",
       "</style>\n",
       "<table border=\"1\" class=\"dataframe\">\n",
       "  <thead>\n",
       "    <tr style=\"text-align: right;\">\n",
       "      <th></th>\n",
       "      <th>subtopic</th>\n",
       "      <th>true</th>\n",
       "    </tr>\n",
       "    <tr>\n",
       "      <th>phrase</th>\n",
       "      <th></th>\n",
       "      <th></th>\n",
       "    </tr>\n",
       "  </thead>\n",
       "  <tbody>\n",
       "    <tr>\n",
       "      <th>аромат альдегидов</th>\n",
       "      <td>[Альдегида, Аромат листьев, Аромат смолы, Аром...</td>\n",
       "      <td>[Альдегида, Тропический аромат]</td>\n",
       "    </tr>\n",
       "    <tr>\n",
       "      <th>аромат ананаса</th>\n",
       "      <td>[Тропический аромат, Алкоголя/спирта, Аромат л...</td>\n",
       "      <td>[Тропический аромат]</td>\n",
       "    </tr>\n",
       "    <tr>\n",
       "      <th>аромат ангелов</th>\n",
       "      <td>[Название бренда/автора, Алкоголя/спирта, Альд...</td>\n",
       "      <td>[Название аромата]</td>\n",
       "    </tr>\n",
       "    <tr>\n",
       "      <th>аромат апельсина</th>\n",
       "      <td>[Цитрусовые, Тропический аромат, Аромат листье...</td>\n",
       "      <td>[Цитрусовые]</td>\n",
       "    </tr>\n",
       "    <tr>\n",
       "      <th>аромат апельсинового цвета</th>\n",
       "      <td>[Цветочные, Цитрусовые, Шампанского, Аромат ли...</td>\n",
       "      <td>[Цвет]</td>\n",
       "    </tr>\n",
       "  </tbody>\n",
       "</table>\n",
       "</div>"
      ],
      "text/plain": [
       "                                                                     subtopic  \\\n",
       "phrase                                                                          \n",
       "аромат альдегидов           [Альдегида, Аромат листьев, Аромат смолы, Аром...   \n",
       "аромат ананаса              [Тропический аромат, Алкоголя/спирта, Аромат л...   \n",
       "аромат ангелов              [Название бренда/автора, Алкоголя/спирта, Альд...   \n",
       "аромат апельсина            [Цитрусовые, Тропический аромат, Аромат листье...   \n",
       "аромат апельсинового цвета  [Цветочные, Цитрусовые, Шампанского, Аромат ли...   \n",
       "\n",
       "                                                       true  \n",
       "phrase                                                       \n",
       "аромат альдегидов           [Альдегида, Тропический аромат]  \n",
       "аромат ананаса                         [Тропический аромат]  \n",
       "аромат ангелов                           [Название аромата]  \n",
       "аромат апельсина                               [Цитрусовые]  \n",
       "аромат апельсинового цвета                           [Цвет]  "
      ]
     },
     "execution_count": 139,
     "metadata": {},
     "output_type": "execute_result"
    }
   ],
   "source": [
    "t['subtopic'][0] = np.append(t['subtopic'][0], ['Тропический аромат'])\n",
    "t"
   ]
  },
  {
   "cell_type": "code",
   "execution_count": 155,
   "id": "5501f249-700b-473a-aa73-736e2cd0aa4c",
   "metadata": {},
   "outputs": [
    {
     "data": {
      "text/html": [
       "<div>\n",
       "<style scoped>\n",
       "    .dataframe tbody tr th:only-of-type {\n",
       "        vertical-align: middle;\n",
       "    }\n",
       "\n",
       "    .dataframe tbody tr th {\n",
       "        vertical-align: top;\n",
       "    }\n",
       "\n",
       "    .dataframe thead th {\n",
       "        text-align: right;\n",
       "    }\n",
       "</style>\n",
       "<table border=\"1\" class=\"dataframe\">\n",
       "  <thead>\n",
       "    <tr style=\"text-align: right;\">\n",
       "      <th></th>\n",
       "      <th>subtopic</th>\n",
       "      <th>true</th>\n",
       "    </tr>\n",
       "    <tr>\n",
       "      <th>phrase</th>\n",
       "      <th></th>\n",
       "      <th></th>\n",
       "    </tr>\n",
       "  </thead>\n",
       "  <tbody>\n",
       "    <tr>\n",
       "      <th>аромат альдегидов</th>\n",
       "      <td>[Альдегида, Аромат листьев, Аромат смолы, Аром...</td>\n",
       "      <td>[Альдегида, Тропический аромат, Аромат листьев]</td>\n",
       "    </tr>\n",
       "    <tr>\n",
       "      <th>аромат ананаса</th>\n",
       "      <td>[Тропический аромат, Алкоголя/спирта, Аромат л...</td>\n",
       "      <td>[Тропический аромат]</td>\n",
       "    </tr>\n",
       "    <tr>\n",
       "      <th>аромат ангелов</th>\n",
       "      <td>[Название бренда/автора, Алкоголя/спирта, Альд...</td>\n",
       "      <td>[Название аромата]</td>\n",
       "    </tr>\n",
       "    <tr>\n",
       "      <th>аромат апельсина</th>\n",
       "      <td>[Цитрусовые, Тропический аромат, Аромат листье...</td>\n",
       "      <td>[Цитрусовые]</td>\n",
       "    </tr>\n",
       "    <tr>\n",
       "      <th>аромат апельсинового цвета</th>\n",
       "      <td>[Цветочные, Цитрусовые, Шампанского, Аромат ли...</td>\n",
       "      <td>[Цвет, Цветочные, Шампанского, Цитрусовые]</td>\n",
       "    </tr>\n",
       "  </tbody>\n",
       "</table>\n",
       "</div>"
      ],
      "text/plain": [
       "                                                                     subtopic  \\\n",
       "phrase                                                                          \n",
       "аромат альдегидов           [Альдегида, Аромат листьев, Аромат смолы, Аром...   \n",
       "аромат ананаса              [Тропический аромат, Алкоголя/спирта, Аромат л...   \n",
       "аромат ангелов              [Название бренда/автора, Алкоголя/спирта, Альд...   \n",
       "аромат апельсина            [Цитрусовые, Тропический аромат, Аромат листье...   \n",
       "аромат апельсинового цвета  [Цветочные, Цитрусовые, Шампанского, Аромат ли...   \n",
       "\n",
       "                                                                       true  \n",
       "phrase                                                                       \n",
       "аромат альдегидов           [Альдегида, Тропический аромат, Аромат листьев]  \n",
       "аромат ананаса                                         [Тропический аромат]  \n",
       "аромат ангелов                                           [Название аромата]  \n",
       "аромат апельсина                                               [Цитрусовые]  \n",
       "аромат апельсинового цвета       [Цвет, Цветочные, Шампанского, Цитрусовые]  "
      ]
     },
     "execution_count": 155,
     "metadata": {},
     "output_type": "execute_result"
    }
   ],
   "source": [
    "t['true'][4] = np.append(t['true'][4], ['Цитрусовые'])\n",
    "t"
   ]
  },
  {
   "cell_type": "code",
   "execution_count": 167,
   "id": "ca52b8fd-80db-418b-9136-e50b88986118",
   "metadata": {},
   "outputs": [
    {
     "data": {
      "text/html": [
       "<div>\n",
       "<style scoped>\n",
       "    .dataframe tbody tr th:only-of-type {\n",
       "        vertical-align: middle;\n",
       "    }\n",
       "\n",
       "    .dataframe tbody tr th {\n",
       "        vertical-align: top;\n",
       "    }\n",
       "\n",
       "    .dataframe thead th {\n",
       "        text-align: right;\n",
       "    }\n",
       "</style>\n",
       "<table border=\"1\" class=\"dataframe\">\n",
       "  <thead>\n",
       "    <tr style=\"text-align: right;\">\n",
       "      <th></th>\n",
       "      <th>subtopic</th>\n",
       "      <th>true</th>\n",
       "    </tr>\n",
       "    <tr>\n",
       "      <th>phrase</th>\n",
       "      <th></th>\n",
       "      <th></th>\n",
       "    </tr>\n",
       "  </thead>\n",
       "  <tbody>\n",
       "    <tr>\n",
       "      <th>аромат альдегидов</th>\n",
       "      <td>[Альдегида, Аромат листьев, Аромат смолы, Аром...</td>\n",
       "      <td>[Альдегида, Тропический аромат, Аромат листьев]</td>\n",
       "    </tr>\n",
       "    <tr>\n",
       "      <th>аромат ананаса</th>\n",
       "      <td>[Тропический аромат, Алкоголя/спирта, Аромат л...</td>\n",
       "      <td>[Тропический аромат]</td>\n",
       "    </tr>\n",
       "    <tr>\n",
       "      <th>аромат ангелов</th>\n",
       "      <td>[Название бренда/автора, Алкоголя/спирта, Альд...</td>\n",
       "      <td>[Название аромата]</td>\n",
       "    </tr>\n",
       "    <tr>\n",
       "      <th>аромат апельсина</th>\n",
       "      <td>[Цитрусовые, Тропический аромат, Аромат листье...</td>\n",
       "      <td>[Цитрусовые]</td>\n",
       "    </tr>\n",
       "    <tr>\n",
       "      <th>аромат апельсинового цвета</th>\n",
       "      <td>[Цветочные, Цитрусовые, Шампанского, Аромат ли...</td>\n",
       "      <td>[Цвет, Цветочные, Шампанского, Цитрусовые]</td>\n",
       "    </tr>\n",
       "  </tbody>\n",
       "</table>\n",
       "</div>"
      ],
      "text/plain": [
       "                                                                     subtopic  \\\n",
       "phrase                                                                          \n",
       "аромат альдегидов           [Альдегида, Аромат листьев, Аромат смолы, Аром...   \n",
       "аромат ананаса              [Тропический аромат, Алкоголя/спирта, Аромат л...   \n",
       "аромат ангелов              [Название бренда/автора, Алкоголя/спирта, Альд...   \n",
       "аромат апельсина            [Цитрусовые, Тропический аромат, Аромат листье...   \n",
       "аромат апельсинового цвета  [Цветочные, Цитрусовые, Шампанского, Аромат ли...   \n",
       "\n",
       "                                                                       true  \n",
       "phrase                                                                       \n",
       "аромат альдегидов           [Альдегида, Тропический аромат, Аромат листьев]  \n",
       "аромат ананаса                                         [Тропический аромат]  \n",
       "аромат ангелов                                           [Название аромата]  \n",
       "аромат апельсина                                               [Цитрусовые]  \n",
       "аромат апельсинового цвета       [Цвет, Цветочные, Шампанского, Цитрусовые]  "
      ]
     },
     "execution_count": 167,
     "metadata": {},
     "output_type": "execute_result"
    }
   ],
   "source": [
    "t"
   ]
  },
  {
   "cell_type": "code",
   "execution_count": 168,
   "id": "b42f7708-bc5c-4dc3-8d70-3ec29ec6a2ed",
   "metadata": {},
   "outputs": [
    {
     "data": {
      "text/plain": [
       "0.3"
      ]
     },
     "execution_count": 168,
     "metadata": {},
     "output_type": "execute_result"
    }
   ],
   "source": [
    "from sklearn.preprocessing import MultiLabelBinarizer\n",
    "from sklearn.metrics import precision_score, recall_score, f1_score\n",
    "\n",
    "mlb = MultiLabelBinarizer(classes=labels)\n",
    "\n",
    "gold_labels = mlb.fit_transform(t['true'].values)\n",
    "pred_labels = mlb.transform(t['subtopic'].values)\n",
    "\n",
    "precision_score(y_pred=pred_labels, y_true=gold_labels, average='samples')"
   ]
  },
  {
   "cell_type": "code",
   "execution_count": 162,
   "id": "f5558ccb-1244-4fa3-80a4-8c76f67d937d",
   "metadata": {},
   "outputs": [
    {
     "data": {
      "text/plain": [
       "0.75"
      ]
     },
     "execution_count": 162,
     "metadata": {},
     "output_type": "execute_result"
    }
   ],
   "source": [
    "recall_score(y_pred=pred_labels, y_true=gold_labels, average='samples')"
   ]
  },
  {
   "cell_type": "code",
   "execution_count": 163,
   "id": "6800e6e4-f6a1-4840-8267-33c27d6e0c06",
   "metadata": {},
   "outputs": [
    {
     "data": {
      "text/plain": [
       "0.4"
      ]
     },
     "execution_count": 163,
     "metadata": {},
     "output_type": "execute_result"
    }
   ],
   "source": [
    "f1_score(pred_labels, gold_labels, average='samples')"
   ]
  },
  {
   "cell_type": "code",
   "execution_count": null,
   "id": "f6d9be4e-1c34-4868-a039-8a7d27c7efe3",
   "metadata": {},
   "outputs": [],
   "source": []
  }
 ],
 "metadata": {
  "kernelspec": {
   "display_name": "Python 3 (ipykernel)",
   "language": "python",
   "name": "python3"
  },
  "language_info": {
   "codemirror_mode": {
    "name": "ipython",
    "version": 3
   },
   "file_extension": ".py",
   "mimetype": "text/x-python",
   "name": "python",
   "nbconvert_exporter": "python",
   "pygments_lexer": "ipython3",
   "version": "3.9.7"
  }
 },
 "nbformat": 4,
 "nbformat_minor": 5
}
