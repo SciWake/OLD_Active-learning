{
 "cells": [
  {
   "cell_type": "code",
   "execution_count": 2,
   "id": "44eb6bdb-f959-47bc-838a-df36d49ff0df",
   "metadata": {},
   "outputs": [],
   "source": [
    "import pandas as pd\n",
    "import numpy as np"
   ]
  },
  {
   "cell_type": "markdown",
   "id": "e1463e1f-b8a8-48a8-8ef7-6fa44cd868d0",
   "metadata": {},
   "source": [
    "# Опыт с MultiLabelBinarizer"
   ]
  },
  {
   "cell_type": "markdown",
   "id": "b3331197-e46d-4940-aa43-822285c5b854",
   "metadata": {},
   "source": [
    "**Создадим набор данных**"
   ]
  },
  {
   "cell_type": "code",
   "execution_count": 3,
   "id": "b3e68a8d-456c-479b-bff4-f3f232a99d98",
   "metadata": {},
   "outputs": [
    {
     "data": {
      "text/html": [
       "<div>\n",
       "<style scoped>\n",
       "    .dataframe tbody tr th:only-of-type {\n",
       "        vertical-align: middle;\n",
       "    }\n",
       "\n",
       "    .dataframe tbody tr th {\n",
       "        vertical-align: top;\n",
       "    }\n",
       "\n",
       "    .dataframe thead th {\n",
       "        text-align: right;\n",
       "    }\n",
       "</style>\n",
       "<table border=\"1\" class=\"dataframe\">\n",
       "  <thead>\n",
       "    <tr style=\"text-align: right;\">\n",
       "      <th></th>\n",
       "      <th>text</th>\n",
       "      <th>t</th>\n",
       "      <th>p</th>\n",
       "    </tr>\n",
       "  </thead>\n",
       "  <tbody>\n",
       "    <tr>\n",
       "      <th>0</th>\n",
       "      <td>Сладкий чай</td>\n",
       "      <td>Чай</td>\n",
       "      <td>Чай</td>\n",
       "    </tr>\n",
       "    <tr>\n",
       "      <th>1</th>\n",
       "      <td>Милое лицо</td>\n",
       "      <td>Лицо</td>\n",
       "      <td>Лицо</td>\n",
       "    </tr>\n",
       "    <tr>\n",
       "      <th>2</th>\n",
       "      <td>Сладкий чай</td>\n",
       "      <td>Чай</td>\n",
       "      <td>Ягода</td>\n",
       "    </tr>\n",
       "  </tbody>\n",
       "</table>\n",
       "</div>"
      ],
      "text/plain": [
       "          text     t      p\n",
       "0  Сладкий чай   Чай    Чай\n",
       "1   Милое лицо  Лицо   Лицо\n",
       "2  Сладкий чай   Чай  Ягода"
      ]
     },
     "execution_count": 3,
     "metadata": {},
     "output_type": "execute_result"
    }
   ],
   "source": [
    "d = pd.DataFrame({'text': ['Сладкий чай', 'Милое лицо', 'Сладкий чай'], \n",
    "              't': ['Чай', 'Лицо', 'Чай'], \n",
    "              'p': ['Чай', 'Лицо', 'Ягода']})\n",
    "d.head()"
   ]
  },
  {
   "cell_type": "code",
   "execution_count": 4,
   "id": "c522857a-1179-488b-a3e9-c1fb20195014",
   "metadata": {},
   "outputs": [
    {
     "data": {
      "text/html": [
       "<div>\n",
       "<style scoped>\n",
       "    .dataframe tbody tr th:only-of-type {\n",
       "        vertical-align: middle;\n",
       "    }\n",
       "\n",
       "    .dataframe tbody tr th {\n",
       "        vertical-align: top;\n",
       "    }\n",
       "\n",
       "    .dataframe thead th {\n",
       "        text-align: right;\n",
       "    }\n",
       "</style>\n",
       "<table border=\"1\" class=\"dataframe\">\n",
       "  <thead>\n",
       "    <tr style=\"text-align: right;\">\n",
       "      <th></th>\n",
       "      <th>t</th>\n",
       "      <th>p</th>\n",
       "    </tr>\n",
       "    <tr>\n",
       "      <th>text</th>\n",
       "      <th></th>\n",
       "      <th></th>\n",
       "    </tr>\n",
       "  </thead>\n",
       "  <tbody>\n",
       "    <tr>\n",
       "      <th>Милое лицо</th>\n",
       "      <td>[Лицо]</td>\n",
       "      <td>[Лицо]</td>\n",
       "    </tr>\n",
       "    <tr>\n",
       "      <th>Сладкий чай</th>\n",
       "      <td>[Чай]</td>\n",
       "      <td>[Чай, Ягода]</td>\n",
       "    </tr>\n",
       "  </tbody>\n",
       "</table>\n",
       "</div>"
      ],
      "text/plain": [
       "                  t             p\n",
       "text                             \n",
       "Милое лицо   [Лицо]        [Лицо]\n",
       "Сладкий чай   [Чай]  [Чай, Ягода]"
      ]
     },
     "execution_count": 4,
     "metadata": {},
     "output_type": "execute_result"
    }
   ],
   "source": [
    "agr = d.groupby(by='text', group_keys=False).agg(t=('t','unique'), p=('p','unique'))\n",
    "agr.head()"
   ]
  },
  {
   "cell_type": "code",
   "execution_count": 5,
   "id": "1e7ae25b-efe0-4a31-8891-a6e027731fe5",
   "metadata": {},
   "outputs": [
    {
     "data": {
      "text/html": [
       "<div>\n",
       "<style scoped>\n",
       "    .dataframe tbody tr th:only-of-type {\n",
       "        vertical-align: middle;\n",
       "    }\n",
       "\n",
       "    .dataframe tbody tr th {\n",
       "        vertical-align: top;\n",
       "    }\n",
       "\n",
       "    .dataframe thead th {\n",
       "        text-align: right;\n",
       "    }\n",
       "</style>\n",
       "<table border=\"1\" class=\"dataframe\">\n",
       "  <thead>\n",
       "    <tr style=\"text-align: right;\">\n",
       "      <th></th>\n",
       "      <th>t</th>\n",
       "      <th>p</th>\n",
       "    </tr>\n",
       "    <tr>\n",
       "      <th>text</th>\n",
       "      <th></th>\n",
       "      <th></th>\n",
       "    </tr>\n",
       "  </thead>\n",
       "  <tbody>\n",
       "    <tr>\n",
       "      <th>Милое лицо</th>\n",
       "      <td>[Лицо]</td>\n",
       "      <td>[Лицо]</td>\n",
       "    </tr>\n",
       "    <tr>\n",
       "      <th>Сладкий чай</th>\n",
       "      <td>[Чай]</td>\n",
       "      <td>[Чай, Ягода]</td>\n",
       "    </tr>\n",
       "  </tbody>\n",
       "</table>\n",
       "</div>"
      ],
      "text/plain": [
       "                  t             p\n",
       "text                             \n",
       "Милое лицо   [Лицо]        [Лицо]\n",
       "Сладкий чай   [Чай]  [Чай, Ягода]"
      ]
     },
     "execution_count": 5,
     "metadata": {},
     "output_type": "execute_result"
    }
   ],
   "source": [
    "agr = d.groupby(by='text').agg(['unique'])\n",
    "agr.columns = agr.columns.droplevel(1)\n",
    "agr.head()"
   ]
  },
  {
   "cell_type": "code",
   "execution_count": 6,
   "id": "6bf78097-a08b-4455-ba5e-3a91b4bed792",
   "metadata": {},
   "outputs": [
    {
     "data": {
      "text/plain": [
       "array(['Лицо', 'Чай', 'Ягода'], dtype=object)"
      ]
     },
     "execution_count": 6,
     "metadata": {},
     "output_type": "execute_result"
    }
   ],
   "source": [
    "d[['t', 'p']].agg('unique')"
   ]
  },
  {
   "cell_type": "code",
   "execution_count": 7,
   "id": "dfba4ebb-1026-4598-aa76-f7b5710a0917",
   "metadata": {},
   "outputs": [
    {
     "data": {
      "text/plain": [
       "1.0"
      ]
     },
     "execution_count": 7,
     "metadata": {},
     "output_type": "execute_result"
    }
   ],
   "source": [
    "from sklearn.preprocessing import MultiLabelBinarizer\n",
    "from sklearn.metrics import precision_score, recall_score\n",
    "\n",
    "mlb = MultiLabelBinarizer(classes=d[['t', 'p']].agg('unique'))\n",
    "\n",
    "gold_labels = mlb.fit_transform(agr['t'])\n",
    "pred_labels = mlb.transform(agr['p'])\n",
    "\n",
    "recall_score(gold_labels, pred_labels, average='samples')"
   ]
  },
  {
   "cell_type": "markdown",
   "id": "1f3bab66-feb9-4cf5-bd5e-e8669eb06e06",
   "metadata": {},
   "source": [
    "# Подсчёт метрик"
   ]
  },
  {
   "cell_type": "code",
   "execution_count": 69,
   "id": "35072d93-47c6-4992-8fd1-9de028ab73c3",
   "metadata": {},
   "outputs": [
    {
     "data": {
      "text/html": [
       "<div>\n",
       "<style scoped>\n",
       "    .dataframe tbody tr th:only-of-type {\n",
       "        vertical-align: middle;\n",
       "    }\n",
       "\n",
       "    .dataframe tbody tr th {\n",
       "        vertical-align: top;\n",
       "    }\n",
       "\n",
       "    .dataframe thead th {\n",
       "        text-align: right;\n",
       "    }\n",
       "</style>\n",
       "<table border=\"1\" class=\"dataframe\">\n",
       "  <thead>\n",
       "    <tr style=\"text-align: right;\">\n",
       "      <th></th>\n",
       "      <th>phrase</th>\n",
       "      <th>subtopic</th>\n",
       "      <th>frequency</th>\n",
       "      <th>lemmas</th>\n",
       "    </tr>\n",
       "  </thead>\n",
       "  <tbody>\n",
       "    <tr>\n",
       "      <th>0</th>\n",
       "      <td>флакон</td>\n",
       "      <td>Флакон</td>\n",
       "      <td>88474</td>\n",
       "      <td>флакон</td>\n",
       "    </tr>\n",
       "    <tr>\n",
       "      <th>1</th>\n",
       "      <td>шлейф</td>\n",
       "      <td>След аромата</td>\n",
       "      <td>51317</td>\n",
       "      <td>шлейф</td>\n",
       "    </tr>\n",
       "    <tr>\n",
       "      <th>2</th>\n",
       "      <td>роза</td>\n",
       "      <td>Цветочные</td>\n",
       "      <td>35609</td>\n",
       "      <td>роза</td>\n",
       "    </tr>\n",
       "    <tr>\n",
       "      <th>3</th>\n",
       "      <td>раскрывается</td>\n",
       "      <td>Время раскрытия</td>\n",
       "      <td>33018</td>\n",
       "      <td>раскрываться</td>\n",
       "    </tr>\n",
       "    <tr>\n",
       "      <th>4</th>\n",
       "      <td>нота</td>\n",
       "      <td>Нота</td>\n",
       "      <td>31010</td>\n",
       "      <td>нота</td>\n",
       "    </tr>\n",
       "  </tbody>\n",
       "</table>\n",
       "</div>"
      ],
      "text/plain": [
       "         phrase         subtopic  frequency        lemmas\n",
       "0        флакон           Флакон      88474        флакон\n",
       "1         шлейф     След аромата      51317         шлейф\n",
       "2          роза        Цветочные      35609          роза\n",
       "3  раскрывается  Время раскрытия      33018  раскрываться\n",
       "4          нота             Нота      31010          нота"
      ]
     },
     "execution_count": 73,
     "metadata": {},
     "output_type": "execute_result"
    }
   ],
   "source": [
    "train = pd.read_csv('data/processed/perfumery_train.csv').sort_values('frequency', ascending=False)[['phrase', 'subtopic']]\n",
    "train.head()"
   ]
  },
  {
   "cell_type": "code",
   "execution_count": 261,
   "id": "12ee6851-ca94-4289-bbd5-020178793dbb",
   "metadata": {},
   "outputs": [
    {
     "data": {
      "text/html": [
       "<div>\n",
       "<style scoped>\n",
       "    .dataframe tbody tr th:only-of-type {\n",
       "        vertical-align: middle;\n",
       "    }\n",
       "\n",
       "    .dataframe tbody tr th {\n",
       "        vertical-align: top;\n",
       "    }\n",
       "\n",
       "    .dataframe thead th {\n",
       "        text-align: right;\n",
       "    }\n",
       "</style>\n",
       "<table border=\"1\" class=\"dataframe\">\n",
       "  <thead>\n",
       "    <tr style=\"text-align: right;\">\n",
       "      <th></th>\n",
       "      <th>f1</th>\n",
       "      <th>precision</th>\n",
       "      <th>recall</th>\n",
       "      <th>validation_size</th>\n",
       "      <th>model_from_val</th>\n",
       "      <th>model_from_all</th>\n",
       "      <th>people_from_val</th>\n",
       "    </tr>\n",
       "  </thead>\n",
       "  <tbody>\n",
       "    <tr>\n",
       "      <th>38</th>\n",
       "      <td>0.926896</td>\n",
       "      <td>0.905446</td>\n",
       "      <td>0.986315</td>\n",
       "      <td>19657</td>\n",
       "      <td>19235</td>\n",
       "      <td>0</td>\n",
       "      <td>19500</td>\n",
       "    </tr>\n",
       "    <tr>\n",
       "      <th>39</th>\n",
       "      <td>0.925339</td>\n",
       "      <td>0.903805</td>\n",
       "      <td>0.985811</td>\n",
       "      <td>20157</td>\n",
       "      <td>19778</td>\n",
       "      <td>0</td>\n",
       "      <td>20000</td>\n",
       "    </tr>\n",
       "    <tr>\n",
       "      <th>40</th>\n",
       "      <td>0.925578</td>\n",
       "      <td>0.903919</td>\n",
       "      <td>0.985380</td>\n",
       "      <td>20657</td>\n",
       "      <td>20275</td>\n",
       "      <td>0</td>\n",
       "      <td>20500</td>\n",
       "    </tr>\n",
       "    <tr>\n",
       "      <th>41</th>\n",
       "      <td>0.924749</td>\n",
       "      <td>0.902891</td>\n",
       "      <td>0.984970</td>\n",
       "      <td>21157</td>\n",
       "      <td>20727</td>\n",
       "      <td>0</td>\n",
       "      <td>21000</td>\n",
       "    </tr>\n",
       "    <tr>\n",
       "      <th>42</th>\n",
       "      <td>0.927303</td>\n",
       "      <td>0.905535</td>\n",
       "      <td>0.988445</td>\n",
       "      <td>21550</td>\n",
       "      <td>21226</td>\n",
       "      <td>0</td>\n",
       "      <td>21393</td>\n",
       "    </tr>\n",
       "  </tbody>\n",
       "</table>\n",
       "</div>"
      ],
      "text/plain": [
       "          f1  precision    recall  validation_size  model_from_val  \\\n",
       "38  0.926896   0.905446  0.986315            19657           19235   \n",
       "39  0.925339   0.903805  0.985811            20157           19778   \n",
       "40  0.925578   0.903919  0.985380            20657           20275   \n",
       "41  0.924749   0.902891  0.984970            21157           20727   \n",
       "42  0.927303   0.905535  0.988445            21550           21226   \n",
       "\n",
       "    model_from_all  people_from_val  \n",
       "38               0            19500  \n",
       "39               0            20000  \n",
       "40               0            20500  \n",
       "41               0            21000  \n",
       "42               0            21393  "
      ]
     },
     "execution_count": 261,
     "metadata": {},
     "output_type": "execute_result"
    }
   ],
   "source": [
    "all_metrics = pd.read_csv('data/model/0.85_500_all_metrics.csv')\n",
    "all_metrics.tail()"
   ]
  },
  {
   "cell_type": "code",
   "execution_count": 262,
   "id": "7e294b91-a4b8-4c0a-8f42-f8803906750e",
   "metadata": {},
   "outputs": [
    {
     "data": {
      "text/plain": [
       "f1           0.925877\n",
       "precision    0.904115\n",
       "recall       0.986265\n",
       "dtype: float64"
      ]
     },
     "execution_count": 262,
     "metadata": {},
     "output_type": "execute_result"
    }
   ],
   "source": [
    "m = all_metrics[-3:][['f1', 'precision', 'recall']].agg('mean')\n",
    "m"
   ]
  },
  {
   "cell_type": "code",
   "execution_count": 263,
   "id": "6c985635-8df3-4697-9b44-df4f06d02776",
   "metadata": {},
   "outputs": [
    {
     "data": {
      "text/html": [
       "<div>\n",
       "<style scoped>\n",
       "    .dataframe tbody tr th:only-of-type {\n",
       "        vertical-align: middle;\n",
       "    }\n",
       "\n",
       "    .dataframe tbody tr th {\n",
       "        vertical-align: top;\n",
       "    }\n",
       "\n",
       "    .dataframe thead th {\n",
       "        text-align: right;\n",
       "    }\n",
       "</style>\n",
       "<table border=\"1\" class=\"dataframe\">\n",
       "  <thead>\n",
       "    <tr style=\"text-align: right;\">\n",
       "      <th></th>\n",
       "      <th>f1</th>\n",
       "      <th>precision</th>\n",
       "      <th>recall</th>\n",
       "    </tr>\n",
       "  </thead>\n",
       "  <tbody>\n",
       "    <tr>\n",
       "      <th>42</th>\n",
       "      <td>0.927303</td>\n",
       "      <td>0.905535</td>\n",
       "      <td>0.988445</td>\n",
       "    </tr>\n",
       "  </tbody>\n",
       "</table>\n",
       "</div>"
      ],
      "text/plain": [
       "          f1  precision    recall\n",
       "42  0.927303   0.905535  0.988445"
      ]
     },
     "execution_count": 263,
     "metadata": {},
     "output_type": "execute_result"
    }
   ],
   "source": [
    "all_metrics.iloc[-1:, :3]"
   ]
  },
  {
   "cell_type": "code",
   "execution_count": 272,
   "id": "58efce43-1248-4ea8-9c51-45c723088ea6",
   "metadata": {},
   "outputs": [],
   "source": [
    "all_metrics.iloc[-1:, :3] = all_metrics.iloc[-3:, :3].agg('mean')"
   ]
  },
  {
   "cell_type": "code",
   "execution_count": 267,
   "id": "7066225e-09e1-4dae-b66f-3202a112f146",
   "metadata": {},
   "outputs": [
    {
     "data": {
      "text/plain": [
       "f1           0.925402\n",
       "precision    0.903642\n",
       "recall       0.985538\n",
       "dtype: float64"
      ]
     },
     "execution_count": 267,
     "metadata": {},
     "output_type": "execute_result"
    }
   ],
   "source": [
    "all_metrics[-3:][['f1', 'precision', 'recall']].agg('mean')"
   ]
  },
  {
   "cell_type": "code",
   "execution_count": 293,
   "id": "15f21d6e-3fac-4ad7-9bf3-47b16c7a5b8d",
   "metadata": {},
   "outputs": [],
   "source": [
    "x = [[1], [2], [1, 2]]"
   ]
  },
  {
   "cell_type": "code",
   "execution_count": 298,
   "id": "0eb32fa4-55b4-49cd-896d-9db663d56239",
   "metadata": {},
   "outputs": [
    {
     "data": {
      "text/plain": [
       "array([list([2]), list([1, 2])], dtype=object)"
      ]
     },
     "execution_count": 298,
     "metadata": {},
     "output_type": "execute_result"
    }
   ],
   "source": [
    "np.array(x, dtype='object')[[1, 2]]"
   ]
  },
  {
   "cell_type": "markdown",
   "id": "58964d78-7eec-472b-a216-5891428a73dc",
   "metadata": {},
   "source": [
    "# Отладка ошибки по Explode"
   ]
  },
  {
   "cell_type": "code",
   "execution_count": 40,
   "id": "e99f6a17-de5f-48f8-8386-aa5c92ddb3bf",
   "metadata": {},
   "outputs": [
    {
     "data": {
      "text/html": [
       "<div>\n",
       "<style scoped>\n",
       "    .dataframe tbody tr th:only-of-type {\n",
       "        vertical-align: middle;\n",
       "    }\n",
       "\n",
       "    .dataframe tbody tr th {\n",
       "        vertical-align: top;\n",
       "    }\n",
       "\n",
       "    .dataframe thead th {\n",
       "        text-align: right;\n",
       "    }\n",
       "</style>\n",
       "<table border=\"1\" class=\"dataframe\">\n",
       "  <thead>\n",
       "    <tr style=\"text-align: right;\">\n",
       "      <th></th>\n",
       "      <th>Unnamed: 0</th>\n",
       "      <th>phrase</th>\n",
       "      <th>true</th>\n",
       "      <th>subtopic</th>\n",
       "    </tr>\n",
       "  </thead>\n",
       "  <tbody>\n",
       "    <tr>\n",
       "      <th>0</th>\n",
       "      <td>0</td>\n",
       "      <td>проходной парфюм</td>\n",
       "      <td>Продукт</td>\n",
       "      <td>Продукт</td>\n",
       "    </tr>\n",
       "    <tr>\n",
       "      <th>1</th>\n",
       "      <td>0</td>\n",
       "      <td>проходной парфюм</td>\n",
       "      <td>Продукт</td>\n",
       "      <td>Мужской</td>\n",
       "    </tr>\n",
       "    <tr>\n",
       "      <th>2</th>\n",
       "      <td>1</td>\n",
       "      <td>процентное содержание</td>\n",
       "      <td>Список ингредиентов</td>\n",
       "      <td>Список ингредиентов</td>\n",
       "    </tr>\n",
       "    <tr>\n",
       "      <th>3</th>\n",
       "      <td>1</td>\n",
       "      <td>процентное содержание</td>\n",
       "      <td>Список ингредиентов</td>\n",
       "      <td>Алкоголя/спирта</td>\n",
       "    </tr>\n",
       "    <tr>\n",
       "      <th>4</th>\n",
       "      <td>1</td>\n",
       "      <td>процентное содержание</td>\n",
       "      <td>Список ингредиентов</td>\n",
       "      <td>Количество/объем</td>\n",
       "    </tr>\n",
       "  </tbody>\n",
       "</table>\n",
       "</div>"
      ],
      "text/plain": [
       "   Unnamed: 0                 phrase                 true             subtopic\n",
       "0           0       проходной парфюм              Продукт              Продукт\n",
       "1           0       проходной парфюм              Продукт              Мужской\n",
       "2           1  процентное содержание  Список ингредиентов  Список ингредиентов\n",
       "3           1  процентное содержание  Список ингредиентов      Алкоголя/спирта\n",
       "4           1  процентное содержание  Список ингредиентов     Количество/объем"
      ]
     },
     "execution_count": 40,
     "metadata": {},
     "output_type": "execute_result"
    }
   ],
   "source": [
    "test = pd.read_csv('testt.csv')\n",
    "test.head()"
   ]
  },
  {
   "cell_type": "markdown",
   "id": "3ff90962-8df7-4645-b380-e7b67af4bfed",
   "metadata": {},
   "source": [
    "**Загрузка данных**"
   ]
  },
  {
   "cell_type": "code",
   "execution_count": 41,
   "id": "15783ad9-36dc-47bd-9150-d52cf1e2df57",
   "metadata": {},
   "outputs": [
    {
     "data": {
      "text/html": [
       "<div>\n",
       "<style scoped>\n",
       "    .dataframe tbody tr th:only-of-type {\n",
       "        vertical-align: middle;\n",
       "    }\n",
       "\n",
       "    .dataframe tbody tr th {\n",
       "        vertical-align: top;\n",
       "    }\n",
       "\n",
       "    .dataframe thead th {\n",
       "        text-align: right;\n",
       "    }\n",
       "</style>\n",
       "<table border=\"1\" class=\"dataframe\">\n",
       "  <thead>\n",
       "    <tr style=\"text-align: right;\">\n",
       "      <th></th>\n",
       "      <th>subtopic</th>\n",
       "      <th>true</th>\n",
       "    </tr>\n",
       "    <tr>\n",
       "      <th>phrase</th>\n",
       "      <th></th>\n",
       "      <th></th>\n",
       "    </tr>\n",
       "  </thead>\n",
       "  <tbody>\n",
       "    <tr>\n",
       "      <th>проходной парфюм</th>\n",
       "      <td>[Продукт, Мужской]</td>\n",
       "      <td>[Продукт]</td>\n",
       "    </tr>\n",
       "    <tr>\n",
       "      <th>процентное содержание</th>\n",
       "      <td>[Список ингредиентов, Алкоголя/спирта, Количес...</td>\n",
       "      <td>[Список ингредиентов]</td>\n",
       "    </tr>\n",
       "    <tr>\n",
       "      <th>процентное соотношение</th>\n",
       "      <td>[Сочетание, Список ингредиентов, Количество/об...</td>\n",
       "      <td>[Список ингредиентов]</td>\n",
       "    </tr>\n",
       "    <tr>\n",
       "      <th>процентом алкоголя</th>\n",
       "      <td>[Нота, Оттенок, Алкоголя/спирта]</td>\n",
       "      <td>[Список ингредиентов]</td>\n",
       "    </tr>\n",
       "    <tr>\n",
       "      <th>процентом содержания</th>\n",
       "      <td>[Список ингредиентов, Количество/объем, Алкого...</td>\n",
       "      <td>[Список ингредиентов]</td>\n",
       "    </tr>\n",
       "    <tr>\n",
       "      <th>...</th>\n",
       "      <td>...</td>\n",
       "      <td>...</td>\n",
       "    </tr>\n",
       "    <tr>\n",
       "      <th>пудринка</th>\n",
       "      <td>[Кислый, Пирамида, След аромата, Острый, Ягодный]</td>\n",
       "      <td>[Пудровый]</td>\n",
       "    </tr>\n",
       "    <tr>\n",
       "      <th>пудринкой</th>\n",
       "      <td>[Специи, Кислый, Цветочные, Горький, Цитрусовые]</td>\n",
       "      <td>[Пудровый]</td>\n",
       "    </tr>\n",
       "    <tr>\n",
       "      <th>пудровая</th>\n",
       "      <td>[Пудровый, Нежный, Ореха/ореховый]</td>\n",
       "      <td>[Пудровый]</td>\n",
       "    </tr>\n",
       "    <tr>\n",
       "      <th>пудровая база</th>\n",
       "      <td>[Нежный, Мускусные, Сладости, База, Маслянистый]</td>\n",
       "      <td>[Пудровый]</td>\n",
       "    </tr>\n",
       "    <tr>\n",
       "      <th>пудровая ваниль</th>\n",
       "      <td>[Нежный, Сладкий, Сладости, Выпечки, Ореха/оре...</td>\n",
       "      <td>[Пудровый]</td>\n",
       "    </tr>\n",
       "  </tbody>\n",
       "</table>\n",
       "<p>250 rows × 2 columns</p>\n",
       "</div>"
      ],
      "text/plain": [
       "                                                                 subtopic  \\\n",
       "phrase                                                                      \n",
       "проходной парфюм                                       [Продукт, Мужской]   \n",
       "процентное содержание   [Список ингредиентов, Алкоголя/спирта, Количес...   \n",
       "процентное соотношение  [Сочетание, Список ингредиентов, Количество/об...   \n",
       "процентом алкоголя                       [Нота, Оттенок, Алкоголя/спирта]   \n",
       "процентом содержания    [Список ингредиентов, Количество/объем, Алкого...   \n",
       "...                                                                   ...   \n",
       "пудринка                [Кислый, Пирамида, След аромата, Острый, Ягодный]   \n",
       "пудринкой                [Специи, Кислый, Цветочные, Горький, Цитрусовые]   \n",
       "пудровая                               [Пудровый, Нежный, Ореха/ореховый]   \n",
       "пудровая база            [Нежный, Мускусные, Сладости, База, Маслянистый]   \n",
       "пудровая ваниль         [Нежный, Сладкий, Сладости, Выпечки, Ореха/оре...   \n",
       "\n",
       "                                         true  \n",
       "phrase                                         \n",
       "проходной парфюм                    [Продукт]  \n",
       "процентное содержание   [Список ингредиентов]  \n",
       "процентное соотношение  [Список ингредиентов]  \n",
       "процентом алкоголя      [Список ингредиентов]  \n",
       "процентом содержания    [Список ингредиентов]  \n",
       "...                                       ...  \n",
       "пудринка                           [Пудровый]  \n",
       "пудринкой                          [Пудровый]  \n",
       "пудровая                           [Пудровый]  \n",
       "пудровая база                      [Пудровый]  \n",
       "пудровая ваниль                    [Пудровый]  \n",
       "\n",
       "[250 rows x 2 columns]"
      ]
     },
     "execution_count": 41,
     "metadata": {},
     "output_type": "execute_result"
    }
   ],
   "source": [
    "t = test.groupby(by='phrase').agg(subtopic=('subtopic', 'unique'), true=('true', 'unique'))\n",
    "t"
   ]
  },
  {
   "cell_type": "code",
   "execution_count": 42,
   "id": "e01fdab3-a6a7-4981-b383-eb2e63ee4b39",
   "metadata": {},
   "outputs": [],
   "source": [
    "labels = np.array([], dtype='object')\n",
    "for i in range(len(t)):\n",
    "    labels = np.append(labels, [*t['subtopic'][i], *t['true'][i]])\n",
    "labels = np.unique(labels)"
   ]
  },
  {
   "cell_type": "code",
   "execution_count": 13,
   "id": "d1a127ee-fa6a-47f3-b127-421338b9c288",
   "metadata": {},
   "outputs": [
    {
     "data": {
      "text/html": [
       "<div>\n",
       "<style scoped>\n",
       "    .dataframe tbody tr th:only-of-type {\n",
       "        vertical-align: middle;\n",
       "    }\n",
       "\n",
       "    .dataframe tbody tr th {\n",
       "        vertical-align: top;\n",
       "    }\n",
       "\n",
       "    .dataframe thead th {\n",
       "        text-align: right;\n",
       "    }\n",
       "</style>\n",
       "<table border=\"1\" class=\"dataframe\">\n",
       "  <thead>\n",
       "    <tr style=\"text-align: right;\">\n",
       "      <th></th>\n",
       "      <th>subtopic</th>\n",
       "      <th>true</th>\n",
       "    </tr>\n",
       "    <tr>\n",
       "      <th>phrase</th>\n",
       "      <th></th>\n",
       "      <th></th>\n",
       "    </tr>\n",
       "  </thead>\n",
       "  <tbody>\n",
       "    <tr>\n",
       "      <th>avonназвание</th>\n",
       "      <td>[Ореха/ореховый, Звучание, Полноразмерное сред...</td>\n",
       "      <td>[Название бренда/автора]</td>\n",
       "    </tr>\n",
       "    <tr>\n",
       "      <th>avonстоимость</th>\n",
       "      <td>[Амбра/Амбровый, Стойкость, Удовые, Количество...</td>\n",
       "      <td>[Название бренда/автора]</td>\n",
       "    </tr>\n",
       "    <tr>\n",
       "      <th>brocardколлекция</th>\n",
       "      <td>[Палитра, Миниатюра, Линейка, Серия, Композиция]</td>\n",
       "      <td>[Название бренда/автора]</td>\n",
       "    </tr>\n",
       "    <tr>\n",
       "      <th>cвежий</th>\n",
       "      <td>[Амбра/Амбровый, Ореха/ореховый, Сладкий, Свеж...</td>\n",
       "      <td>[Свежий]</td>\n",
       "    </tr>\n",
       "    <tr>\n",
       "      <th>cладкий</th>\n",
       "      <td>[Амбра/Амбровый, Ореха/ореховый, Сладкий, Остр...</td>\n",
       "      <td>[Сладкий]</td>\n",
       "    </tr>\n",
       "  </tbody>\n",
       "</table>\n",
       "</div>"
      ],
      "text/plain": [
       "                                                           subtopic  \\\n",
       "phrase                                                                \n",
       "avonназвание      [Ореха/ореховый, Звучание, Полноразмерное сред...   \n",
       "avonстоимость     [Амбра/Амбровый, Стойкость, Удовые, Количество...   \n",
       "brocardколлекция   [Палитра, Миниатюра, Линейка, Серия, Композиция]   \n",
       "cвежий            [Амбра/Амбровый, Ореха/ореховый, Сладкий, Свеж...   \n",
       "cладкий           [Амбра/Амбровый, Ореха/ореховый, Сладкий, Остр...   \n",
       "\n",
       "                                      true  \n",
       "phrase                                      \n",
       "avonназвание      [Название бренда/автора]  \n",
       "avonстоимость     [Название бренда/автора]  \n",
       "brocardколлекция  [Название бренда/автора]  \n",
       "cвежий                            [Свежий]  \n",
       "cладкий                          [Сладкий]  "
      ]
     },
     "execution_count": 13,
     "metadata": {},
     "output_type": "execute_result"
    }
   ],
   "source": [
    "t['subtopic'][0] = np.append(t['subtopic'][0], ['Тропический аромат'])\n",
    "t"
   ]
  },
  {
   "cell_type": "code",
   "execution_count": 155,
   "id": "5501f249-700b-473a-aa73-736e2cd0aa4c",
   "metadata": {},
   "outputs": [
    {
     "data": {
      "text/html": [
       "<div>\n",
       "<style scoped>\n",
       "    .dataframe tbody tr th:only-of-type {\n",
       "        vertical-align: middle;\n",
       "    }\n",
       "\n",
       "    .dataframe tbody tr th {\n",
       "        vertical-align: top;\n",
       "    }\n",
       "\n",
       "    .dataframe thead th {\n",
       "        text-align: right;\n",
       "    }\n",
       "</style>\n",
       "<table border=\"1\" class=\"dataframe\">\n",
       "  <thead>\n",
       "    <tr style=\"text-align: right;\">\n",
       "      <th></th>\n",
       "      <th>subtopic</th>\n",
       "      <th>true</th>\n",
       "    </tr>\n",
       "    <tr>\n",
       "      <th>phrase</th>\n",
       "      <th></th>\n",
       "      <th></th>\n",
       "    </tr>\n",
       "  </thead>\n",
       "  <tbody>\n",
       "    <tr>\n",
       "      <th>аромат альдегидов</th>\n",
       "      <td>[Альдегида, Аромат листьев, Аромат смолы, Аром...</td>\n",
       "      <td>[Альдегида, Тропический аромат, Аромат листьев]</td>\n",
       "    </tr>\n",
       "    <tr>\n",
       "      <th>аромат ананаса</th>\n",
       "      <td>[Тропический аромат, Алкоголя/спирта, Аромат л...</td>\n",
       "      <td>[Тропический аромат]</td>\n",
       "    </tr>\n",
       "    <tr>\n",
       "      <th>аромат ангелов</th>\n",
       "      <td>[Название бренда/автора, Алкоголя/спирта, Альд...</td>\n",
       "      <td>[Название аромата]</td>\n",
       "    </tr>\n",
       "    <tr>\n",
       "      <th>аромат апельсина</th>\n",
       "      <td>[Цитрусовые, Тропический аромат, Аромат листье...</td>\n",
       "      <td>[Цитрусовые]</td>\n",
       "    </tr>\n",
       "    <tr>\n",
       "      <th>аромат апельсинового цвета</th>\n",
       "      <td>[Цветочные, Цитрусовые, Шампанского, Аромат ли...</td>\n",
       "      <td>[Цвет, Цветочные, Шампанского, Цитрусовые]</td>\n",
       "    </tr>\n",
       "  </tbody>\n",
       "</table>\n",
       "</div>"
      ],
      "text/plain": [
       "                                                                     subtopic  \\\n",
       "phrase                                                                          \n",
       "аромат альдегидов           [Альдегида, Аромат листьев, Аромат смолы, Аром...   \n",
       "аромат ананаса              [Тропический аромат, Алкоголя/спирта, Аромат л...   \n",
       "аромат ангелов              [Название бренда/автора, Алкоголя/спирта, Альд...   \n",
       "аромат апельсина            [Цитрусовые, Тропический аромат, Аромат листье...   \n",
       "аромат апельсинового цвета  [Цветочные, Цитрусовые, Шампанского, Аромат ли...   \n",
       "\n",
       "                                                                       true  \n",
       "phrase                                                                       \n",
       "аромат альдегидов           [Альдегида, Тропический аромат, Аромат листьев]  \n",
       "аромат ананаса                                         [Тропический аромат]  \n",
       "аромат ангелов                                           [Название аромата]  \n",
       "аромат апельсина                                               [Цитрусовые]  \n",
       "аромат апельсинового цвета       [Цвет, Цветочные, Шампанского, Цитрусовые]  "
      ]
     },
     "execution_count": 155,
     "metadata": {},
     "output_type": "execute_result"
    }
   ],
   "source": [
    "t['true'][4] = np.append(t['true'][4], ['Цитрусовые'])\n",
    "t"
   ]
  },
  {
   "cell_type": "code",
   "execution_count": 43,
   "id": "b42f7708-bc5c-4dc3-8d70-3ec29ec6a2ed",
   "metadata": {},
   "outputs": [
    {
     "data": {
      "text/plain": [
       "0.44"
      ]
     },
     "execution_count": 43,
     "metadata": {},
     "output_type": "execute_result"
    }
   ],
   "source": [
    "from sklearn.preprocessing import MultiLabelBinarizer\n",
    "from sklearn.metrics import precision_score, recall_score, f1_score\n",
    "\n",
    "mlb = MultiLabelBinarizer(classes=labels)\n",
    "\n",
    "gold_labels = mlb.fit_transform(t['true'].values)\n",
    "pred_labels = mlb.transform(t['subtopic'].values)\n",
    "\n",
    "precision_score(y_true=pred_labels, y_pred=gold_labels, average='samples')"
   ]
  },
  {
   "cell_type": "code",
   "execution_count": 44,
   "id": "f5558ccb-1244-4fa3-80a4-8c76f67d937d",
   "metadata": {},
   "outputs": [
    {
     "data": {
      "text/plain": [
       "0.1156"
      ]
     },
     "execution_count": 44,
     "metadata": {},
     "output_type": "execute_result"
    }
   ],
   "source": [
    "recall_score(y_true=pred_labels, y_pred=gold_labels, average='samples')"
   ]
  },
  {
   "cell_type": "code",
   "execution_count": 45,
   "id": "6800e6e4-f6a1-4840-8267-33c27d6e0c06",
   "metadata": {},
   "outputs": [
    {
     "data": {
      "text/plain": [
       "0.17600000000000002"
      ]
     },
     "execution_count": 45,
     "metadata": {},
     "output_type": "execute_result"
    }
   ],
   "source": [
    "f1_score(pred_labels, gold_labels, average='samples')"
   ]
  },
  {
   "cell_type": "markdown",
   "id": "20a13ebb-e09b-448f-b797-eafc38024b2d",
   "metadata": {},
   "source": [
    "**Количество вхождений**"
   ]
  },
  {
   "cell_type": "code",
   "execution_count": 46,
   "id": "77103838-7852-42d0-a8d6-415586d19074",
   "metadata": {},
   "outputs": [],
   "source": [
    "count = 0\n",
    "for i in range(t.shape[0]):\n",
    "    if t['true'].values[i][0] in t['subtopic'].values[i]:\n",
    "        count += 1\n",
    "count"
   ]
  },
  {
   "cell_type": "markdown",
   "id": "2afaf25f-f927-48f1-87ad-74dd69911b78",
   "metadata": {},
   "source": [
    "<h1 align='center'>leave one out</h1>"
   ]
  },
  {
   "cell_type": "code",
   "execution_count": 2,
   "id": "2a16eeba-7949-441c-aa8c-55a77183fd98",
   "metadata": {},
   "outputs": [],
   "source": [
    "import pandas as pd"
   ]
  },
  {
   "cell_type": "code",
   "execution_count": 30,
   "id": "2d69672e",
   "metadata": {},
   "outputs": [
    {
     "data": {
      "text/html": [
       "<div>\n",
       "<style scoped>\n",
       "    .dataframe tbody tr th:only-of-type {\n",
       "        vertical-align: middle;\n",
       "    }\n",
       "\n",
       "    .dataframe tbody tr th {\n",
       "        vertical-align: top;\n",
       "    }\n",
       "\n",
       "    .dataframe thead th {\n",
       "        text-align: right;\n",
       "    }\n",
       "</style>\n",
       "<table border=\"1\" class=\"dataframe\">\n",
       "  <thead>\n",
       "    <tr style=\"text-align: right;\">\n",
       "      <th></th>\n",
       "      <th>f1</th>\n",
       "      <th>precision</th>\n",
       "      <th>recall</th>\n",
       "      <th>validation_size</th>\n",
       "      <th>phrase</th>\n",
       "    </tr>\n",
       "  </thead>\n",
       "  <tbody>\n",
       "    <tr>\n",
       "      <th>0</th>\n",
       "      <td>0.0</td>\n",
       "      <td>0.0</td>\n",
       "      <td>0.00</td>\n",
       "      <td>1</td>\n",
       "      <td>avonназвание</td>\n",
       "    </tr>\n",
       "    <tr>\n",
       "      <th>1</th>\n",
       "      <td>0.0</td>\n",
       "      <td>0.0</td>\n",
       "      <td>0.00</td>\n",
       "      <td>1</td>\n",
       "      <td>avonстоимость</td>\n",
       "    </tr>\n",
       "    <tr>\n",
       "      <th>2</th>\n",
       "      <td>0.0</td>\n",
       "      <td>0.0</td>\n",
       "      <td>0.00</td>\n",
       "      <td>1</td>\n",
       "      <td>brocardколлекция</td>\n",
       "    </tr>\n",
       "    <tr>\n",
       "      <th>3</th>\n",
       "      <td>0.0</td>\n",
       "      <td>0.0</td>\n",
       "      <td>0.00</td>\n",
       "      <td>1</td>\n",
       "      <td>cвежий</td>\n",
       "    </tr>\n",
       "    <tr>\n",
       "      <th>4</th>\n",
       "      <td>0.4</td>\n",
       "      <td>1.0</td>\n",
       "      <td>0.25</td>\n",
       "      <td>1</td>\n",
       "      <td>cладкий</td>\n",
       "    </tr>\n",
       "  </tbody>\n",
       "</table>\n",
       "</div>"
      ],
      "text/plain": [
       "    f1  precision  recall  validation_size            phrase\n",
       "0  0.0        0.0    0.00                1      avonназвание\n",
       "1  0.0        0.0    0.00                1     avonстоимость\n",
       "2  0.0        0.0    0.00                1  brocardколлекция\n",
       "3  0.0        0.0    0.00                1            cвежий\n",
       "4  0.4        1.0    0.25                1           cладкий"
      ]
     },
     "execution_count": 30,
     "metadata": {},
     "output_type": "execute_result"
    }
   ],
   "source": [
    "metrics = pd.read_csv('data/model/0.9_all_metrics.csv')\n",
    "metrics.head()"
   ]
  },
  {
   "cell_type": "code",
   "execution_count": 13,
   "id": "5c1cea92-c60a-4061-813d-24bb73e473e2",
   "metadata": {},
   "outputs": [
    {
     "data": {
      "text/html": [
       "<div>\n",
       "<style scoped>\n",
       "    .dataframe tbody tr th:only-of-type {\n",
       "        vertical-align: middle;\n",
       "    }\n",
       "\n",
       "    .dataframe tbody tr th {\n",
       "        vertical-align: top;\n",
       "    }\n",
       "\n",
       "    .dataframe thead th {\n",
       "        text-align: right;\n",
       "    }\n",
       "</style>\n",
       "<table border=\"1\" class=\"dataframe\">\n",
       "  <thead>\n",
       "    <tr style=\"text-align: right;\">\n",
       "      <th></th>\n",
       "      <th>phrase</th>\n",
       "      <th>subtopic</th>\n",
       "      <th>true</th>\n",
       "    </tr>\n",
       "  </thead>\n",
       "  <tbody>\n",
       "    <tr>\n",
       "      <th>0</th>\n",
       "      <td>avonназвание</td>\n",
       "      <td>['Серия' 'Линейка' 'Дизайн упаковки' 'Название...</td>\n",
       "      <td>Название бренда/автора</td>\n",
       "    </tr>\n",
       "    <tr>\n",
       "      <th>1</th>\n",
       "      <td>avonстоимость</td>\n",
       "      <td>['Страна производства' 'Люкс' 'Продукт' 'Бюдже...</td>\n",
       "      <td>Название бренда/автора</td>\n",
       "    </tr>\n",
       "    <tr>\n",
       "      <th>2</th>\n",
       "      <td>brocardколлекция</td>\n",
       "      <td>['Женский' 'Страна производства' 'Продукт' 'Ни...</td>\n",
       "      <td>Название бренда/автора</td>\n",
       "    </tr>\n",
       "    <tr>\n",
       "      <th>3</th>\n",
       "      <td>cвежий</td>\n",
       "      <td>['Нежный' 'Сладкий' 'Цветочные' 'Острый' 'Цитр...</td>\n",
       "      <td>Свежий</td>\n",
       "    </tr>\n",
       "    <tr>\n",
       "      <th>4</th>\n",
       "      <td>cладкий</td>\n",
       "      <td>['Свежий' 'Сладкий' 'Флакон' 'Острый']</td>\n",
       "      <td>Сладкий</td>\n",
       "    </tr>\n",
       "  </tbody>\n",
       "</table>\n",
       "</div>"
      ],
      "text/plain": [
       "             phrase                                           subtopic  \\\n",
       "0      avonназвание  ['Серия' 'Линейка' 'Дизайн упаковки' 'Название...   \n",
       "1     avonстоимость  ['Страна производства' 'Люкс' 'Продукт' 'Бюдже...   \n",
       "2  brocardколлекция  ['Женский' 'Страна производства' 'Продукт' 'Ни...   \n",
       "3            cвежий  ['Нежный' 'Сладкий' 'Цветочные' 'Острый' 'Цитр...   \n",
       "4           cладкий             ['Свежий' 'Сладкий' 'Флакон' 'Острый']   \n",
       "\n",
       "                     true  \n",
       "0  Название бренда/автора  \n",
       "1  Название бренда/автора  \n",
       "2  Название бренда/автора  \n",
       "3                  Свежий  \n",
       "4                 Сладкий  "
      ]
     },
     "execution_count": 13,
     "metadata": {},
     "output_type": "execute_result"
    }
   ],
   "source": [
    "predicts = pd.read_csv('data/model/0.9_predicts.csv')\n",
    "predicts.head()"
   ]
  },
  {
   "cell_type": "code",
   "execution_count": 28,
   "id": "32ec6ce3-f8be-473d-9ef1-20d4e58c3345",
   "metadata": {},
   "outputs": [
    {
     "data": {
      "text/plain": [
       "['',\n",
       " 'Серия',\n",
       " ' ',\n",
       " 'Линейка',\n",
       " ' ',\n",
       " 'Дизайн упаковки',\n",
       " ' ',\n",
       " 'Название аромата',\n",
       " '']"
      ]
     },
     "execution_count": 28,
     "metadata": {},
     "output_type": "execute_result"
    }
   ],
   "source": [
    "predicts['subtopic'][0].replace('[', '').replace(']', '').split(\"'\")"
   ]
  },
  {
   "cell_type": "code",
   "execution_count": 31,
   "id": "41ee5242-e731-4d34-8df8-3d4f65b9ec43",
   "metadata": {},
   "outputs": [
    {
     "name": "stderr",
     "output_type": "stream",
     "text": [
      "C:\\Users\\bimas\\AppData\\Local\\Temp\\ipykernel_5540\\794148342.py:1: FutureWarning: Dropping of nuisance columns in DataFrame reductions (with 'numeric_only=None') is deprecated; in a future version this will raise TypeError.  Select only valid columns before calling the reduction.\n",
      "  metrics.agg('mean')\n"
     ]
    },
    {
     "data": {
      "text/plain": [
       "f1                 0.465500\n",
       "precision          0.915557\n",
       "recall             0.349431\n",
       "validation_size    1.000000\n",
       "dtype: float64"
      ]
     },
     "execution_count": 31,
     "metadata": {},
     "output_type": "execute_result"
    }
   ],
   "source": [
    "metrics.agg('mean')"
   ]
  },
  {
   "cell_type": "code",
   "execution_count": 38,
   "id": "70dd04a2-3c38-4b5a-8da0-7bd103931ab0",
   "metadata": {},
   "outputs": [
    {
     "data": {
      "text/html": [
       "<div>\n",
       "<style scoped>\n",
       "    .dataframe tbody tr th:only-of-type {\n",
       "        vertical-align: middle;\n",
       "    }\n",
       "\n",
       "    .dataframe tbody tr th {\n",
       "        vertical-align: top;\n",
       "    }\n",
       "\n",
       "    .dataframe thead th {\n",
       "        text-align: right;\n",
       "    }\n",
       "</style>\n",
       "<table border=\"1\" class=\"dataframe\">\n",
       "  <thead>\n",
       "    <tr style=\"text-align: right;\">\n",
       "      <th></th>\n",
       "      <th>f1</th>\n",
       "      <th>precision</th>\n",
       "      <th>recall</th>\n",
       "      <th>validation_size</th>\n",
       "      <th>phrase</th>\n",
       "    </tr>\n",
       "  </thead>\n",
       "  <tbody>\n",
       "    <tr>\n",
       "      <th>0</th>\n",
       "      <td>0.0</td>\n",
       "      <td>0.0</td>\n",
       "      <td>0.0</td>\n",
       "      <td>1</td>\n",
       "      <td>avonназвание</td>\n",
       "    </tr>\n",
       "    <tr>\n",
       "      <th>1</th>\n",
       "      <td>0.0</td>\n",
       "      <td>0.0</td>\n",
       "      <td>0.0</td>\n",
       "      <td>1</td>\n",
       "      <td>avonстоимость</td>\n",
       "    </tr>\n",
       "    <tr>\n",
       "      <th>2</th>\n",
       "      <td>0.0</td>\n",
       "      <td>0.0</td>\n",
       "      <td>0.0</td>\n",
       "      <td>1</td>\n",
       "      <td>brocardколлекция</td>\n",
       "    </tr>\n",
       "    <tr>\n",
       "      <th>3</th>\n",
       "      <td>0.0</td>\n",
       "      <td>0.0</td>\n",
       "      <td>0.0</td>\n",
       "      <td>1</td>\n",
       "      <td>cвежий</td>\n",
       "    </tr>\n",
       "    <tr>\n",
       "      <th>8</th>\n",
       "      <td>0.0</td>\n",
       "      <td>0.0</td>\n",
       "      <td>0.0</td>\n",
       "      <td>1</td>\n",
       "      <td>faberlicгод</td>\n",
       "    </tr>\n",
       "    <tr>\n",
       "      <th>...</th>\n",
       "      <td>...</td>\n",
       "      <td>...</td>\n",
       "      <td>...</td>\n",
       "      <td>...</td>\n",
       "      <td>...</td>\n",
       "    </tr>\n",
       "    <tr>\n",
       "      <th>11428</th>\n",
       "      <td>0.0</td>\n",
       "      <td>0.0</td>\n",
       "      <td>0.0</td>\n",
       "      <td>1</td>\n",
       "      <td>попроще аккорд</td>\n",
       "    </tr>\n",
       "    <tr>\n",
       "      <th>11443</th>\n",
       "      <td>0.0</td>\n",
       "      <td>0.0</td>\n",
       "      <td>0.0</td>\n",
       "      <td>1</td>\n",
       "      <td>попроще прямоугольный флакон</td>\n",
       "    </tr>\n",
       "    <tr>\n",
       "      <th>11445</th>\n",
       "      <td>0.0</td>\n",
       "      <td>0.0</td>\n",
       "      <td>0.0</td>\n",
       "      <td>1</td>\n",
       "      <td>попроще спрей</td>\n",
       "    </tr>\n",
       "    <tr>\n",
       "      <th>11446</th>\n",
       "      <td>0.0</td>\n",
       "      <td>0.0</td>\n",
       "      <td>0.0</td>\n",
       "      <td>1</td>\n",
       "      <td>попроще стеклянный флакон</td>\n",
       "    </tr>\n",
       "    <tr>\n",
       "      <th>11477</th>\n",
       "      <td>0.0</td>\n",
       "      <td>0.0</td>\n",
       "      <td>0.0</td>\n",
       "      <td>1</td>\n",
       "      <td>порванная упаковка</td>\n",
       "    </tr>\n",
       "  </tbody>\n",
       "</table>\n",
       "<p>970 rows × 5 columns</p>\n",
       "</div>"
      ],
      "text/plain": [
       "        f1  precision  recall  validation_size                        phrase\n",
       "0      0.0        0.0     0.0                1                  avonназвание\n",
       "1      0.0        0.0     0.0                1                 avonстоимость\n",
       "2      0.0        0.0     0.0                1              brocardколлекция\n",
       "3      0.0        0.0     0.0                1                        cвежий\n",
       "8      0.0        0.0     0.0                1                   faberlicгод\n",
       "...    ...        ...     ...              ...                           ...\n",
       "11428  0.0        0.0     0.0                1                попроще аккорд\n",
       "11443  0.0        0.0     0.0                1  попроще прямоугольный флакон\n",
       "11445  0.0        0.0     0.0                1                 попроще спрей\n",
       "11446  0.0        0.0     0.0                1     попроще стеклянный флакон\n",
       "11477  0.0        0.0     0.0                1            порванная упаковка\n",
       "\n",
       "[970 rows x 5 columns]"
      ]
     },
     "execution_count": 38,
     "metadata": {},
     "output_type": "execute_result"
    }
   ],
   "source": [
    "metrics.loc[metrics['precision'] == 0]"
   ]
  },
  {
   "cell_type": "markdown",
   "id": "00b084de-6202-46df-ab52-48f54fbcd09f",
   "metadata": {},
   "source": [
    "# perfumery"
   ]
  },
  {
   "cell_type": "code",
   "execution_count": 14,
   "id": "39bf168c-7374-46df-988e-5b202bac4180",
   "metadata": {},
   "outputs": [
    {
     "data": {
      "text/plain": [
       "0.7254409127318356"
      ]
     },
     "execution_count": 14,
     "metadata": {},
     "output_type": "execute_result"
    }
   ],
   "source": [
    "m = pd.read_csv('data/model/0.9_250_all_metrics.csv')\n",
    "m['precision'].mean()"
   ]
  },
  {
   "cell_type": "code",
   "execution_count": 15,
   "id": "9c0a7f05-60d9-4929-94d6-30556a4f413b",
   "metadata": {},
   "outputs": [
    {
     "data": {
      "text/plain": [
       "0.4267359433701856"
      ]
     },
     "execution_count": 15,
     "metadata": {},
     "output_type": "execute_result"
    }
   ],
   "source": [
    "m = pd.read_csv('data/model/0.9_250_marked_metrics.csv')\n",
    "m['precision'].mean()"
   ]
  },
  {
   "cell_type": "markdown",
   "id": "c8124dd4-a40f-4833-80ed-7adc37f53cac",
   "metadata": {},
   "source": [
    "# best"
   ]
  },
  {
   "cell_type": "code",
   "execution_count": 16,
   "id": "b981f914-2567-4877-aac7-3c7ac81d1c1d",
   "metadata": {},
   "outputs": [
    {
     "data": {
      "text/plain": [
       "0.7108103532188981"
      ]
     },
     "execution_count": 16,
     "metadata": {},
     "output_type": "execute_result"
    }
   ],
   "source": [
    "m = pd.read_csv('data/model/0.9_250_all_metrics.csv')\n",
    "m['precision'].mean()"
   ]
  },
  {
   "cell_type": "code",
   "execution_count": 17,
   "id": "171bf0fe-30b0-4e1a-bd03-5ac5fc315839",
   "metadata": {},
   "outputs": [
    {
     "data": {
      "text/plain": [
       "0.39694323279239685"
      ]
     },
     "execution_count": 17,
     "metadata": {},
     "output_type": "execute_result"
    }
   ],
   "source": [
    "m = pd.read_csv('data/model/0.9_250_marked_metrics.csv')\n",
    "m['precision'].mean()"
   ]
  },
  {
   "cell_type": "markdown",
   "id": "5d8a8256-3a50-428a-806d-8132316490f7",
   "metadata": {},
   "source": [
    "# new"
   ]
  },
  {
   "cell_type": "code",
   "execution_count": 18,
   "id": "2f6c4d90-ffd8-4e3a-80a1-0cccec77b55a",
   "metadata": {},
   "outputs": [
    {
     "data": {
      "text/plain": [
       "0.7316168050919891"
      ]
     },
     "execution_count": 18,
     "metadata": {},
     "output_type": "execute_result"
    }
   ],
   "source": [
    "m = pd.read_csv('data/model/0.9_250_all_metrics.csv')\n",
    "m['precision'].mean()"
   ]
  },
  {
   "cell_type": "code",
   "execution_count": 19,
   "id": "0f6caf44-12a6-4e1d-9d22-e05b89a6ac84",
   "metadata": {},
   "outputs": [
    {
     "data": {
      "text/plain": [
       "0.47776793932646644"
      ]
     },
     "execution_count": 19,
     "metadata": {},
     "output_type": "execute_result"
    }
   ],
   "source": [
    "m = pd.read_csv('data/model/0.9_250_marked_metrics.csv')\n",
    "m['precision'].mean()"
   ]
  },
  {
   "cell_type": "markdown",
   "id": "e3f04b12-bb9e-445f-b6c3-82810748ec6f",
   "metadata": {},
   "source": [
    "# cc300"
   ]
  },
  {
   "cell_type": "code",
   "execution_count": 23,
   "id": "72df6492-447c-46c4-a2fd-0dafa269d7b6",
   "metadata": {},
   "outputs": [
    {
     "data": {
      "text/plain": [
       "0.6800219494755948"
      ]
     },
     "execution_count": 23,
     "metadata": {},
     "output_type": "execute_result"
    }
   ],
   "source": [
    "m = pd.read_csv('data/model/0.9_250_all_metrics.csv')\n",
    "m['precision'].mean()"
   ]
  },
  {
   "cell_type": "code",
   "execution_count": 24,
   "id": "6bf24a01-3b8b-4a6e-a633-89a8506acc9e",
   "metadata": {},
   "outputs": [
    {
     "data": {
      "text/plain": [
       "0.6753190751290618"
      ]
     },
     "execution_count": 24,
     "metadata": {},
     "output_type": "execute_result"
    }
   ],
   "source": [
    "m = pd.read_csv('data/model/0.9_250_marked_metrics.csv')\n",
    "m['precision'].mean()"
   ]
  },
  {
   "cell_type": "code",
   "execution_count": null,
   "id": "b5866e6b-608f-4ed8-8bf6-abaa2dda61e9",
   "metadata": {},
   "outputs": [],
   "source": []
  }
 ],
 "metadata": {
  "interpreter": {
   "hash": "791e6c630daced8574dde6fc4604417cf567505ecdb76e9233c49247f0f75926"
  },
  "kernelspec": {
   "display_name": "Python 3 (ipykernel)",
   "language": "python",
   "name": "python3"
  },
  "language_info": {
   "codemirror_mode": {
    "name": "ipython",
    "version": 3
   },
   "file_extension": ".py",
   "mimetype": "text/x-python",
   "name": "python",
   "nbconvert_exporter": "python",
   "pygments_lexer": "ipython3",
   "version": "3.9.7"
  }
 },
 "nbformat": 4,
 "nbformat_minor": 5
}
