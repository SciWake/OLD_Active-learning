{
 "cells": [
  {
   "cell_type": "code",
   "execution_count": 40,
   "id": "cb2621c3-f748-4b4a-b715-9f64020bfbf3",
   "metadata": {
    "jupyter": {
     "source_hidden": true
    },
    "tags": []
   },
   "outputs": [],
   "source": [
    "import re\n",
    "import pandas as pd\n",
    "import numpy as np\n",
    "\n",
    "import fasttext"
   ]
  },
  {
   "cell_type": "code",
   "execution_count": 101,
   "id": "e45f5bc3-c550-416d-9969-2861cb465757",
   "metadata": {
    "jupyter": {
     "source_hidden": true
    },
    "tags": []
   },
   "outputs": [],
   "source": [
    "def allmax(a: np.array, limit: int = 0.95) -> list:\n",
    "    if len(a) == 0:\n",
    "        return []\n",
    "    all_ = []\n",
    "    for i in range(len(a)):\n",
    "        if a[i] >= limit:\n",
    "            all_.append(i)\n",
    "    return all_\n",
    "\n",
    "\n",
    "def allmin(a: np.array, limit: int = 0.95) -> list:\n",
    "    if len(a) == 0:\n",
    "        return []\n",
    "    all_ = []\n",
    "    for i in range(len(a)):\n",
    "        if a[i] <= limit:\n",
    "            all_.append(i)\n",
    "    return all_\n",
    "# https://stackoverflow.com/questions/17568612/how-to-make-numpy-argmax-return-all-occurrences-of-the-maximum"
   ]
  },
  {
   "cell_type": "markdown",
   "id": "1c49d674-8c0c-48c0-a33d-9d088ce348b9",
   "metadata": {},
   "source": [
    "# Data"
   ]
  },
  {
   "cell_type": "markdown",
   "id": "ae51f5b1-4be8-4275-b8a4-02f955a3b659",
   "metadata": {},
   "source": [
    "Это некие промежуточные файлы, но там как раз финальный результат разметки. Synonyms и Excludes надо объединить.\n",
    "\n",
    "Topic - тема, надо брать из поля Synonyms то, где в Result стоит 1  (0 - это блокирующие слова и фразы, типа мы считаем что слово \"агрессивный\" определяет \"Агрессивный аромат\", но если \"агрессивная реклама\" - то не хотим выделять эту тему).\n",
    "\n",
    "Parfjum_full_list_to_markup - общий список, в том числе то что не имеет темы"
   ]
  },
  {
   "cell_type": "code",
   "execution_count": 181,
   "id": "5e89b30f-3089-41da-b756-f37f2ad363c9",
   "metadata": {},
   "outputs": [
    {
     "data": {
      "text/html": [
       "<div>\n",
       "<style scoped>\n",
       "    .dataframe tbody tr th:only-of-type {\n",
       "        vertical-align: middle;\n",
       "    }\n",
       "\n",
       "    .dataframe tbody tr th {\n",
       "        vertical-align: top;\n",
       "    }\n",
       "\n",
       "    .dataframe thead th {\n",
       "        text-align: right;\n",
       "    }\n",
       "</style>\n",
       "<table border=\"1\" class=\"dataframe\">\n",
       "  <thead>\n",
       "    <tr style=\"text-align: right;\">\n",
       "      <th></th>\n",
       "      <th>Unnamed: 0</th>\n",
       "      <th>Unnamed: 0.1</th>\n",
       "      <th>Topic</th>\n",
       "      <th>Stemma</th>\n",
       "      <th>Excludes</th>\n",
       "      <th>Result</th>\n",
       "    </tr>\n",
       "  </thead>\n",
       "  <tbody>\n",
       "    <tr>\n",
       "      <th>0</th>\n",
       "      <td>0</td>\n",
       "      <td>0</td>\n",
       "      <td>Агрессивный</td>\n",
       "      <td>агрессив</td>\n",
       "      <td>агрессивная красотка</td>\n",
       "      <td>0</td>\n",
       "    </tr>\n",
       "    <tr>\n",
       "      <th>1</th>\n",
       "      <td>1</td>\n",
       "      <td>1</td>\n",
       "      <td>Аккорд</td>\n",
       "      <td>аккорд</td>\n",
       "      <td>абстрактный цветочный аккорд</td>\n",
       "      <td>1</td>\n",
       "    </tr>\n",
       "    <tr>\n",
       "      <th>2</th>\n",
       "      <td>2</td>\n",
       "      <td>2</td>\n",
       "      <td>Аккорд</td>\n",
       "      <td>аккорд</td>\n",
       "      <td>аккорд абсолюта</td>\n",
       "      <td>1</td>\n",
       "    </tr>\n",
       "    <tr>\n",
       "      <th>3</th>\n",
       "      <td>3</td>\n",
       "      <td>3</td>\n",
       "      <td>Аккорд</td>\n",
       "      <td>аккорд</td>\n",
       "      <td>аккорд амбры</td>\n",
       "      <td>1</td>\n",
       "    </tr>\n",
       "    <tr>\n",
       "      <th>4</th>\n",
       "      <td>4</td>\n",
       "      <td>4</td>\n",
       "      <td>Аккорд</td>\n",
       "      <td>аккорд</td>\n",
       "      <td>аккорд ананаса</td>\n",
       "      <td>1</td>\n",
       "    </tr>\n",
       "  </tbody>\n",
       "</table>\n",
       "</div>"
      ],
      "text/plain": [
       "   Unnamed: 0  Unnamed: 0.1        Topic    Stemma  \\\n",
       "0           0             0  Агрессивный  агрессив   \n",
       "1           1             1       Аккорд    аккорд   \n",
       "2           2             2       Аккорд    аккорд   \n",
       "3           3             3       Аккорд    аккорд   \n",
       "4           4             4       Аккорд    аккорд   \n",
       "\n",
       "                       Excludes  Result  \n",
       "0          агрессивная красотка       0  \n",
       "1  абстрактный цветочный аккорд       1  \n",
       "2               аккорд абсолюта       1  \n",
       "3                  аккорд амбры       1  \n",
       "4                аккорд ананаса       1  "
      ]
     },
     "execution_count": 181,
     "metadata": {},
     "output_type": "execute_result"
    }
   ],
   "source": [
    "excludes = pd.read_csv('data/input/Parfjum_CL_Excludes.csv')\n",
    "excludes.head()"
   ]
  },
  {
   "cell_type": "code",
   "execution_count": 182,
   "id": "77f3cc84-c133-44da-8e4d-d3eeddc1ef7b",
   "metadata": {},
   "outputs": [
    {
     "data": {
      "text/html": [
       "<div>\n",
       "<style scoped>\n",
       "    .dataframe tbody tr th:only-of-type {\n",
       "        vertical-align: middle;\n",
       "    }\n",
       "\n",
       "    .dataframe tbody tr th {\n",
       "        vertical-align: top;\n",
       "    }\n",
       "\n",
       "    .dataframe thead th {\n",
       "        text-align: right;\n",
       "    }\n",
       "</style>\n",
       "<table border=\"1\" class=\"dataframe\">\n",
       "  <thead>\n",
       "    <tr style=\"text-align: right;\">\n",
       "      <th></th>\n",
       "      <th>Unnamed: 0</th>\n",
       "      <th>Unnamed: 0.1</th>\n",
       "      <th>Topic</th>\n",
       "      <th>Stemma</th>\n",
       "      <th>Synonyms</th>\n",
       "      <th>Result</th>\n",
       "    </tr>\n",
       "  </thead>\n",
       "  <tbody>\n",
       "    <tr>\n",
       "      <th>0</th>\n",
       "      <td>0</td>\n",
       "      <td>0</td>\n",
       "      <td>Агрессивный</td>\n",
       "      <td>агресивн</td>\n",
       "      <td>агресивны</td>\n",
       "      <td>1</td>\n",
       "    </tr>\n",
       "    <tr>\n",
       "      <th>1</th>\n",
       "      <td>1</td>\n",
       "      <td>1</td>\n",
       "      <td>Агрессивный</td>\n",
       "      <td>агрессив</td>\n",
       "      <td>агрессивен</td>\n",
       "      <td>1</td>\n",
       "    </tr>\n",
       "    <tr>\n",
       "      <th>2</th>\n",
       "      <td>2</td>\n",
       "      <td>2</td>\n",
       "      <td>Агрессивный</td>\n",
       "      <td>агрессив</td>\n",
       "      <td>агрессивна</td>\n",
       "      <td>1</td>\n",
       "    </tr>\n",
       "    <tr>\n",
       "      <th>3</th>\n",
       "      <td>3</td>\n",
       "      <td>3</td>\n",
       "      <td>Агрессивный</td>\n",
       "      <td>агрессив</td>\n",
       "      <td>агрессивная</td>\n",
       "      <td>1</td>\n",
       "    </tr>\n",
       "    <tr>\n",
       "      <th>4</th>\n",
       "      <td>4</td>\n",
       "      <td>4</td>\n",
       "      <td>Агрессивный</td>\n",
       "      <td>агрессив</td>\n",
       "      <td>агрессивная нота</td>\n",
       "      <td>1</td>\n",
       "    </tr>\n",
       "  </tbody>\n",
       "</table>\n",
       "</div>"
      ],
      "text/plain": [
       "   Unnamed: 0  Unnamed: 0.1        Topic    Stemma          Synonyms  Result\n",
       "0           0             0  Агрессивный  агресивн         агресивны       1\n",
       "1           1             1  Агрессивный  агрессив        агрессивен       1\n",
       "2           2             2  Агрессивный  агрессив        агрессивна       1\n",
       "3           3             3  Агрессивный  агрессив       агрессивная       1\n",
       "4           4             4  Агрессивный  агрессив  агрессивная нота       1"
      ]
     },
     "execution_count": 182,
     "metadata": {},
     "output_type": "execute_result"
    }
   ],
   "source": [
    "synonyms = pd.read_csv('data/input/Parfjum_CL_Synonyms.csv')\n",
    "synonyms.head()"
   ]
  },
  {
   "cell_type": "code",
   "execution_count": 183,
   "id": "f6bbe82f-288b-4473-8283-d090b1b089a7",
   "metadata": {},
   "outputs": [
    {
     "data": {
      "text/html": [
       "<div>\n",
       "<style scoped>\n",
       "    .dataframe tbody tr th:only-of-type {\n",
       "        vertical-align: middle;\n",
       "    }\n",
       "\n",
       "    .dataframe tbody tr th {\n",
       "        vertical-align: top;\n",
       "    }\n",
       "\n",
       "    .dataframe thead th {\n",
       "        text-align: right;\n",
       "    }\n",
       "</style>\n",
       "<table border=\"1\" class=\"dataframe\">\n",
       "  <thead>\n",
       "    <tr style=\"text-align: right;\">\n",
       "      <th></th>\n",
       "      <th>Unnamed: 0</th>\n",
       "      <th>Unnamed: 0.1</th>\n",
       "      <th>item</th>\n",
       "      <th>frequency</th>\n",
       "      <th>words_ordered</th>\n",
       "      <th>stemmed_text</th>\n",
       "      <th>count_words</th>\n",
       "    </tr>\n",
       "  </thead>\n",
       "  <tbody>\n",
       "    <tr>\n",
       "      <th>0</th>\n",
       "      <td>0</td>\n",
       "      <td>0</td>\n",
       "      <td>NaN</td>\n",
       "      <td>2084504</td>\n",
       "      <td>NaN</td>\n",
       "      <td>NaN</td>\n",
       "      <td>0</td>\n",
       "    </tr>\n",
       "    <tr>\n",
       "      <th>1</th>\n",
       "      <td>1</td>\n",
       "      <td>231304</td>\n",
       "      <td>-а</td>\n",
       "      <td>3</td>\n",
       "      <td>-а</td>\n",
       "      <td>-а</td>\n",
       "      <td>1</td>\n",
       "    </tr>\n",
       "    <tr>\n",
       "      <th>2</th>\n",
       "      <td>2</td>\n",
       "      <td>259046</td>\n",
       "      <td>-а-</td>\n",
       "      <td>3</td>\n",
       "      <td>-а-</td>\n",
       "      <td>-а-</td>\n",
       "      <td>1</td>\n",
       "    </tr>\n",
       "    <tr>\n",
       "      <th>3</th>\n",
       "      <td>3</td>\n",
       "      <td>224002</td>\n",
       "      <td>-а-л-и-м-а</td>\n",
       "      <td>3</td>\n",
       "      <td>-а-л-и-м-а</td>\n",
       "      <td>-а-л-и-м-</td>\n",
       "      <td>1</td>\n",
       "    </tr>\n",
       "    <tr>\n",
       "      <th>4</th>\n",
       "      <td>4</td>\n",
       "      <td>336287</td>\n",
       "      <td>нота -бергамот</td>\n",
       "      <td>5</td>\n",
       "      <td>-бергамот нота</td>\n",
       "      <td>-бергамот нот</td>\n",
       "      <td>2</td>\n",
       "    </tr>\n",
       "  </tbody>\n",
       "</table>\n",
       "</div>"
      ],
      "text/plain": [
       "   Unnamed: 0  Unnamed: 0.1            item  frequency   words_ordered  \\\n",
       "0           0             0             NaN    2084504             NaN   \n",
       "1           1        231304              -а          3              -а   \n",
       "2           2        259046             -а-          3             -а-   \n",
       "3           3        224002      -а-л-и-м-а          3      -а-л-и-м-а   \n",
       "4           4        336287  нота -бергамот          5  -бергамот нота   \n",
       "\n",
       "    stemmed_text  count_words  \n",
       "0            NaN            0  \n",
       "1             -а            1  \n",
       "2            -а-            1  \n",
       "3      -а-л-и-м-            1  \n",
       "4  -бергамот нот            2  "
      ]
     },
     "execution_count": 183,
     "metadata": {},
     "output_type": "execute_result"
    }
   ],
   "source": [
    "full = pd.read_csv('data/input/Parfjum_full_list_to_markup.csv')\n",
    "full.head()"
   ]
  },
  {
   "cell_type": "markdown",
   "id": "2e12b8d3-6b01-497f-a2fb-ea4db4015803",
   "metadata": {},
   "source": [
    "### Обработка данных для разметки"
   ]
  },
  {
   "cell_type": "code",
   "execution_count": 109,
   "id": "aa9df228-20ba-4ac6-814f-76f4779fbfe9",
   "metadata": {},
   "outputs": [],
   "source": [
    "class ClearingPhrases:\n",
    "    regex = re.compile(\"[А-ЯЁа-яё]+\")\n",
    "\n",
    "    def __init__(self, texts):\n",
    "        self.texts = texts\n",
    "\n",
    "    def words_only(self, text):\n",
    "        try:\n",
    "            return self.regex.findall(text.lower())\n",
    "        except AttributeError:\n",
    "            return []\n",
    "\n",
    "    @property\n",
    "    def get_best_texts(self):\n",
    "        texts = []\n",
    "        for text in self.texts:\n",
    "            split_w = self.words_only(text)\n",
    "            exit = 0\n",
    "            if len(split_w) >= 2:\n",
    "                for word in split_w:\n",
    "                    if len(word) <= 6:\n",
    "                        exit = 1\n",
    "                        break\n",
    "                if exit:\n",
    "                    continue\n",
    "                texts.append(' '.join(split_w))\n",
    "        return list(set(texts))"
   ]
  },
  {
   "cell_type": "code",
   "execution_count": 181,
   "id": "70c96c74-7650-4379-a8b3-6eccd1d13ef9",
   "metadata": {},
   "outputs": [
    {
     "data": {
      "text/plain": [
       "['горьковато сладкое',\n",
       " 'арабский парфюмом',\n",
       " 'белоцветочная композиция',\n",
       " 'цитрусовая корочка',\n",
       " 'дешевый парфюмы']"
      ]
     },
     "execution_count": 184,
     "metadata": {},
     "output_type": "execute_result"
    }
   ],
   "source": [
    "phrases = ClearingPhrases(full.item.values).get_best_texts\n",
    "phrases[:5]"
   ]
  },
  {
   "cell_type": "markdown",
   "id": "87e83abd-91c3-49c0-b5aa-8ac4ad9f49f8",
   "metadata": {},
   "source": [
    "### Данные для обучения классификатора"
   ]
  },
  {
   "cell_type": "markdown",
   "id": "981d5d95-e585-4c79-b653-dc5642fc8ea0",
   "metadata": {},
   "source": [
    "**Создание обучающего набора**"
   ]
  },
  {
   "cell_type": "code",
   "execution_count": 184,
   "id": "8190a7d6-eaa5-4da3-8c19-3522088ca2e3",
   "metadata": {},
   "outputs": [
    {
     "data": {
      "text/html": [
       "<div>\n",
       "<style scoped>\n",
       "    .dataframe tbody tr th:only-of-type {\n",
       "        vertical-align: middle;\n",
       "    }\n",
       "\n",
       "    .dataframe tbody tr th {\n",
       "        vertical-align: top;\n",
       "    }\n",
       "\n",
       "    .dataframe thead th {\n",
       "        text-align: right;\n",
       "    }\n",
       "</style>\n",
       "<table border=\"1\" class=\"dataframe\">\n",
       "  <thead>\n",
       "    <tr style=\"text-align: right;\">\n",
       "      <th></th>\n",
       "      <th>item</th>\n",
       "      <th>Topic</th>\n",
       "      <th>frequency</th>\n",
       "    </tr>\n",
       "  </thead>\n",
       "  <tbody>\n",
       "    <tr>\n",
       "      <th>0</th>\n",
       "      <td>агресивны</td>\n",
       "      <td>Агрессивный</td>\n",
       "      <td>7</td>\n",
       "    </tr>\n",
       "    <tr>\n",
       "      <th>1</th>\n",
       "      <td>агрессивен</td>\n",
       "      <td>Агрессивный</td>\n",
       "      <td>92</td>\n",
       "    </tr>\n",
       "    <tr>\n",
       "      <th>2</th>\n",
       "      <td>агрессивна</td>\n",
       "      <td>Агрессивный</td>\n",
       "      <td>28</td>\n",
       "    </tr>\n",
       "    <tr>\n",
       "      <th>3</th>\n",
       "      <td>агрессивная</td>\n",
       "      <td>Агрессивный</td>\n",
       "      <td>184</td>\n",
       "    </tr>\n",
       "    <tr>\n",
       "      <th>4</th>\n",
       "      <td>агрессивная нота</td>\n",
       "      <td>Агрессивный</td>\n",
       "      <td>8</td>\n",
       "    </tr>\n",
       "  </tbody>\n",
       "</table>\n",
       "</div>"
      ],
      "text/plain": [
       "               item        Topic  frequency\n",
       "0         агресивны  Агрессивный          7\n",
       "1        агрессивен  Агрессивный         92\n",
       "2        агрессивна  Агрессивный         28\n",
       "3       агрессивная  Агрессивный        184\n",
       "4  агрессивная нота  Агрессивный          8"
      ]
     },
     "execution_count": 184,
     "metadata": {},
     "output_type": "execute_result"
    }
   ],
   "source": [
    "m = synonyms.merge(full, how=\"inner\", left_on='Synonyms', right_on='item').drop_duplicates()\n",
    "m = m.loc[m['Result'] == 1, ['item', 'Topic', 'frequency']]\n",
    "m.head()"
   ]
  },
  {
   "cell_type": "code",
   "execution_count": 188,
   "id": "505ba858-93e9-4570-9bf6-f7a0b371678e",
   "metadata": {},
   "outputs": [],
   "source": [
    "m.sort_values('frequency', ascending=False).to_csv('data/processed/perfumery_train.csv', index=False)"
   ]
  },
  {
   "cell_type": "markdown",
   "id": "da0746e6-47f9-470d-992b-668eac3a561b",
   "metadata": {},
   "source": [
    "**Набор для решения проблемы холодного старта**"
   ]
  },
  {
   "cell_type": "code",
   "execution_count": 131,
   "id": "4b2e0744-4fa1-4515-a858-29b7836c721c",
   "metadata": {},
   "outputs": [
    {
     "data": {
      "text/html": [
       "<div>\n",
       "<style scoped>\n",
       "    .dataframe tbody tr th:only-of-type {\n",
       "        vertical-align: middle;\n",
       "    }\n",
       "\n",
       "    .dataframe tbody tr th {\n",
       "        vertical-align: top;\n",
       "    }\n",
       "\n",
       "    .dataframe thead th {\n",
       "        text-align: right;\n",
       "    }\n",
       "</style>\n",
       "<table border=\"1\" class=\"dataframe\">\n",
       "  <thead>\n",
       "    <tr style=\"text-align: right;\">\n",
       "      <th></th>\n",
       "      <th>Категория</th>\n",
       "      <th>Тема</th>\n",
       "      <th>Подтема</th>\n",
       "      <th>Unnamed: 3</th>\n",
       "    </tr>\n",
       "  </thead>\n",
       "  <tbody>\n",
       "    <tr>\n",
       "      <th>0</th>\n",
       "      <td>Описание звучания/нот аромата</td>\n",
       "      <td>Амбровые</td>\n",
       "      <td>Амбра/Амбровый</td>\n",
       "      <td>NaN</td>\n",
       "    </tr>\n",
       "    <tr>\n",
       "      <th>1</th>\n",
       "      <td>NaN</td>\n",
       "      <td>Древесные</td>\n",
       "      <td>Аромат смолы</td>\n",
       "      <td>NaN</td>\n",
       "    </tr>\n",
       "    <tr>\n",
       "      <th>2</th>\n",
       "      <td>NaN</td>\n",
       "      <td>Зеленые</td>\n",
       "      <td>Зелени</td>\n",
       "      <td>NaN</td>\n",
       "    </tr>\n",
       "    <tr>\n",
       "      <th>3</th>\n",
       "      <td>NaN</td>\n",
       "      <td>NaN</td>\n",
       "      <td>Аромат листьев</td>\n",
       "      <td>NaN</td>\n",
       "    </tr>\n",
       "    <tr>\n",
       "      <th>4</th>\n",
       "      <td>NaN</td>\n",
       "      <td>NaN</td>\n",
       "      <td>Хвойный аромат</td>\n",
       "      <td>NaN</td>\n",
       "    </tr>\n",
       "  </tbody>\n",
       "</table>\n",
       "</div>"
      ],
      "text/plain": [
       "                       Категория       Тема         Подтема Unnamed: 3\n",
       "0  Описание звучания/нот аромата  Амбровые   Амбра/Амбровый        NaN\n",
       "1                            NaN  Древесные    Аромат смолы        NaN\n",
       "2                            NaN    Зеленые          Зелени        NaN\n",
       "3                            NaN        NaN  Аромат листьев        NaN\n",
       "4                            NaN        NaN  Хвойный аромат        NaN"
      ]
     },
     "execution_count": 131,
     "metadata": {},
     "output_type": "execute_result"
    }
   ],
   "source": [
    "df = pd.read_csv('data/input/Parfjum_classifier.csv')\n",
    "df.head()"
   ]
  },
  {
   "cell_type": "code",
   "execution_count": 155,
   "id": "037ea60c-fbce-4aee-b06d-65a3cb35c540",
   "metadata": {},
   "outputs": [],
   "source": [
    "df.loc[df['Тема'].isna() & df['Категория'].notna(), 'Тема'] = df.loc[df['Тема'].isna() & df['Категория'].notna(), 'Категория']\n",
    "df['Тема'].fillna(method='pad', inplace=True)\n",
    "df.loc[df['Подтема'].isna(), 'Подтема'] = df.loc[df['Подтема'].isna(), 'Тема'] "
   ]
  },
  {
   "cell_type": "code",
   "execution_count": 156,
   "id": "da4766fd-cf25-4b47-bf0c-f4a9691b17ad",
   "metadata": {},
   "outputs": [
    {
     "data": {
      "text/html": [
       "<div>\n",
       "<style scoped>\n",
       "    .dataframe tbody tr th:only-of-type {\n",
       "        vertical-align: middle;\n",
       "    }\n",
       "\n",
       "    .dataframe tbody tr th {\n",
       "        vertical-align: top;\n",
       "    }\n",
       "\n",
       "    .dataframe thead th {\n",
       "        text-align: right;\n",
       "    }\n",
       "</style>\n",
       "<table border=\"1\" class=\"dataframe\">\n",
       "  <thead>\n",
       "    <tr style=\"text-align: right;\">\n",
       "      <th></th>\n",
       "      <th>phrase</th>\n",
       "      <th>subtopic</th>\n",
       "    </tr>\n",
       "  </thead>\n",
       "  <tbody>\n",
       "    <tr>\n",
       "      <th>0</th>\n",
       "      <td>Амбра/Амбровый</td>\n",
       "      <td>Амбра/Амбровый</td>\n",
       "    </tr>\n",
       "    <tr>\n",
       "      <th>1</th>\n",
       "      <td>Аромат смолы</td>\n",
       "      <td>Аромат смолы</td>\n",
       "    </tr>\n",
       "    <tr>\n",
       "      <th>2</th>\n",
       "      <td>Зелени</td>\n",
       "      <td>Зелени</td>\n",
       "    </tr>\n",
       "    <tr>\n",
       "      <th>3</th>\n",
       "      <td>Аромат листьев</td>\n",
       "      <td>Аромат листьев</td>\n",
       "    </tr>\n",
       "    <tr>\n",
       "      <th>4</th>\n",
       "      <td>Хвойный аромат</td>\n",
       "      <td>Хвойный аромат</td>\n",
       "    </tr>\n",
       "    <tr>\n",
       "      <th>...</th>\n",
       "      <td>...</td>\n",
       "      <td>...</td>\n",
       "    </tr>\n",
       "    <tr>\n",
       "      <th>152</th>\n",
       "      <td>Условия хранения</td>\n",
       "      <td>Условия хранения</td>\n",
       "    </tr>\n",
       "    <tr>\n",
       "      <th>153</th>\n",
       "      <td>Срок годности</td>\n",
       "      <td>Срок годности</td>\n",
       "    </tr>\n",
       "    <tr>\n",
       "      <th>154</th>\n",
       "      <td>Место покупки</td>\n",
       "      <td>Место покупки</td>\n",
       "    </tr>\n",
       "    <tr>\n",
       "      <th>155</th>\n",
       "      <td>Название аромата</td>\n",
       "      <td>Название аромата</td>\n",
       "    </tr>\n",
       "    <tr>\n",
       "      <th>156</th>\n",
       "      <td>Список ингредиентов</td>\n",
       "      <td>Список ингредиентов</td>\n",
       "    </tr>\n",
       "  </tbody>\n",
       "</table>\n",
       "<p>157 rows × 2 columns</p>\n",
       "</div>"
      ],
      "text/plain": [
       "                  phrase             subtopic\n",
       "0         Амбра/Амбровый       Амбра/Амбровый\n",
       "1           Аромат смолы         Аромат смолы\n",
       "2                 Зелени               Зелени\n",
       "3         Аромат листьев       Аромат листьев\n",
       "4         Хвойный аромат       Хвойный аромат\n",
       "..                   ...                  ...\n",
       "152     Условия хранения     Условия хранения\n",
       "153        Срок годности        Срок годности\n",
       "154        Место покупки        Место покупки\n",
       "155     Название аромата     Название аромата\n",
       "156  Список ингредиентов  Список ингредиентов\n",
       "\n",
       "[157 rows x 2 columns]"
      ]
     },
     "execution_count": 156,
     "metadata": {},
     "output_type": "execute_result"
    }
   ],
   "source": [
    "pd.DataFrame({'phrase': parfjum['Подтема'].unique(), 'subtopic': parfjum['Подтема'].unique()})"
   ]
  },
  {
   "cell_type": "code",
   "execution_count": 157,
   "id": "b844513c-9443-4c21-a9ad-68edc58abd47",
   "metadata": {},
   "outputs": [
    {
     "data": {
      "text/plain": [
       "157"
      ]
     },
     "execution_count": 157,
     "metadata": {},
     "output_type": "execute_result"
    }
   ],
   "source": [
    "subtopics = parfjum['Подтема'].unique()\n",
    "len(subtopics)"
   ]
  },
  {
   "cell_type": "markdown",
   "id": "28b5f15d-fbc9-4cfe-b837-cb9b420e7530",
   "metadata": {},
   "source": [
    "# Классификатор"
   ]
  },
  {
   "cell_type": "code",
   "execution_count": 115,
   "id": "f76492bc-a5b3-473e-808e-95d2a3ebf4ce",
   "metadata": {},
   "outputs": [],
   "source": [
    "import numpy as np\n",
    "import matplotlib.pyplot as plt\n",
    "import pandas as pd\n",
    "import os\n",
    "import pickle\n",
    "import fasttext\n",
    "from sklearn.neighbors import KNeighborsClassifier"
   ]
  },
  {
   "cell_type": "code",
   "execution_count": 9,
   "id": "f961d323-09c6-4a10-aa6f-c2ce5b0a2393",
   "metadata": {},
   "outputs": [],
   "source": [
    "model = fasttext.load_model(\"models/adaptation/perfumery.bin\")"
   ]
  },
  {
   "cell_type": "code",
   "execution_count": 5,
   "id": "eee13d8b-787c-4116-bbbb-f0511c758bf0",
   "metadata": {},
   "outputs": [],
   "source": [
    "with open(os.path.join(os.getcwd(), \"models\", 'classifier.pkl'), 'rb') as model:\n",
    "    classifier = pickle.load(model)"
   ]
  },
  {
   "cell_type": "markdown",
   "id": "d22eca91-9aab-4ef8-b518-28c09f470c15",
   "metadata": {},
   "source": [
    "### Подготовка данных"
   ]
  },
  {
   "cell_type": "code",
   "execution_count": 189,
   "id": "8dcbde11-84f9-4ce3-8b21-a224aa2776e2",
   "metadata": {},
   "outputs": [
    {
     "data": {
      "text/html": [
       "<div>\n",
       "<style scoped>\n",
       "    .dataframe tbody tr th:only-of-type {\n",
       "        vertical-align: middle;\n",
       "    }\n",
       "\n",
       "    .dataframe tbody tr th {\n",
       "        vertical-align: top;\n",
       "    }\n",
       "\n",
       "    .dataframe thead th {\n",
       "        text-align: right;\n",
       "    }\n",
       "</style>\n",
       "<table border=\"1\" class=\"dataframe\">\n",
       "  <thead>\n",
       "    <tr style=\"text-align: right;\">\n",
       "      <th></th>\n",
       "      <th>item</th>\n",
       "      <th>Topic</th>\n",
       "      <th>frequency</th>\n",
       "    </tr>\n",
       "  </thead>\n",
       "  <tbody>\n",
       "    <tr>\n",
       "      <th>0</th>\n",
       "      <td>ноты</td>\n",
       "      <td>Нота</td>\n",
       "      <td>126461</td>\n",
       "    </tr>\n",
       "    <tr>\n",
       "      <th>1</th>\n",
       "      <td>стойкий</td>\n",
       "      <td>Стойкость</td>\n",
       "      <td>90695</td>\n",
       "    </tr>\n",
       "    <tr>\n",
       "      <th>2</th>\n",
       "      <td>флакон</td>\n",
       "      <td>Флакон</td>\n",
       "      <td>88474</td>\n",
       "    </tr>\n",
       "    <tr>\n",
       "      <th>3</th>\n",
       "      <td>духи</td>\n",
       "      <td>Продукт</td>\n",
       "      <td>69311</td>\n",
       "    </tr>\n",
       "    <tr>\n",
       "      <th>4</th>\n",
       "      <td>стойкость</td>\n",
       "      <td>Стойкость</td>\n",
       "      <td>58420</td>\n",
       "    </tr>\n",
       "  </tbody>\n",
       "</table>\n",
       "</div>"
      ],
      "text/plain": [
       "        item      Topic  frequency\n",
       "0       ноты       Нота     126461\n",
       "1    стойкий  Стойкость      90695\n",
       "2     флакон     Флакон      88474\n",
       "3       духи    Продукт      69311\n",
       "4  стойкость  Стойкость      58420"
      ]
     },
     "execution_count": 189,
     "metadata": {},
     "output_type": "execute_result"
    }
   ],
   "source": [
    "data = pd.read_csv('data/processed/perfumery_train.csv')\n",
    "data.head()"
   ]
  },
  {
   "cell_type": "code",
   "execution_count": 190,
   "id": "f49c44b0-b324-4e6d-93e0-b42309e960cc",
   "metadata": {},
   "outputs": [
    {
     "data": {
      "text/plain": [
       "(35262, 3)"
      ]
     },
     "execution_count": 190,
     "metadata": {},
     "output_type": "execute_result"
    }
   ],
   "source": [
    "data.shape"
   ]
  },
  {
   "cell_type": "code",
   "execution_count": 8,
   "id": "ec94f553-4c24-4c46-ba55-ff15ad144369",
   "metadata": {},
   "outputs": [],
   "source": [
    "X = data.sort_values('frequency', ascending=False)['item']\n",
    "y = data.sort_values('frequency', ascending=False)['Topic']"
   ]
  },
  {
   "cell_type": "code",
   "execution_count": 11,
   "id": "85dfd7d3-0918-4c09-8b00-603f09b93254",
   "metadata": {},
   "outputs": [],
   "source": [
    "from sklearn.model_selection import train_test_split\n",
    "X_train, X_test, y_train, y_test = train_test_split(X, y, test_size=0.20, random_state=40)"
   ]
  },
  {
   "cell_type": "code",
   "execution_count": 12,
   "id": "4daf2e34-000d-4bc6-a5e5-7ada56f9fd83",
   "metadata": {},
   "outputs": [],
   "source": [
    "X_train = np.array([model.get_sentence_vector(i) for i in X_train])\n",
    "X_test = np.array([model.get_sentence_vector(i) for i in X_test])"
   ]
  },
  {
   "cell_type": "code",
   "execution_count": 117,
   "id": "c66ed8e8-86c4-41e4-8dfa-de1b1627aa26",
   "metadata": {},
   "outputs": [],
   "source": [
    "X = np.array([model.get_sentence_vector(i) for i in X])"
   ]
  },
  {
   "cell_type": "code",
   "execution_count": 118,
   "id": "14cb2957-5715-420a-b8be-8a0e281635fc",
   "metadata": {},
   "outputs": [
    {
     "data": {
      "text/plain": [
       "KNeighborsClassifier(metric='cosine', n_jobs=-1, weights='distance')"
      ]
     },
     "execution_count": 118,
     "metadata": {},
     "output_type": "execute_result"
    }
   ],
   "source": [
    "classifier = KNeighborsClassifier(n_neighbors=5, weights='distance', n_jobs=-1, metric='cosine')\n",
    "classifier.fit(X, y)"
   ]
  },
  {
   "cell_type": "code",
   "execution_count": 120,
   "id": "4bdd6bb4-a19a-42c7-8e2e-c7780737d219",
   "metadata": {},
   "outputs": [
    {
     "data": {
      "text/plain": [
       "175"
      ]
     },
     "execution_count": 120,
     "metadata": {},
     "output_type": "execute_result"
    }
   ],
   "source": [
    "len(classifier.classes_)"
   ]
  },
  {
   "cell_type": "code",
   "execution_count": 13,
   "id": "8388816e-e7aa-4eee-b79e-37eab413d5f8",
   "metadata": {},
   "outputs": [],
   "source": [
    "y_pred = classifier.predict(X_test)"
   ]
  },
  {
   "cell_type": "code",
   "execution_count": 14,
   "id": "51b196cc-6bc5-4cff-8e89-7411473b2e84",
   "metadata": {},
   "outputs": [
    {
     "name": "stdout",
     "output_type": "stream",
     "text": [
      "                          precision    recall  f1-score   support\n",
      "\n",
      "             Агрессивный       0.00      0.00      0.00         6\n",
      "                  Аккорд       0.00      0.00      0.00        36\n",
      "    Активный образ жизни       0.00      0.00      0.00         1\n",
      "                  Акцент       0.00      0.00      0.00         8\n",
      "         Алкоголя/спирта       0.00      0.00      0.00        47\n",
      "   Аллергическая реакция       0.33      0.33      0.33         3\n",
      "               Альдегида       0.00      0.00      0.00         9\n",
      "          Амбра/Амбровый       0.00      0.00      0.00         0\n",
      "          Амбра/амбровый       0.00      0.00      0.00        36\n",
      "              Аппликатор       0.00      0.00      0.00         2\n",
      "             Аромат дыма       0.04      0.33      0.07        18\n",
      "          Аромат листьев       0.01      0.50      0.02        12\n",
      "            Аромат смолы       0.01      0.53      0.02        19\n",
      "           Аромат табака       0.00      0.00      0.00        31\n",
      "                    База       0.00      0.00      0.00        29\n",
      "           Брак упаковки       0.00      0.00      0.00        13\n",
      "               Бюджетный       0.31      0.17      0.22        58\n",
      "                Весенний       0.00      0.00      0.00        13\n",
      "                Вечерний       0.00      0.00      0.00         4\n",
      "            Вид упаковки       0.00      0.00      0.00        34\n",
      "            Вкус аромата       0.00      0.00      0.00        43\n",
      "                 Водяные       0.00      0.00      0.00        31\n",
      "              Возрастной       0.00      0.00      0.00         6\n",
      "                  Волосы       0.00      0.00      0.00         0\n",
      "               Восточные       0.00      0.00      0.00        45\n",
      "         Время раскрытия       0.12      0.43      0.19        49\n",
      "            Выветривание       0.73      0.40      0.52        20\n",
      "                 Выпечки       0.31      0.13      0.19        30\n",
      "           Головная боль       0.75      1.00      0.86         3\n",
      "                Горлышко       0.00      0.00      0.00         0\n",
      "                 Горький       0.20      0.04      0.07        93\n",
      "               Громкость       0.00      0.00      0.00        12\n",
      "              Гурманские       0.00      0.00      0.00       139\n",
      "              Деревянный       0.00      0.00      0.00         1\n",
      "         Детали упаковки       0.00      0.00      0.00        13\n",
      "                 Детский       0.00      0.00      0.00         7\n",
      "         Дизайн упаковки       0.00      0.00      0.00        93\n",
      "                 Дневной       0.09      0.50      0.15         4\n",
      "   Дозатор/пульверизатор       0.24      0.94      0.38        17\n",
      "                 Донышко       0.24      0.80      0.36         5\n",
      "         Дорожный формат       0.06      0.75      0.10         8\n",
      "               Древесные       0.00      0.00      0.00       207\n",
      "              Ежедневный       0.60      0.55      0.57        11\n",
      "                 Женский       0.00      0.00      0.00        69\n",
      "                Животный       0.00      0.00      0.00         4\n",
      "                  Затест       0.00      0.00      0.00        26\n",
      "                Звучание       0.00      0.00      0.00        87\n",
      "                  Зелени       0.05      0.35      0.09        17\n",
      "                 Зеленые       0.00      0.00      0.00        64\n",
      "                  Зимний       0.50      0.20      0.29        10\n",
      "  Индивидуальная реакция       0.00      0.00      0.00         2\n",
      "                Карамели       0.04      0.40      0.08        20\n",
      "                  Картон       0.50      0.14      0.22         7\n",
      "                  Кислый       0.00      0.00      0.00        38\n",
      "                 Кожаные       0.00      0.00      0.00         9\n",
      "                  Кокоса       0.00      0.00      0.00        14\n",
      "        Количество/объем       0.00      0.00      0.00        64\n",
      "               Коллекция       0.00      0.00      0.00        27\n",
      "                Колпачок       0.13      0.29      0.18         7\n",
      "              Композиция       0.00      0.00      0.00        27\n",
      "                 Компота       0.00      0.00      0.00        20\n",
      "                  Конфет       0.25      0.18      0.21        22\n",
      "       Концентрированный       1.00      0.20      0.33         5\n",
      "                 Коробка       0.28      0.60      0.38        42\n",
      "                    Кофе       0.67      0.12      0.21        16\n",
      "                  Краски       0.00      0.00      0.00         0\n",
      "                  Крышка       0.20      0.60      0.30        25\n",
      "                    Лака       0.00      0.00      0.00         0\n",
      "           Лекарственный       0.19      0.29      0.23        14\n",
      "                  Летний       0.12      0.10      0.11        10\n",
      "                Лимонада       0.17      0.50      0.25         6\n",
      "                 Линейка       0.10      0.35      0.15        20\n",
      "                 Логотип       0.08      1.00      0.15         2\n",
      "                    Люкс       0.38      0.41      0.39        37\n",
      "                  Лёгкий       0.07      0.04      0.05        52\n",
      "             Маслянистый       0.19      0.18      0.18        17\n",
      "       Материал упаковки       0.00      0.00      0.00         3\n",
      "           Место покупки       0.00      0.00      0.00        17\n",
      "        Место применения       0.00      0.00      0.00         3\n",
      "                  Металл       0.33      0.06      0.10        17\n",
      "                 Металла       0.00      0.00      0.00         0\n",
      "                 Мешочек       0.33      0.17      0.22         6\n",
      "               Миниатюра       0.05      0.45      0.10        20\n",
      "              Молодежный       0.00      0.00      0.00        10\n",
      "                 Морской       0.14      0.33      0.20         3\n",
      "                 Мужской       0.00      0.00      0.00        38\n",
      "               Мускусные       0.00      0.00      0.00        78\n",
      "                   Набор       0.16      0.71      0.26         7\n",
      "              Навязчивый       0.10      0.28      0.14        18\n",
      "        Название аромата       0.00      0.00      0.00        20\n",
      "  Название бренда/автора       0.00      0.00      0.00        98\n",
      "                Наклейка       0.04      0.75      0.08         4\n",
      "              Насыщенный       0.09      0.05      0.07        37\n",
      "      Натуральный состав       0.00      0.00      0.00        33\n",
      "Нежелательные результаты       0.00      0.00      0.00         3\n",
      "                  Нежный       0.16      0.12      0.14       124\n",
      "           Нестандартные       0.00      0.00      0.00        27\n",
      "                 Нишевый       0.15      0.26      0.19        19\n",
      "                    Нота       0.00      0.00      0.00       249\n",
      "                  Одежда       0.57      0.36      0.44        22\n",
      "          Ореха/ореховый       0.06      0.30      0.10        47\n",
      "            Ориентальные       0.00      0.00      0.00         9\n",
      "                 Осенний       0.20      0.20      0.20         5\n",
      "           Особый случай       0.00      0.00      0.00         3\n",
      "                  Острый       0.00      0.00      0.00        31\n",
      "                  Отпуск       0.00      0.00      0.00         2\n",
      "                 Оттенок       0.00      0.00      0.00        63\n",
      "                 Офисный       0.00      0.00      0.00         4\n",
      "                   Пакет       0.60      0.50      0.55         6\n",
      "                 Палитра       0.00      0.00      0.00         2\n",
      "                  Партия       0.00      0.00      0.00         1\n",
      "                 Печенья       0.06      0.10      0.07        10\n",
      "                Пирамида       0.00      0.00      0.00        52\n",
      "                 Пластик       0.00      0.00      0.00         9\n",
      "              Пластмассы       0.00      0.00      0.00         0\n",
      " Полноразмерное средство       0.00      0.00      0.00        23\n",
      "                 Пробник       0.18      0.13      0.15        30\n",
      "                 Продукт       0.00      0.00      0.00       255\n",
      "                  Пряные       0.00      0.00      0.00        70\n",
      "                Пудровый       0.00      0.00      0.00        58\n",
      "                 Пузырёк       0.00      0.00      0.00         6\n",
      "           Размер/формат       0.00      0.00      0.00         8\n",
      "                  Расход       0.00      0.00      0.00         8\n",
      "                  Резины       0.00      0.00      0.00         1\n",
      "                  Резкий       0.33      0.27      0.30        30\n",
      "                  Свежий       0.00      0.00      0.00       137\n",
      "                Свидание       0.00      0.00      0.00         0\n",
      "                Свойства       0.00      0.00      0.00         9\n",
      "                   Серия       0.09      0.67      0.16         9\n",
      "                 Сильный       0.00      0.00      0.00        10\n",
      "           Синтетический       0.07      0.10      0.08        10\n",
      "    Синтетический состав       0.00      0.00      0.00         3\n",
      "     Ситуации применения       0.00      0.00      0.00         2\n",
      "                  Слабый       0.00      0.00      0.00        40\n",
      "                 Сладкий       0.32      0.16      0.21       273\n",
      "                Сладости       0.10      0.14      0.11       102\n",
      "            След аромата       0.00      0.00      0.00       102\n",
      "                 Солёный       0.00      0.00      0.00        18\n",
      "               Сочетание       0.00      0.00      0.00        39\n",
      "                  Сочный       0.00      0.00      0.00        22\n",
      "                  Специи       0.00      0.00      0.00        50\n",
      "     Список ингредиентов       0.00      0.00      0.00        20\n",
      "         Средний сегмент       0.06      1.00      0.11         1\n",
      "           Срок годности       0.00      0.00      0.00        29\n",
      "                  Стекло       0.13      0.29      0.18        31\n",
      "     Стирального порошка       0.03      0.33      0.06         3\n",
      "               Стойкость       0.47      0.59      0.52       108\n",
      "     Страна производства       0.00      0.00      0.00        81\n",
      "                   Сухой       0.00      0.00      0.00        27\n",
      "                 Терпкий       0.00      0.00      0.00        54\n",
      "                  Тестер       0.04      1.00      0.07         4\n",
      "                  Томный       0.00      0.00      0.00        15\n",
      "                Травяные       0.00      0.00      0.00       162\n",
      "      Тропический аромат       0.04      0.34      0.07        29\n",
      "                 Тяжёлый       0.50      0.04      0.08        24\n",
      "     Удобство применения       0.00      0.00      0.00        13\n",
      "                  Удовые       0.00      0.00      0.00         8\n",
      "                 Унисекс       0.00      0.00      0.00        20\n",
      "        Условия хранения       0.00      0.00      0.00         9\n",
      "                  Флакон       0.45      0.68      0.54       132\n",
      "               Фруктовые       0.00      0.00      0.00       312\n",
      "                Фужерные       0.00      0.00      0.00         4\n",
      "          Хвойный аромат       0.02      0.23      0.04        40\n",
      "                    Цвет       0.00      0.00      0.00       179\n",
      "               Цветочные       0.00      0.00      0.00       762\n",
      "                 Целофан       0.12      0.14      0.13         7\n",
      "                    Цена       0.00      0.00      0.00        72\n",
      "               Церковный       0.00      0.00      0.00        12\n",
      "              Цитрусовые       0.00      0.00      0.00       250\n",
      "              Части тела       0.00      0.00      0.00        17\n",
      "                 Частота       0.00      0.00      0.00         2\n",
      "                  Чернил       0.00      0.00      0.00         0\n",
      "             Шампанского       0.00      0.00      0.00         2\n",
      "                Шипровые       0.00      0.00      0.00        22\n",
      "                Шоколада       0.00      0.00      0.00        34\n",
      "                Этикетка       0.12      1.00      0.21         3\n",
      "                 Ягодный       0.30      0.07      0.12       154\n",
      "\n",
      "                accuracy                           0.08      7053\n",
      "               macro avg       0.09      0.14      0.08      7053\n",
      "            weighted avg       0.07      0.08      0.06      7053\n",
      "\n"
     ]
    },
    {
     "name": "stderr",
     "output_type": "stream",
     "text": [
      "C:\\Users\\bimas\\anaconda3\\lib\\site-packages\\sklearn\\metrics\\_classification.py:1318: UndefinedMetricWarning: Precision and F-score are ill-defined and being set to 0.0 in labels with no predicted samples. Use `zero_division` parameter to control this behavior.\n",
      "  _warn_prf(average, modifier, msg_start, len(result))\n",
      "C:\\Users\\bimas\\anaconda3\\lib\\site-packages\\sklearn\\metrics\\_classification.py:1318: UndefinedMetricWarning: Recall and F-score are ill-defined and being set to 0.0 in labels with no true samples. Use `zero_division` parameter to control this behavior.\n",
      "  _warn_prf(average, modifier, msg_start, len(result))\n",
      "C:\\Users\\bimas\\anaconda3\\lib\\site-packages\\sklearn\\metrics\\_classification.py:1318: UndefinedMetricWarning: Precision and F-score are ill-defined and being set to 0.0 in labels with no predicted samples. Use `zero_division` parameter to control this behavior.\n",
      "  _warn_prf(average, modifier, msg_start, len(result))\n",
      "C:\\Users\\bimas\\anaconda3\\lib\\site-packages\\sklearn\\metrics\\_classification.py:1318: UndefinedMetricWarning: Recall and F-score are ill-defined and being set to 0.0 in labels with no true samples. Use `zero_division` parameter to control this behavior.\n",
      "  _warn_prf(average, modifier, msg_start, len(result))\n",
      "C:\\Users\\bimas\\anaconda3\\lib\\site-packages\\sklearn\\metrics\\_classification.py:1318: UndefinedMetricWarning: Precision and F-score are ill-defined and being set to 0.0 in labels with no predicted samples. Use `zero_division` parameter to control this behavior.\n",
      "  _warn_prf(average, modifier, msg_start, len(result))\n",
      "C:\\Users\\bimas\\anaconda3\\lib\\site-packages\\sklearn\\metrics\\_classification.py:1318: UndefinedMetricWarning: Recall and F-score are ill-defined and being set to 0.0 in labels with no true samples. Use `zero_division` parameter to control this behavior.\n",
      "  _warn_prf(average, modifier, msg_start, len(result))\n"
     ]
    }
   ],
   "source": [
    "from sklearn.metrics import classification_report, confusion_matrix\n",
    "# print(confusion_matrix(y_test, y_pred))\n",
    "print(classification_report(y_test, y_pred))"
   ]
  },
  {
   "cell_type": "code",
   "execution_count": null,
   "id": "1c36a229-90e1-44d9-ae64-e52eba981416",
   "metadata": {},
   "outputs": [],
   "source": []
  },
  {
   "cell_type": "code",
   "execution_count": null,
   "id": "b794c9f9-f52b-4f35-b9db-ccb995e1874a",
   "metadata": {},
   "outputs": [],
   "source": []
  },
  {
   "cell_type": "code",
   "execution_count": null,
   "id": "42e2cdfc-7f91-4bfd-881b-1ada743f0561",
   "metadata": {},
   "outputs": [],
   "source": []
  },
  {
   "cell_type": "code",
   "execution_count": null,
   "id": "56812a02-9421-4a88-91c2-06d349699e9f",
   "metadata": {},
   "outputs": [],
   "source": []
  },
  {
   "cell_type": "code",
   "execution_count": null,
   "id": "eaffe35b-6e7a-4610-b690-3814eca6027c",
   "metadata": {},
   "outputs": [],
   "source": []
  },
  {
   "cell_type": "code",
   "execution_count": null,
   "id": "14b26ad9-6d27-4a6c-908a-92f806dbc32b",
   "metadata": {},
   "outputs": [],
   "source": []
  },
  {
   "cell_type": "code",
   "execution_count": 46,
   "id": "0f29cae6-21ac-4b0a-9a05-3e26cd6db457",
   "metadata": {},
   "outputs": [
    {
     "data": {
      "text/html": [
       "<div>\n",
       "<style scoped>\n",
       "    .dataframe tbody tr th:only-of-type {\n",
       "        vertical-align: middle;\n",
       "    }\n",
       "\n",
       "    .dataframe tbody tr th {\n",
       "        vertical-align: top;\n",
       "    }\n",
       "\n",
       "    .dataframe thead th {\n",
       "        text-align: right;\n",
       "    }\n",
       "</style>\n",
       "<table border=\"1\" class=\"dataframe\">\n",
       "  <thead>\n",
       "    <tr style=\"text-align: right;\">\n",
       "      <th></th>\n",
       "      <th>sepal-length</th>\n",
       "      <th>sepal-width</th>\n",
       "      <th>petal-length</th>\n",
       "      <th>petal-width</th>\n",
       "      <th>Class</th>\n",
       "    </tr>\n",
       "  </thead>\n",
       "  <tbody>\n",
       "    <tr>\n",
       "      <th>0</th>\n",
       "      <td>5.1</td>\n",
       "      <td>3.5</td>\n",
       "      <td>1.4</td>\n",
       "      <td>0.2</td>\n",
       "      <td>Iris-setosa</td>\n",
       "    </tr>\n",
       "    <tr>\n",
       "      <th>1</th>\n",
       "      <td>4.9</td>\n",
       "      <td>3.0</td>\n",
       "      <td>1.4</td>\n",
       "      <td>0.2</td>\n",
       "      <td>Iris-setosa</td>\n",
       "    </tr>\n",
       "    <tr>\n",
       "      <th>2</th>\n",
       "      <td>4.7</td>\n",
       "      <td>3.2</td>\n",
       "      <td>1.3</td>\n",
       "      <td>0.2</td>\n",
       "      <td>Iris-setosa</td>\n",
       "    </tr>\n",
       "    <tr>\n",
       "      <th>3</th>\n",
       "      <td>4.6</td>\n",
       "      <td>3.1</td>\n",
       "      <td>1.5</td>\n",
       "      <td>0.2</td>\n",
       "      <td>Iris-setosa</td>\n",
       "    </tr>\n",
       "    <tr>\n",
       "      <th>4</th>\n",
       "      <td>5.0</td>\n",
       "      <td>3.6</td>\n",
       "      <td>1.4</td>\n",
       "      <td>0.2</td>\n",
       "      <td>Iris-setosa</td>\n",
       "    </tr>\n",
       "  </tbody>\n",
       "</table>\n",
       "</div>"
      ],
      "text/plain": [
       "   sepal-length  sepal-width  petal-length  petal-width        Class\n",
       "0           5.1          3.5           1.4          0.2  Iris-setosa\n",
       "1           4.9          3.0           1.4          0.2  Iris-setosa\n",
       "2           4.7          3.2           1.3          0.2  Iris-setosa\n",
       "3           4.6          3.1           1.5          0.2  Iris-setosa\n",
       "4           5.0          3.6           1.4          0.2  Iris-setosa"
      ]
     },
     "execution_count": 46,
     "metadata": {},
     "output_type": "execute_result"
    }
   ],
   "source": [
    "url = \"https://archive.ics.uci.edu/ml/machine-learning-databases/iris/iris.data\"\n",
    "\n",
    "# Assign colum names to the dataset\n",
    "names = ['sepal-length', 'sepal-width', 'petal-length', 'petal-width', 'Class']\n",
    "\n",
    "# Read dataset to pandas dataframe\n",
    "dataset = pd.read_csv(url, names=names)\n",
    "dataset.head()"
   ]
  },
  {
   "cell_type": "code",
   "execution_count": 47,
   "id": "f5d5adde-70c3-4d0e-b26a-a33776b1e022",
   "metadata": {},
   "outputs": [],
   "source": [
    "X = dataset.iloc[:, :-1].values\n",
    "y = dataset.iloc[:, 4].values"
   ]
  },
  {
   "cell_type": "code",
   "execution_count": 56,
   "id": "385bc582-c445-499d-82ba-ca9777247293",
   "metadata": {},
   "outputs": [],
   "source": [
    "from sklearn.model_selection import train_test_split\n",
    "X_train, X_test, y_train, y_test = train_test_split(X, y, test_size=0.20)"
   ]
  },
  {
   "cell_type": "code",
   "execution_count": 57,
   "id": "3d517476-2193-4a23-9dcc-e9661748a6e0",
   "metadata": {},
   "outputs": [],
   "source": [
    "from sklearn.preprocessing import StandardScaler\n",
    "scaler = StandardScaler()\n",
    "scaler.fit(X_train)\n",
    "\n",
    "X_train = scaler.transform(X_train)\n",
    "X_test = scaler.transform(X_test)"
   ]
  },
  {
   "cell_type": "code",
   "execution_count": 117,
   "id": "518e2abc-b155-47aa-9655-476c3074e85b",
   "metadata": {},
   "outputs": [
    {
     "data": {
      "text/plain": [
       "KNeighborsClassifier(n_jobs=-1, n_neighbors=50, weights='distance')"
      ]
     },
     "execution_count": 117,
     "metadata": {},
     "output_type": "execute_result"
    }
   ],
   "source": [
    "from sklearn.neighbors import KNeighborsClassifier\n",
    "classifier = KNeighborsClassifier(n_neighbors=10, weights='distance', n_jobs=-1)\n",
    "classifier.fit(X_train, y_train)"
   ]
  },
  {
   "cell_type": "code",
   "execution_count": 118,
   "id": "7f06e17e-a747-455d-8e1f-375c123de43e",
   "metadata": {},
   "outputs": [],
   "source": [
    "y_pred = classifier.predict(X_test)"
   ]
  },
  {
   "cell_type": "code",
   "execution_count": 119,
   "id": "4864b36e-358c-44c8-87dd-8e0debcc850d",
   "metadata": {},
   "outputs": [
    {
     "data": {
      "text/plain": [
       "array([[0.        , 0.70966769, 0.29033231]])"
      ]
     },
     "execution_count": 119,
     "metadata": {},
     "output_type": "execute_result"
    }
   ],
   "source": [
    "classifier.predict_proba([X_test[0]])"
   ]
  },
  {
   "cell_type": "code",
   "execution_count": 120,
   "id": "5eea1876-bc87-4700-bc2a-7868a95e6860",
   "metadata": {},
   "outputs": [
    {
     "data": {
      "text/plain": [
       "array(['Iris-versicolor'], dtype=object)"
      ]
     },
     "execution_count": 120,
     "metadata": {},
     "output_type": "execute_result"
    }
   ],
   "source": [
    "classifier.predict([X_test[0]])"
   ]
  },
  {
   "cell_type": "code",
   "execution_count": 121,
   "id": "c465cbb4-2d5a-4374-9684-8e69fc8c1236",
   "metadata": {},
   "outputs": [
    {
     "data": {
      "text/plain": [
       "array(['Iris-setosa', 'Iris-versicolor', 'Iris-virginica'], dtype=object)"
      ]
     },
     "execution_count": 121,
     "metadata": {},
     "output_type": "execute_result"
    }
   ],
   "source": [
    "pd.Series(y).unique()"
   ]
  },
  {
   "cell_type": "code",
   "execution_count": 122,
   "id": "7b17a187-9457-4e55-99a3-bda9fedea495",
   "metadata": {},
   "outputs": [
    {
     "name": "stdout",
     "output_type": "stream",
     "text": [
      "[[ 7  0  0]\n",
      " [ 0 12  1]\n",
      " [ 0  0 10]]\n",
      "                 precision    recall  f1-score   support\n",
      "\n",
      "    Iris-setosa       1.00      1.00      1.00         7\n",
      "Iris-versicolor       1.00      0.92      0.96        13\n",
      " Iris-virginica       0.91      1.00      0.95        10\n",
      "\n",
      "       accuracy                           0.97        30\n",
      "      macro avg       0.97      0.97      0.97        30\n",
      "   weighted avg       0.97      0.97      0.97        30\n",
      "\n"
     ]
    }
   ],
   "source": [
    "from sklearn.metrics import classification_report, confusion_matrix\n",
    "print(confusion_matrix(y_test, y_pred))\n",
    "print(classification_report(y_test, y_pred))"
   ]
  },
  {
   "cell_type": "code",
   "execution_count": null,
   "id": "2583db70-c3c8-4e8d-9cd6-b060077bfdea",
   "metadata": {},
   "outputs": [],
   "source": []
  },
  {
   "cell_type": "code",
   "execution_count": null,
   "id": "95209749-5c1d-48ab-8668-e89eb9d87c3e",
   "metadata": {},
   "outputs": [],
   "source": []
  }
 ],
 "metadata": {
  "kernelspec": {
   "display_name": "Python 3 (ipykernel)",
   "language": "python",
   "name": "python3"
  },
  "language_info": {
   "codemirror_mode": {
    "name": "ipython",
    "version": 3
   },
   "file_extension": ".py",
   "mimetype": "text/x-python",
   "name": "python",
   "nbconvert_exporter": "python",
   "pygments_lexer": "ipython3",
   "version": "3.9.7"
  }
 },
 "nbformat": 4,
 "nbformat_minor": 5
}
