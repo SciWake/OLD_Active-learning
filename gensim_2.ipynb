{
 "cells": [
  {
   "cell_type": "code",
   "execution_count": 69,
   "id": "a8e84f1d-015d-4451-9dca-723f98bcd968",
   "metadata": {},
   "outputs": [],
   "source": [
    "import fasttext"
   ]
  },
  {
   "cell_type": "code",
   "execution_count": 70,
   "id": "1a0b09ad-41c9-4249-b6ee-0c25e420a2e4",
   "metadata": {},
   "outputs": [],
   "source": [
    "model = fasttext.load_model(\"cc.ru.300.bin\")"
   ]
  },
  {
   "cell_type": "code",
   "execution_count": 1,
   "id": "0d22e2f9",
   "metadata": {},
   "outputs": [],
   "source": [
    "import copy\n",
    "import time\n",
    "import numpy as np\n",
    "import pandas as pd\n",
    "\n",
    "from gensim.models.fasttext import FastText, load_facebook_model\n",
    "from gensim.models.callbacks import CallbackAny2Vec\n",
    "from gensim.models import word2vec"
   ]
  },
  {
   "cell_type": "code",
   "execution_count": 60,
   "id": "59f0646d-b57e-47c2-ad7f-ae1bb9bdec5c",
   "metadata": {},
   "outputs": [],
   "source": [
    "# pip install --upgrade gensim==4.2.0"
   ]
  },
  {
   "cell_type": "code",
   "execution_count": 61,
   "id": "5b0055e0-d220-42f0-98c3-2311a44dd208",
   "metadata": {},
   "outputs": [
    {
     "name": "stdout",
     "output_type": "stream",
     "text": [
      "Name: gensimNote: you may need to restart the kernel to use updated packages.\n",
      "Version: 4.2.0\n",
      "Summary: Python framework for fast Vector Space Modelling\n",
      "Home-page: http://radimrehurek.com/gensim\n",
      "Author: Radim Rehurek\n",
      "Author-email: me@radimrehurek.com\n",
      "License: LGPL-2.1-only\n",
      "\n",
      "Location: c:\\users\\bimas\\anaconda3\\lib\\site-packages\n",
      "Requires: scipy, smart-open, numpy, Cython\n",
      "Required-by: \n"
     ]
    }
   ],
   "source": [
    "pip show gensim"
   ]
  },
  {
   "cell_type": "markdown",
   "id": "e8818fa3",
   "metadata": {},
   "source": [
    "# Load data"
   ]
  },
  {
   "cell_type": "code",
   "execution_count": 62,
   "id": "8cee811a",
   "metadata": {},
   "outputs": [
    {
     "data": {
      "text/html": [
       "<div>\n",
       "<style scoped>\n",
       "    .dataframe tbody tr th:only-of-type {\n",
       "        vertical-align: middle;\n",
       "    }\n",
       "\n",
       "    .dataframe tbody tr th {\n",
       "        vertical-align: top;\n",
       "    }\n",
       "\n",
       "    .dataframe thead th {\n",
       "        text-align: right;\n",
       "    }\n",
       "</style>\n",
       "<table border=\"1\" class=\"dataframe\">\n",
       "  <thead>\n",
       "    <tr style=\"text-align: right;\">\n",
       "      <th></th>\n",
       "      <th>text_review</th>\n",
       "      <th>review_id</th>\n",
       "      <th>preprocessed_review</th>\n",
       "      <th>lemmas</th>\n",
       "    </tr>\n",
       "  </thead>\n",
       "  <tbody>\n",
       "    <tr>\n",
       "      <th>0</th>\n",
       "      <td>Мне если честно аромат не очень.... Всегда ста...</td>\n",
       "      <td>75b8359b-2336-4759-880d-45c531c3470c</td>\n",
       "      <td>честно аромат очень стараться прислушиваться а...</td>\n",
       "      <td>я если честно аромат не очень всегда стараться...</td>\n",
       "    </tr>\n",
       "    <tr>\n",
       "      <th>1</th>\n",
       "      <td>Туалетная вода от «Nina Ricci» - Nina L’Eau.Пр...</td>\n",
       "      <td>e7077664-72ae-49f5-a1b8-7b683fd07728</td>\n",
       "      <td>туалетный вода nina ricci nina приобрести инте...</td>\n",
       "      <td>туалетный вода от nina ricci nina l eau приобр...</td>\n",
       "    </tr>\n",
       "    <tr>\n",
       "      <th>2</th>\n",
       "      <td>Очень приятный и свежий аромат. Ярко стартует ...</td>\n",
       "      <td>f99d2450-90dc-4914-9c02-6cf1d41de700</td>\n",
       "      <td>очень приятный свежий аромат ярко стартовать ц...</td>\n",
       "      <td>очень приятный и свежий аромат ярко стартовать...</td>\n",
       "    </tr>\n",
       "    <tr>\n",
       "      <th>3</th>\n",
       "      <td>Cтал счастливым обладателем запечатанной миниа...</td>\n",
       "      <td>06fc790e-6dde-4835-ac00-5c1263884033</td>\n",
       "      <td>cталый счастливый обладатель запечатать миниат...</td>\n",
       "      <td>cталый счастливый обладатель запечатать миниат...</td>\n",
       "    </tr>\n",
       "    <tr>\n",
       "      <th>4</th>\n",
       "      <td>Увидев на стенде Летуаль новинку от Shiseido, ...</td>\n",
       "      <td>4abc59a2-ebf0-44ed-b9fe-0ebe71f57807</td>\n",
       "      <td>увидеть стенд летуаля новинка shiseido смочь п...</td>\n",
       "      <td>увидеть на стенд летуаля новинка от shiseido н...</td>\n",
       "    </tr>\n",
       "  </tbody>\n",
       "</table>\n",
       "</div>"
      ],
      "text/plain": [
       "                                         text_review  \\\n",
       "0  Мне если честно аромат не очень.... Всегда ста...   \n",
       "1  Туалетная вода от «Nina Ricci» - Nina L’Eau.Пр...   \n",
       "2  Очень приятный и свежий аромат. Ярко стартует ...   \n",
       "3  Cтал счастливым обладателем запечатанной миниа...   \n",
       "4  Увидев на стенде Летуаль новинку от Shiseido, ...   \n",
       "\n",
       "                              review_id  \\\n",
       "0  75b8359b-2336-4759-880d-45c531c3470c   \n",
       "1  e7077664-72ae-49f5-a1b8-7b683fd07728   \n",
       "2  f99d2450-90dc-4914-9c02-6cf1d41de700   \n",
       "3  06fc790e-6dde-4835-ac00-5c1263884033   \n",
       "4  4abc59a2-ebf0-44ed-b9fe-0ebe71f57807   \n",
       "\n",
       "                                 preprocessed_review  \\\n",
       "0  честно аромат очень стараться прислушиваться а...   \n",
       "1  туалетный вода nina ricci nina приобрести инте...   \n",
       "2  очень приятный свежий аромат ярко стартовать ц...   \n",
       "3  cталый счастливый обладатель запечатать миниат...   \n",
       "4  увидеть стенд летуаля новинка shiseido смочь п...   \n",
       "\n",
       "                                              lemmas  \n",
       "0  я если честно аромат не очень всегда стараться...  \n",
       "1  туалетный вода от nina ricci nina l eau приобр...  \n",
       "2  очень приятный и свежий аромат ярко стартовать...  \n",
       "3  cталый счастливый обладатель запечатать миниат...  \n",
       "4  увидеть на стенд летуаля новинка от shiseido н...  "
      ]
     },
     "execution_count": 62,
     "metadata": {},
     "output_type": "execute_result"
    }
   ],
   "source": [
    "data = pd.read_csv('proc.zip')\n",
    "data.dropna(inplace=True)\n",
    "data.head()"
   ]
  },
  {
   "cell_type": "code",
   "execution_count": 66,
   "id": "d0f76116-c22a-4ff5-9a9c-b6cdcd72789c",
   "metadata": {},
   "outputs": [
    {
     "data": {
      "text/plain": [
       "'Всем привет!Меня зовут Ангелина и я просто обожаю парфюм)На сегодняшний день моя коллекция насчитывает более 50 флаконов и огромное количество отливантов и пробников, которые постоянно пополняются.Проснувшись рано утром, я всегда думаю о том, какой аромат будет сопровождать меня сегодня. Ведь именно парфюм помогает задать тон сегодняшнему дню.Итак, сегодня мой выбор остановился на Armani. Этот дом я люблю, они выпускают много достойных ароматов, которые становятся настоящими бестселлерами. Вашему вниманию- Emporio Armani Because It’s You Giorgio Armani .Этот аромат принадлежит к группе цветочные фруктовые. Он был выпущен в 2017 году.Парфюмер: Anne Flipo.Пирамида:Верхние ноты: Малина, Лимон и Нероли;Средняя нота: Роза;Базовые ноты: Ваниль, Мускус и Amberwood.На мне аромат стартует нежной ароматной малиной с лимончиком. Затем лёгкой дымкой начинает появляться прекрасное томное сердце из роз🌹.База нежная как сама кожа, и ваниль...не кондитерская, немного древесная.Аромат очень объемный и летучий, с длинным шлейфом! Шлейф прекрасный, легкий и игривый.BECAUSE IT’S YOU – невероятно женственный аромат. Он полный страсти, пробуждающий потаенные инстинкты.Абсолют розы мгновенно очаровывает и пленяет навеки. Она флиртует и соблазняет восхитительным дуэтом ванили и мускуса, придающим аромату невероятно глубокую чувственность.Стойкость аромата на коже 6-8 часов. На одежде живёт до стирки.Комплименты гарантированы. Не раз мне делали комплименты, когда я была в Because It’s You) Если вы молоды, полны энергии и сил, но вам не хватает капельки женственности и страсти, то этот парфюм станет для вас находкой.К затесту рекомендую !'"
      ]
     },
     "execution_count": 66,
     "metadata": {},
     "output_type": "execute_result"
    }
   ],
   "source": [
    "data['text_review'][10]"
   ]
  },
  {
   "cell_type": "code",
   "execution_count": 67,
   "id": "b95407af-2259-467f-86e7-3834b14af7eb",
   "metadata": {},
   "outputs": [
    {
     "data": {
      "text/plain": [
       "'весь привет звать ангелина просто обожать парфюм сегодняшний день коллекция насчитывать флакон огромный количество отливант пробник который постоянно пополняться проснуться рано утром думать аромат сопровождать сегодня именно парфюм помогать задать сегодняшний день итак сегодня выбор остановиться armani любить выпускать достойный аромат который становиться настоящий бестселлер внимание emporio armani because giorgio armani аромат принадлежать группа цветочный фруктовый выпустить парфюмер anne flipo пирамида верхний нота малина лимон нероли средний нота роза базовый нота ваниль мускус amberwood аромат стартовать нежный ароматный малина лимончик затем гкий дымка начинать появляться прекрасный томный сердце роза база нежный кожа ваниль кондитерский немного древесный аромат очень объёмный летучий длинный шлейф шлейф прекрасный лёгкий игривый because невероятно женственный аромат полный страсть пробуждать потаённый инстинкт абсолют роза мгновенно очаровывать пленять навеки флиртовать соблазнять восхитительный дуэт ваниль мускус придавать аромат невероятно глубокий чувственность стойкость аромат кожа одежда живой стирка комплимент гарантировать делать комплимент because молодой полный энергия сила хватать капелька женственность страсть парфюм стать находка затест рекомендовать'"
      ]
     },
     "execution_count": 67,
     "metadata": {},
     "output_type": "execute_result"
    }
   ],
   "source": [
    "data['preprocessed_review'][10]"
   ]
  },
  {
   "cell_type": "markdown",
   "id": "588c220f",
   "metadata": {},
   "source": [
    "### Create corpus"
   ]
  },
  {
   "cell_type": "code",
   "execution_count": 5,
   "id": "8cb300a9",
   "metadata": {},
   "outputs": [],
   "source": [
    "sentence_corpus = [line.split(' ') for line in data['lemmas'].values if len(line) > 10 and len(line) <= 150]\n",
    "# sentence_corpus[:2]"
   ]
  },
  {
   "cell_type": "markdown",
   "id": "970cc676",
   "metadata": {},
   "source": [
    "# Train model"
   ]
  },
  {
   "cell_type": "code",
   "execution_count": 6,
   "id": "d1dc89cf",
   "metadata": {},
   "outputs": [],
   "source": [
    "class callback(CallbackAny2Vec):\n",
    "    '''Callback for Word2vec with resetting loss on the end of each epoch.'''\n",
    "\n",
    "    def __init__(self):\n",
    "        self.epoch = 1\n",
    "\n",
    "        self.epoch = 1\n",
    "        self.losses = []\n",
    "        self.cumu_loss = 0.0\n",
    "        self.previous_epoch_time = time.time()\n",
    "\n",
    "        self.best_model = None\n",
    "        self.best_loss = 1e+30\n",
    "\n",
    "    def on_epoch_end(self, model):\n",
    "        loss = model.get_latest_training_loss()\n",
    "\n",
    "        norms = [np.linalg.norm(v) for v in model.wv.vectors]\n",
    "        now = time.time()\n",
    "        epoch_seconds = now - self.previous_epoch_time\n",
    "        self.previous_epoch_time = now\n",
    "        self.cumu_loss += float(loss)\n",
    "        print(f\"Loss after epoch {self.epoch}: {loss} (cumulative loss so far: {self.cumu_loss}) \"+\\\n",
    "              f\"-> epoch took {round(epoch_seconds, 2)} s - vector norms min/avg/max: \"+\\\n",
    "              f\"{round(float(min(norms)), 2)}, {round(float(sum(norms)/len(norms)), 2)}, {round(float(max(norms)), 2)}\")\n",
    "        self.epoch += 1\n",
    "\n",
    "        self.losses.append(float(loss))\n",
    "        \n",
    "        # reset loss inside model\n",
    "        model.running_training_loss = 0.0\n",
    "\n",
    "        if loss < self.best_loss:\n",
    "            self.best_model = copy.deepcopy(model)\n",
    "            self.best_loss = loss\n",
    "\n",
    "        if self.epoch % 5 == 0:\n",
    "            self.plot(path=\"w2v_training_loss.png\")\n",
    "\n",
    "    def plot(self, path):\n",
    "        fig, (ax1) = plt.subplots(ncols=1, figsize=(6, 6))\n",
    "        ax1.plot(self.losses, label=\"loss per epoch\")\n",
    "        plt.legend()\n",
    "        plt.savefig(path)\n",
    "        plt.close()\n",
    "        print(\"Plotted loss.\")"
   ]
  },
  {
   "cell_type": "code",
   "execution_count": 11,
   "id": "2e36dc4f",
   "metadata": {},
   "outputs": [],
   "source": [
    "class callback(CallbackAny2Vec):\n",
    "    \"\"\"\n",
    "    Callback to print loss after each epoch\n",
    "    \"\"\"\n",
    "    def __init__(self):\n",
    "        self.epoch = 0\n",
    "\n",
    "    def on_epoch_end(self, model):\n",
    "        loss = model.get_latest_training_loss()\n",
    "        if self.epoch == 0:\n",
    "            print('Loss after epoch {}: {}'.format(self.epoch, loss))\n",
    "        else:\n",
    "            print('Loss after epoch {}: {}'.format(self.epoch, loss - self.loss_previous_step))\n",
    "        self.epoch += 1\n",
    "        self.loss_previous_step = loss"
   ]
  },
  {
   "cell_type": "markdown",
   "id": "4578ee8d",
   "metadata": {},
   "source": [
    "### load model"
   ]
  },
  {
   "cell_type": "code",
   "execution_count": null,
   "id": "2aff8739",
   "metadata": {},
   "outputs": [],
   "source": [
    "# model = load_facebook_model('cc.ru.300.bin')\n",
    "model = FastText.load_fasttext_format('wiki.ru.bin')"
   ]
  },
  {
   "cell_type": "markdown",
   "id": "73bc8bba",
   "metadata": {},
   "source": [
    "### train model"
   ]
  },
  {
   "cell_type": "code",
   "execution_count": 12,
   "id": "58b4d9d3",
   "metadata": {},
   "outputs": [
    {
     "name": "stdout",
     "output_type": "stream",
     "text": [
      "building vocabulary...\n"
     ]
    }
   ],
   "source": [
    "print(\"building vocabulary...\")\n",
    "model.build_vocab(sentence_corpus[:500], update=True)"
   ]
  },
  {
   "cell_type": "code",
   "execution_count": 13,
   "id": "a3d7ae1c-e7cf-4189-8d23-a995420df866",
   "metadata": {
    "collapsed": true,
    "jupyter": {
     "outputs_hidden": true
    },
    "tags": []
   },
   "outputs": [
    {
     "name": "stdout",
     "output_type": "stream",
     "text": [
      "training Word2Vec...\n",
      "Loss after epoch 0: 0.0\n",
      "Loss after epoch 1: 0.0\n",
      "Loss after epoch 2: 0.0\n",
      "Loss after epoch 3: 0.0\n",
      "Loss after epoch 4: 0.0\n",
      "Loss after epoch 5: 0.0\n",
      "Loss after epoch 6: 0.0\n",
      "Loss after epoch 7: 0.0\n",
      "Loss after epoch 8: 0.0\n",
      "Loss after epoch 9: 0.0\n",
      "Loss after epoch 10: 0.0\n",
      "Loss after epoch 11: 0.0\n",
      "Loss after epoch 12: 0.0\n",
      "Loss after epoch 13: 0.0\n",
      "Loss after epoch 14: 0.0\n",
      "Loss after epoch 15: 0.0\n",
      "Loss after epoch 16: 0.0\n",
      "Loss after epoch 17: 0.0\n",
      "Loss after epoch 18: 0.0\n",
      "Loss after epoch 19: 0.0\n"
     ]
    },
    {
     "name": "stderr",
     "output_type": "stream",
     "text": [
      "ERROR:root:Internal Python error in the inspect module.\n",
      "Below is the traceback from this internal error.\n",
      "\n"
     ]
    },
    {
     "name": "stdout",
     "output_type": "stream",
     "text": [
      "Traceback (most recent call last):\n",
      "  File \"C:\\Users\\bimas\\anaconda3\\lib\\site-packages\\IPython\\core\\interactiveshell.py\", line 3444, in run_code\n",
      "    exec(code_obj, self.user_global_ns, self.user_ns)\n",
      "  File \"C:\\Users\\bimas\\AppData\\Local\\Temp/ipykernel_4996/1605362792.py\", line 3, in <module>\n",
      "    model.train(\n",
      "  File \"C:\\Users\\bimas\\anaconda3\\lib\\site-packages\\gensim\\models\\word2vec.py\", line 1083, in train\n",
      "    self._clear_post_train()\n",
      "  File \"C:\\Users\\bimas\\anaconda3\\lib\\site-packages\\gensim\\models\\fasttext.py\", line 460, in _clear_post_train\n",
      "    self.wv.adjust_vectors()  # ensure composite-word vecs reflect latest training\n",
      "  File \"C:\\Users\\bimas\\anaconda3\\lib\\site-packages\\gensim\\models\\fasttext.py\", line 1181, in adjust_vectors\n",
      "    self.vectors[i] += self.vectors_ngrams[nh]\n",
      "KeyboardInterrupt\n",
      "\n",
      "During handling of the above exception, another exception occurred:\n",
      "\n",
      "Traceback (most recent call last):\n",
      "  File \"C:\\Users\\bimas\\anaconda3\\lib\\site-packages\\IPython\\core\\interactiveshell.py\", line 2064, in showtraceback\n",
      "    stb = value._render_traceback_()\n",
      "AttributeError: 'KeyboardInterrupt' object has no attribute '_render_traceback_'\n",
      "\n",
      "During handling of the above exception, another exception occurred:\n",
      "\n",
      "Traceback (most recent call last):\n",
      "  File \"C:\\Users\\bimas\\anaconda3\\lib\\site-packages\\IPython\\core\\ultratb.py\", line 1101, in get_records\n",
      "    return _fixed_getinnerframes(etb, number_of_lines_of_context, tb_offset)\n",
      "  File \"C:\\Users\\bimas\\anaconda3\\lib\\site-packages\\IPython\\core\\ultratb.py\", line 248, in wrapped\n",
      "    return f(*args, **kwargs)\n",
      "  File \"C:\\Users\\bimas\\anaconda3\\lib\\site-packages\\IPython\\core\\ultratb.py\", line 281, in _fixed_getinnerframes\n",
      "    records = fix_frame_records_filenames(inspect.getinnerframes(etb, context))\n",
      "  File \"C:\\Users\\bimas\\anaconda3\\lib\\inspect.py\", line 1541, in getinnerframes\n",
      "    frameinfo = (tb.tb_frame,) + getframeinfo(tb, context)\n",
      "  File \"C:\\Users\\bimas\\anaconda3\\lib\\inspect.py\", line 1499, in getframeinfo\n",
      "    filename = getsourcefile(frame) or getfile(frame)\n",
      "  File \"C:\\Users\\bimas\\anaconda3\\lib\\inspect.py\", line 709, in getsourcefile\n",
      "    if getattr(getmodule(object, filename), '__loader__', None) is not None:\n",
      "  File \"C:\\Users\\bimas\\anaconda3\\lib\\inspect.py\", line 755, in getmodule\n",
      "    os.path.realpath(f)] = module.__name__\n",
      "  File \"C:\\Users\\bimas\\anaconda3\\lib\\ntpath.py\", line 664, in realpath\n",
      "    if _getfinalpathname(spath) == path:\n",
      "KeyboardInterrupt\n"
     ]
    },
    {
     "ename": "TypeError",
     "evalue": "object of type 'NoneType' has no len()",
     "output_type": "error",
     "traceback": [
      "\u001b[1;31m---------------------------------------------------------------------------\u001b[0m",
      "\u001b[1;31mKeyboardInterrupt\u001b[0m                         Traceback (most recent call last)",
      "    \u001b[1;31m[... skipping hidden 1 frame]\u001b[0m\n",
      "\u001b[1;32m~\\AppData\\Local\\Temp/ipykernel_4996/1605362792.py\u001b[0m in \u001b[0;36m<module>\u001b[1;34m\u001b[0m\n\u001b[0;32m      2\u001b[0m \u001b[0mcallbacker\u001b[0m \u001b[1;33m=\u001b[0m \u001b[0mcallback\u001b[0m\u001b[1;33m(\u001b[0m\u001b[1;33m)\u001b[0m\u001b[1;33m\u001b[0m\u001b[1;33m\u001b[0m\u001b[0m\n\u001b[1;32m----> 3\u001b[1;33m model.train(\n\u001b[0m\u001b[0;32m      4\u001b[0m         \u001b[0msentence_corpus\u001b[0m\u001b[1;33m[\u001b[0m\u001b[1;33m:\u001b[0m\u001b[1;36m500\u001b[0m\u001b[1;33m]\u001b[0m\u001b[1;33m,\u001b[0m\u001b[1;33m\u001b[0m\u001b[1;33m\u001b[0m\u001b[0m\n",
      "\u001b[1;32m~\\anaconda3\\lib\\site-packages\\gensim\\models\\word2vec.py\u001b[0m in \u001b[0;36mtrain\u001b[1;34m(self, corpus_iterable, corpus_file, total_examples, total_words, epochs, start_alpha, end_alpha, word_count, queue_factor, report_delay, compute_loss, callbacks, **kwargs)\u001b[0m\n\u001b[0;32m   1082\u001b[0m         \u001b[0mself\u001b[0m\u001b[1;33m.\u001b[0m\u001b[0mtrain_count\u001b[0m \u001b[1;33m+=\u001b[0m \u001b[1;36m1\u001b[0m  \u001b[1;31m# number of times train() has been called\u001b[0m\u001b[1;33m\u001b[0m\u001b[1;33m\u001b[0m\u001b[0m\n\u001b[1;32m-> 1083\u001b[1;33m         \u001b[0mself\u001b[0m\u001b[1;33m.\u001b[0m\u001b[0m_clear_post_train\u001b[0m\u001b[1;33m(\u001b[0m\u001b[1;33m)\u001b[0m\u001b[1;33m\u001b[0m\u001b[1;33m\u001b[0m\u001b[0m\n\u001b[0m\u001b[0;32m   1084\u001b[0m \u001b[1;33m\u001b[0m\u001b[0m\n",
      "\u001b[1;32m~\\anaconda3\\lib\\site-packages\\gensim\\models\\fasttext.py\u001b[0m in \u001b[0;36m_clear_post_train\u001b[1;34m(self)\u001b[0m\n\u001b[0;32m    459\u001b[0m         \u001b[0msuper\u001b[0m\u001b[1;33m(\u001b[0m\u001b[0mFastText\u001b[0m\u001b[1;33m,\u001b[0m \u001b[0mself\u001b[0m\u001b[1;33m)\u001b[0m\u001b[1;33m.\u001b[0m\u001b[0m_clear_post_train\u001b[0m\u001b[1;33m(\u001b[0m\u001b[1;33m)\u001b[0m\u001b[1;33m\u001b[0m\u001b[1;33m\u001b[0m\u001b[0m\n\u001b[1;32m--> 460\u001b[1;33m         \u001b[0mself\u001b[0m\u001b[1;33m.\u001b[0m\u001b[0mwv\u001b[0m\u001b[1;33m.\u001b[0m\u001b[0madjust_vectors\u001b[0m\u001b[1;33m(\u001b[0m\u001b[1;33m)\u001b[0m  \u001b[1;31m# ensure composite-word vecs reflect latest training\u001b[0m\u001b[1;33m\u001b[0m\u001b[1;33m\u001b[0m\u001b[0m\n\u001b[0m\u001b[0;32m    461\u001b[0m \u001b[1;33m\u001b[0m\u001b[0m\n",
      "\u001b[1;32m~\\anaconda3\\lib\\site-packages\\gensim\\models\\fasttext.py\u001b[0m in \u001b[0;36madjust_vectors\u001b[1;34m(self)\u001b[0m\n\u001b[0;32m   1180\u001b[0m             \u001b[1;32mfor\u001b[0m \u001b[0mnh\u001b[0m \u001b[1;32min\u001b[0m \u001b[0mngram_buckets\u001b[0m\u001b[1;33m:\u001b[0m\u001b[1;33m\u001b[0m\u001b[1;33m\u001b[0m\u001b[0m\n\u001b[1;32m-> 1181\u001b[1;33m                 \u001b[0mself\u001b[0m\u001b[1;33m.\u001b[0m\u001b[0mvectors\u001b[0m\u001b[1;33m[\u001b[0m\u001b[0mi\u001b[0m\u001b[1;33m]\u001b[0m \u001b[1;33m+=\u001b[0m \u001b[0mself\u001b[0m\u001b[1;33m.\u001b[0m\u001b[0mvectors_ngrams\u001b[0m\u001b[1;33m[\u001b[0m\u001b[0mnh\u001b[0m\u001b[1;33m]\u001b[0m\u001b[1;33m\u001b[0m\u001b[1;33m\u001b[0m\u001b[0m\n\u001b[0m\u001b[0;32m   1182\u001b[0m             \u001b[0mself\u001b[0m\u001b[1;33m.\u001b[0m\u001b[0mvectors\u001b[0m\u001b[1;33m[\u001b[0m\u001b[0mi\u001b[0m\u001b[1;33m]\u001b[0m \u001b[1;33m/=\u001b[0m \u001b[0mlen\u001b[0m\u001b[1;33m(\u001b[0m\u001b[0mngram_buckets\u001b[0m\u001b[1;33m)\u001b[0m \u001b[1;33m+\u001b[0m \u001b[1;36m1\u001b[0m\u001b[1;33m\u001b[0m\u001b[1;33m\u001b[0m\u001b[0m\n",
      "\u001b[1;31mKeyboardInterrupt\u001b[0m: ",
      "\nDuring handling of the above exception, another exception occurred:\n",
      "\u001b[1;31mAttributeError\u001b[0m                            Traceback (most recent call last)",
      "\u001b[1;32m~\\anaconda3\\lib\\site-packages\\IPython\\core\\interactiveshell.py\u001b[0m in \u001b[0;36mshowtraceback\u001b[1;34m(self, exc_tuple, filename, tb_offset, exception_only, running_compiled_code)\u001b[0m\n\u001b[0;32m   2063\u001b[0m                         \u001b[1;31m# in the engines. This should return a list of strings.\u001b[0m\u001b[1;33m\u001b[0m\u001b[1;33m\u001b[0m\u001b[0m\n\u001b[1;32m-> 2064\u001b[1;33m                         \u001b[0mstb\u001b[0m \u001b[1;33m=\u001b[0m \u001b[0mvalue\u001b[0m\u001b[1;33m.\u001b[0m\u001b[0m_render_traceback_\u001b[0m\u001b[1;33m(\u001b[0m\u001b[1;33m)\u001b[0m\u001b[1;33m\u001b[0m\u001b[1;33m\u001b[0m\u001b[0m\n\u001b[0m\u001b[0;32m   2065\u001b[0m                     \u001b[1;32mexcept\u001b[0m \u001b[0mException\u001b[0m\u001b[1;33m:\u001b[0m\u001b[1;33m\u001b[0m\u001b[1;33m\u001b[0m\u001b[0m\n",
      "\u001b[1;31mAttributeError\u001b[0m: 'KeyboardInterrupt' object has no attribute '_render_traceback_'",
      "\nDuring handling of the above exception, another exception occurred:\n",
      "\u001b[1;31mTypeError\u001b[0m                                 Traceback (most recent call last)",
      "    \u001b[1;31m[... skipping hidden 1 frame]\u001b[0m\n",
      "\u001b[1;32m~\\anaconda3\\lib\\site-packages\\IPython\\core\\interactiveshell.py\u001b[0m in \u001b[0;36mshowtraceback\u001b[1;34m(self, exc_tuple, filename, tb_offset, exception_only, running_compiled_code)\u001b[0m\n\u001b[0;32m   2064\u001b[0m                         \u001b[0mstb\u001b[0m \u001b[1;33m=\u001b[0m \u001b[0mvalue\u001b[0m\u001b[1;33m.\u001b[0m\u001b[0m_render_traceback_\u001b[0m\u001b[1;33m(\u001b[0m\u001b[1;33m)\u001b[0m\u001b[1;33m\u001b[0m\u001b[1;33m\u001b[0m\u001b[0m\n\u001b[0;32m   2065\u001b[0m                     \u001b[1;32mexcept\u001b[0m \u001b[0mException\u001b[0m\u001b[1;33m:\u001b[0m\u001b[1;33m\u001b[0m\u001b[1;33m\u001b[0m\u001b[0m\n\u001b[1;32m-> 2066\u001b[1;33m                         stb = self.InteractiveTB.structured_traceback(etype,\n\u001b[0m\u001b[0;32m   2067\u001b[0m                                             value, tb, tb_offset=tb_offset)\n\u001b[0;32m   2068\u001b[0m \u001b[1;33m\u001b[0m\u001b[0m\n",
      "\u001b[1;32m~\\anaconda3\\lib\\site-packages\\IPython\\core\\ultratb.py\u001b[0m in \u001b[0;36mstructured_traceback\u001b[1;34m(self, etype, value, tb, tb_offset, number_of_lines_of_context)\u001b[0m\n\u001b[0;32m   1365\u001b[0m         \u001b[1;32melse\u001b[0m\u001b[1;33m:\u001b[0m\u001b[1;33m\u001b[0m\u001b[1;33m\u001b[0m\u001b[0m\n\u001b[0;32m   1366\u001b[0m             \u001b[0mself\u001b[0m\u001b[1;33m.\u001b[0m\u001b[0mtb\u001b[0m \u001b[1;33m=\u001b[0m \u001b[0mtb\u001b[0m\u001b[1;33m\u001b[0m\u001b[1;33m\u001b[0m\u001b[0m\n\u001b[1;32m-> 1367\u001b[1;33m         return FormattedTB.structured_traceback(\n\u001b[0m\u001b[0;32m   1368\u001b[0m             self, etype, value, tb, tb_offset, number_of_lines_of_context)\n\u001b[0;32m   1369\u001b[0m \u001b[1;33m\u001b[0m\u001b[0m\n",
      "\u001b[1;32m~\\anaconda3\\lib\\site-packages\\IPython\\core\\ultratb.py\u001b[0m in \u001b[0;36mstructured_traceback\u001b[1;34m(self, etype, value, tb, tb_offset, number_of_lines_of_context)\u001b[0m\n\u001b[0;32m   1265\u001b[0m         \u001b[1;32mif\u001b[0m \u001b[0mmode\u001b[0m \u001b[1;32min\u001b[0m \u001b[0mself\u001b[0m\u001b[1;33m.\u001b[0m\u001b[0mverbose_modes\u001b[0m\u001b[1;33m:\u001b[0m\u001b[1;33m\u001b[0m\u001b[1;33m\u001b[0m\u001b[0m\n\u001b[0;32m   1266\u001b[0m             \u001b[1;31m# Verbose modes need a full traceback\u001b[0m\u001b[1;33m\u001b[0m\u001b[1;33m\u001b[0m\u001b[0m\n\u001b[1;32m-> 1267\u001b[1;33m             return VerboseTB.structured_traceback(\n\u001b[0m\u001b[0;32m   1268\u001b[0m                 \u001b[0mself\u001b[0m\u001b[1;33m,\u001b[0m \u001b[0metype\u001b[0m\u001b[1;33m,\u001b[0m \u001b[0mvalue\u001b[0m\u001b[1;33m,\u001b[0m \u001b[0mtb\u001b[0m\u001b[1;33m,\u001b[0m \u001b[0mtb_offset\u001b[0m\u001b[1;33m,\u001b[0m \u001b[0mnumber_of_lines_of_context\u001b[0m\u001b[1;33m\u001b[0m\u001b[1;33m\u001b[0m\u001b[0m\n\u001b[0;32m   1269\u001b[0m             )\n",
      "\u001b[1;32m~\\anaconda3\\lib\\site-packages\\IPython\\core\\ultratb.py\u001b[0m in \u001b[0;36mstructured_traceback\u001b[1;34m(self, etype, evalue, etb, tb_offset, number_of_lines_of_context)\u001b[0m\n\u001b[0;32m   1122\u001b[0m         \u001b[1;34m\"\"\"Return a nice text document describing the traceback.\"\"\"\u001b[0m\u001b[1;33m\u001b[0m\u001b[1;33m\u001b[0m\u001b[0m\n\u001b[0;32m   1123\u001b[0m \u001b[1;33m\u001b[0m\u001b[0m\n\u001b[1;32m-> 1124\u001b[1;33m         formatted_exception = self.format_exception_as_a_whole(etype, evalue, etb, number_of_lines_of_context,\n\u001b[0m\u001b[0;32m   1125\u001b[0m                                                                tb_offset)\n\u001b[0;32m   1126\u001b[0m \u001b[1;33m\u001b[0m\u001b[0m\n",
      "\u001b[1;32m~\\anaconda3\\lib\\site-packages\\IPython\\core\\ultratb.py\u001b[0m in \u001b[0;36mformat_exception_as_a_whole\u001b[1;34m(self, etype, evalue, etb, number_of_lines_of_context, tb_offset)\u001b[0m\n\u001b[0;32m   1080\u001b[0m \u001b[1;33m\u001b[0m\u001b[0m\n\u001b[0;32m   1081\u001b[0m \u001b[1;33m\u001b[0m\u001b[0m\n\u001b[1;32m-> 1082\u001b[1;33m         \u001b[0mlast_unique\u001b[0m\u001b[1;33m,\u001b[0m \u001b[0mrecursion_repeat\u001b[0m \u001b[1;33m=\u001b[0m \u001b[0mfind_recursion\u001b[0m\u001b[1;33m(\u001b[0m\u001b[0morig_etype\u001b[0m\u001b[1;33m,\u001b[0m \u001b[0mevalue\u001b[0m\u001b[1;33m,\u001b[0m \u001b[0mrecords\u001b[0m\u001b[1;33m)\u001b[0m\u001b[1;33m\u001b[0m\u001b[1;33m\u001b[0m\u001b[0m\n\u001b[0m\u001b[0;32m   1083\u001b[0m \u001b[1;33m\u001b[0m\u001b[0m\n\u001b[0;32m   1084\u001b[0m         \u001b[0mframes\u001b[0m \u001b[1;33m=\u001b[0m \u001b[0mself\u001b[0m\u001b[1;33m.\u001b[0m\u001b[0mformat_records\u001b[0m\u001b[1;33m(\u001b[0m\u001b[0mrecords\u001b[0m\u001b[1;33m,\u001b[0m \u001b[0mlast_unique\u001b[0m\u001b[1;33m,\u001b[0m \u001b[0mrecursion_repeat\u001b[0m\u001b[1;33m)\u001b[0m\u001b[1;33m\u001b[0m\u001b[1;33m\u001b[0m\u001b[0m\n",
      "\u001b[1;32m~\\anaconda3\\lib\\site-packages\\IPython\\core\\ultratb.py\u001b[0m in \u001b[0;36mfind_recursion\u001b[1;34m(etype, value, records)\u001b[0m\n\u001b[0;32m    380\u001b[0m     \u001b[1;31m# first frame (from in to out) that looks different.\u001b[0m\u001b[1;33m\u001b[0m\u001b[1;33m\u001b[0m\u001b[0m\n\u001b[0;32m    381\u001b[0m     \u001b[1;32mif\u001b[0m \u001b[1;32mnot\u001b[0m \u001b[0mis_recursion_error\u001b[0m\u001b[1;33m(\u001b[0m\u001b[0metype\u001b[0m\u001b[1;33m,\u001b[0m \u001b[0mvalue\u001b[0m\u001b[1;33m,\u001b[0m \u001b[0mrecords\u001b[0m\u001b[1;33m)\u001b[0m\u001b[1;33m:\u001b[0m\u001b[1;33m\u001b[0m\u001b[1;33m\u001b[0m\u001b[0m\n\u001b[1;32m--> 382\u001b[1;33m         \u001b[1;32mreturn\u001b[0m \u001b[0mlen\u001b[0m\u001b[1;33m(\u001b[0m\u001b[0mrecords\u001b[0m\u001b[1;33m)\u001b[0m\u001b[1;33m,\u001b[0m \u001b[1;36m0\u001b[0m\u001b[1;33m\u001b[0m\u001b[1;33m\u001b[0m\u001b[0m\n\u001b[0m\u001b[0;32m    383\u001b[0m \u001b[1;33m\u001b[0m\u001b[0m\n\u001b[0;32m    384\u001b[0m     \u001b[1;31m# Select filename, lineno, func_name to track frames with\u001b[0m\u001b[1;33m\u001b[0m\u001b[1;33m\u001b[0m\u001b[0m\n",
      "\u001b[1;31mTypeError\u001b[0m: object of type 'NoneType' has no len()"
     ]
    }
   ],
   "source": [
    "print(\"training Word2Vec...\")\n",
    "callbacker = callback()\n",
    "model.train(\n",
    "        sentence_corpus[:500],\n",
    "#         epochs=model.iter,\n",
    "        epochs=20,        \n",
    "    total_examples=model.corpus_count,\n",
    "        compute_loss=True,\n",
    "        callbacks=[callbacker]\n",
    "    )"
   ]
  },
  {
   "cell_type": "code",
   "execution_count": 16,
   "id": "1e277449",
   "metadata": {},
   "outputs": [
    {
     "data": {
      "text/plain": [
       "0.0"
      ]
     },
     "execution_count": 16,
     "metadata": {},
     "output_type": "execute_result"
    }
   ],
   "source": [
    "model.get_latest_training_loss()"
   ]
  },
  {
   "cell_type": "code",
   "execution_count": 74,
   "id": "ef3695fb",
   "metadata": {},
   "outputs": [
    {
     "data": {
      "text/html": [
       "<div>\n",
       "<style scoped>\n",
       "    .dataframe tbody tr th:only-of-type {\n",
       "        vertical-align: middle;\n",
       "    }\n",
       "\n",
       "    .dataframe tbody tr th {\n",
       "        vertical-align: top;\n",
       "    }\n",
       "\n",
       "    .dataframe thead th {\n",
       "        text-align: right;\n",
       "    }\n",
       "</style>\n",
       "<table border=\"1\" class=\"dataframe\">\n",
       "  <thead>\n",
       "    <tr style=\"text-align: right;\">\n",
       "      <th></th>\n",
       "      <th>text</th>\n",
       "      <th>label</th>\n",
       "      <th>lemmas</th>\n",
       "    </tr>\n",
       "  </thead>\n",
       "  <tbody>\n",
       "    <tr>\n",
       "      <th>0</th>\n",
       "      <td>@first_timee хоть я и школота, но поверь, у на...</td>\n",
       "      <td>positive</td>\n",
       "      <td>first_timee хоть я и школотый но поверь у мы т...</td>\n",
       "    </tr>\n",
       "    <tr>\n",
       "      <th>1</th>\n",
       "      <td>Да, все-таки он немного похож на него. Но мой ...</td>\n",
       "      <td>positive</td>\n",
       "      <td>да всё таки он немного похожий на он но мой ма...</td>\n",
       "    </tr>\n",
       "    <tr>\n",
       "      <th>2</th>\n",
       "      <td>RT @KatiaCheh: Ну ты идиотка) я испугалась за ...</td>\n",
       "      <td>positive</td>\n",
       "      <td>rt katiacheh: ну ты идиотка) я испугаться за т...</td>\n",
       "    </tr>\n",
       "    <tr>\n",
       "      <th>3</th>\n",
       "      <td>RT @digger2912: \"Кто то в углу сидит и погибае...</td>\n",
       "      <td>positive</td>\n",
       "      <td>rt digger : кто то в угол сидеть и погибать от...</td>\n",
       "    </tr>\n",
       "    <tr>\n",
       "      <th>4</th>\n",
       "      <td>@irina_dyshkant Вот что значит страшилка :D\\nН...</td>\n",
       "      <td>positive</td>\n",
       "      <td>irina_dyshkant вот что значит страшилка :d но ...</td>\n",
       "    </tr>\n",
       "  </tbody>\n",
       "</table>\n",
       "</div>"
      ],
      "text/plain": [
       "                                                text     label  \\\n",
       "0  @first_timee хоть я и школота, но поверь, у на...  positive   \n",
       "1  Да, все-таки он немного похож на него. Но мой ...  positive   \n",
       "2  RT @KatiaCheh: Ну ты идиотка) я испугалась за ...  positive   \n",
       "3  RT @digger2912: \"Кто то в углу сидит и погибае...  positive   \n",
       "4  @irina_dyshkant Вот что значит страшилка :D\\nН...  positive   \n",
       "\n",
       "                                              lemmas  \n",
       "0  first_timee хоть я и школотый но поверь у мы т...  \n",
       "1  да всё таки он немного похожий на он но мой ма...  \n",
       "2  rt katiacheh: ну ты идиотка) я испугаться за т...  \n",
       "3  rt digger : кто то в угол сидеть и погибать от...  \n",
       "4  irina_dyshkant вот что значит страшилка :d но ...  "
      ]
     },
     "execution_count": 74,
     "metadata": {},
     "output_type": "execute_result"
    }
   ],
   "source": [
    "data = pd.read_csv('twitter.zip')\n",
    "data.head()"
   ]
  },
  {
   "cell_type": "code",
   "execution_count": 75,
   "id": "703a4a2e-3f6b-498e-a46f-1963bf152748",
   "metadata": {},
   "outputs": [],
   "source": [
    "emb = [sg_model.get_sentence_vector(line) for line in data[\"lemmas\"]]"
   ]
  },
  {
   "cell_type": "code",
   "execution_count": 76,
   "id": "23d424dd-a462-4c15-922b-7cf126c74405",
   "metadata": {},
   "outputs": [],
   "source": [
    "labels = [1 if label == 'positive' else 0 for label in data['label']]"
   ]
  },
  {
   "cell_type": "code",
   "execution_count": 77,
   "id": "56681e6d",
   "metadata": {},
   "outputs": [
    {
     "data": {
      "text/plain": [
       "True"
      ]
     },
     "execution_count": 77,
     "metadata": {},
     "output_type": "execute_result"
    }
   ],
   "source": [
    "len(labels) == len(emb)"
   ]
  },
  {
   "cell_type": "code",
   "execution_count": 78,
   "id": "69078609-26f8-46ff-acbd-a7b3744ab26d",
   "metadata": {},
   "outputs": [],
   "source": [
    "from sklearn.model_selection import train_test_split\n",
    "from sklearn.linear_model import LogisticRegression"
   ]
  },
  {
   "cell_type": "code",
   "execution_count": 79,
   "id": "65538228",
   "metadata": {},
   "outputs": [],
   "source": [
    "train_data, test_data, train_labels, test_labels = train_test_split(emb, labels, test_size=0.3, shuffle=True, stratify=labels)"
   ]
  },
  {
   "cell_type": "code",
   "execution_count": 80,
   "id": "693b5647-3867-4c4f-b7fb-394ae8809401",
   "metadata": {},
   "outputs": [
    {
     "data": {
      "text/plain": [
       "LogisticRegression(n_jobs=-1)"
      ]
     },
     "execution_count": 80,
     "metadata": {},
     "output_type": "execute_result"
    }
   ],
   "source": [
    "lr = LogisticRegression(n_jobs=-1)\n",
    "lr.fit(train_data, train_labels)"
   ]
  },
  {
   "cell_type": "code",
   "execution_count": 81,
   "id": "ebf55906-52aa-4f6f-b524-3fb42f7f1a5b",
   "metadata": {},
   "outputs": [],
   "source": [
    "from sklearn.metrics import roc_auc_score"
   ]
  },
  {
   "cell_type": "code",
   "execution_count": 85,
   "id": "ca87c543-c70f-48be-85ca-cd6214801634",
   "metadata": {},
   "outputs": [
    {
     "name": "stdout",
     "output_type": "stream",
     "text": [
      "Logistic regression ROC-AUC: 0.84378918855271\n"
     ]
    }
   ],
   "source": [
    "lr_pred = lr.decision_function(test_data)\n",
    "print('Logistic regression ROC-AUC:', roc_auc_score(test_labels, lr_pred))"
   ]
  },
  {
   "cell_type": "markdown",
   "id": "c24d4f0e-142b-4fbb-ac5e-b281c647feab",
   "metadata": {},
   "source": [
    "# Дообучение "
   ]
  },
  {
   "cell_type": "code",
   "execution_count": 32,
   "id": "2c01c06c-11a3-4ca3-88a9-9ef29f41709e",
   "metadata": {},
   "outputs": [
    {
     "name": "stderr",
     "output_type": "stream",
     "text": [
      "--2022-05-26 01:15:10--  https://raw.githubusercontent.com/ancatmara/data-science-nlp/master/data/w2v/train/alice.txt\n",
      "Resolving raw.githubusercontent.com (raw.githubusercontent.com)... 185.199.108.133, 185.199.110.133, 185.199.109.133, ...\n",
      "Connecting to raw.githubusercontent.com (raw.githubusercontent.com)|185.199.108.133|:443... connected.\n",
      "HTTP request sent, awaiting response... 200 OK\n",
      "Length: 167631 (164K) [text/plain]\n",
      "Saving to: 'alice.txt.1'\n",
      "\n",
      "     0K .......... .......... .......... .......... .......... 30%  444K 0s\n",
      "    50K .......... .......... .......... .......... .......... 61% 1.65M 0s\n",
      "   100K .......... .......... .......... .......... .......... 91%  757K 0s\n",
      "   150K .......... ...                                        100% 5.72M=0.2s\n",
      "\n",
      "2022-05-26 01:15:11 (777 KB/s) - 'alice.txt.1' saved [167631/167631]\n",
      "\n"
     ]
    }
   ],
   "source": [
    "!wget https://raw.githubusercontent.com/ancatmara/data-science-nlp/master/data/w2v/train/alice.txt"
   ]
  },
  {
   "cell_type": "code",
   "execution_count": 36,
   "id": "90de74d0-753d-4bf9-85c6-fca32ae3feec",
   "metadata": {},
   "outputs": [],
   "source": [
    "import re\n",
    "from nltk.tokenize import sent_tokenize, RegexpTokenizer  # токенизаторы из NLTK"
   ]
  },
  {
   "cell_type": "code",
   "execution_count": 37,
   "id": "cddf6503-9b9a-4f19-87cc-ce16ae5cac52",
   "metadata": {},
   "outputs": [
    {
     "name": "stdout",
     "output_type": "stream",
     "text": [
      "[['through', 'the', 'looking-glass', 'by', 'lewis', 'carroll', 'chapter', 'i', 'looking-glass', 'house', 'one', 'thing', 'was', 'certain', 'that', 'the', 'white', 'kitten', 'had', 'had', 'nothing', 'to', 'do', 'with', 'it', '', 'it', 'was', 'the', 'black', 'kitten’s', 'fault', 'entirely'], ['for', 'the', 'white', 'kitten', 'had', 'been', 'having', 'its', 'face', 'washed', 'by', 'the', 'old', 'cat', 'for', 'the', 'last', 'quarter', 'of', 'an', 'hour', 'and', 'bearing', 'it', 'pretty', 'well', 'considering', 'so', 'you', 'see', 'that', 'it', 'couldn’t', 'have', 'had', 'any', 'hand', 'in', 'the', 'mischief']]\n"
     ]
    }
   ],
   "source": [
    "with open(\"alice.txt\", 'r', encoding='utf-8') as f:\n",
    "    text = f.read()\n",
    "\n",
    "# убираем переносы строк, токенизируем текст\n",
    "\n",
    "text = re.sub('\\n', ' ', text)\n",
    "sents = sent_tokenize(text)\n",
    "\n",
    "punct = '!\"#$%&()*+,-./:;<=>?@[\\]^_`{|}~„“«»†*—/\\-‘’'\n",
    "clean_sents = []\n",
    "\n",
    "# убираем всю пунктуацию и делим текст на слова по пробелу\n",
    "for sent in sents:\n",
    "    s = [w.lower().strip(punct) for w in sent.split()]\n",
    "    clean_sents.append(s)\n",
    "    \n",
    "print(clean_sents[:2])"
   ]
  },
  {
   "cell_type": "code",
   "execution_count": 38,
   "id": "14771e78-28f5-4572-b9e0-21ce230db85c",
   "metadata": {},
   "outputs": [
    {
     "data": {
      "text/plain": [
       "<fasttext.FastText._FastText at 0x22937debd30>"
      ]
     },
     "execution_count": 38,
     "metadata": {},
     "output_type": "execute_result"
    }
   ],
   "source": [
    "fasttext.train_unsupervised(input='')"
   ]
  },
  {
   "cell_type": "code",
   "execution_count": 3,
   "id": "51b6237b-a162-448e-8ea5-19b2e8aee517",
   "metadata": {},
   "outputs": [],
   "source": [
    "import fasttext"
   ]
  },
  {
   "cell_type": "code",
   "execution_count": 1,
   "id": "35b20e1a-0914-4e2f-b879-09986767038a",
   "metadata": {},
   "outputs": [],
   "source": [
    "# sg_model = fasttext.train_unsupervised(input='perfumery.txt', dim=300, lr=0.6, word_ngrams=3, pretrainedVectors='cc.ru.300.vec')"
   ]
  },
  {
   "cell_type": "code",
   "execution_count": 57,
   "id": "4726f1ea-166a-41af-b0a9-1e4e9b63fa4f",
   "metadata": {},
   "outputs": [],
   "source": [
    "compression_opts = dict(method='zip', archive_name='perfumery.zip')  \n",
    "tables.to_csv('perfumery.zip', index=False, compression=compression_opts) "
   ]
  },
  {
   "cell_type": "code",
   "execution_count": 74,
   "id": "ffc071da-cbd3-4119-bebb-ea5e6f2c3ffd",
   "metadata": {},
   "outputs": [],
   "source": [
    "with open(\"data/processed/perfumery.txt\", \"w\", encoding='UTF-8') as file:\n",
    "    for line in tables.comment_text.values:\n",
    "        file.write(line + '\\n')"
   ]
  },
  {
   "cell_type": "code",
   "execution_count": null,
   "id": "71daa415-652b-4560-b64d-b67d13856e7c",
   "metadata": {},
   "outputs": [],
   "source": [
    "model = fasttext.train_unsupervised(input='perfumery.txt', dim=300, lr=0.07, word_ngrams=3, pretrainedVectors='cc.ru.300.vec', bucket=300000, lrUpdateRate=1)"
   ]
  }
 ],
 "metadata": {
  "kernelspec": {
   "display_name": "Python 3 (ipykernel)",
   "language": "python",
   "name": "python3"
  },
  "language_info": {
   "codemirror_mode": {
    "name": "ipython",
    "version": 3
   },
   "file_extension": ".py",
   "mimetype": "text/x-python",
   "name": "python",
   "nbconvert_exporter": "python",
   "pygments_lexer": "ipython3",
   "version": "3.9.7"
  },
  "varInspector": {
   "cols": {
    "lenName": 16,
    "lenType": 16,
    "lenVar": 40
   },
   "kernels_config": {
    "python": {
     "delete_cmd_postfix": "",
     "delete_cmd_prefix": "del ",
     "library": "var_list.py",
     "varRefreshCmd": "print(var_dic_list())"
    },
    "r": {
     "delete_cmd_postfix": ") ",
     "delete_cmd_prefix": "rm(",
     "library": "var_list.r",
     "varRefreshCmd": "cat(var_dic_list()) "
    }
   },
   "types_to_exclude": [
    "module",
    "function",
    "builtin_function_or_method",
    "instance",
    "_Feature"
   ],
   "window_display": false
  }
 },
 "nbformat": 4,
 "nbformat_minor": 5
}
